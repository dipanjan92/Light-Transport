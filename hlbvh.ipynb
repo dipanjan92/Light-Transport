{
 "cells": [
  {
   "cell_type": "code",
   "execution_count": 1,
   "metadata": {
    "collapsed": true,
    "ExecuteTime": {
     "end_time": "2025-02-13T02:17:24.981936Z",
     "start_time": "2025-02-13T02:17:24.501243Z"
    }
   },
   "outputs": [],
   "source": [
    "import time\n",
    "import jax\n",
    "import jax.numpy as jnp\n",
    "from utils.io import load_obj, create_triangle_arrays"
   ]
  },
  {
   "cell_type": "code",
   "execution_count": 2,
   "outputs": [],
   "source": [
    "#load object\n",
    "\n",
    "square_path = \"objects/square.obj\"\n",
    "sphere_path = \"objects/sphere.obj\"\n",
    "cube_path = \"objects/cube.obj\"\n",
    "cylinder_path = \"objects/cylinder.obj\"\n",
    "rabbit = \"objects/rabbit.obj\"\n",
    "carrot = \"objects/carrot.obj\"\n",
    "plane = \"objects/plane.obj\"\n",
    "squirrel = \"objects/squirrel.obj\"\n",
    "tree = \"objects/broad_deciduous_tree_green_leaves.obj\"\n",
    "ant = \"objects/ant.obj\"\n",
    "fireball = \"objects/fireball.obj\"\n",
    "dragon = \"objects/dragon.obj\"\n",
    "crawler = \"objects/crawler.obj\"\n",
    "cornellbox = \"objects/cornellbox.obj\"\n",
    "\n",
    "\n",
    "file_path = crawler"
   ],
   "metadata": {
    "collapsed": false,
    "ExecuteTime": {
     "end_time": "2025-02-13T02:17:24.982089Z",
     "start_time": "2025-02-13T02:17:24.978744Z"
    }
   }
  },
  {
   "cell_type": "code",
   "execution_count": 3,
   "outputs": [
    {
     "data": {
      "text/plain": "{'vertex_1': Array([[-4.91896 ,  5.792907,  2.260844],\n        [-4.921619,  5.789971,  2.260844],\n        [-4.930886,  5.779743,  2.2332  ],\n        ...,\n        [-4.726382,  7.067084,  1.800162],\n        [-4.736981,  7.067084,  2.323453],\n        [-4.726382,  7.067084,  1.800162]], dtype=float32),\n 'vertex_2': Array([[-4.941784,  5.813587,  2.260844],\n        [-4.944443,  5.810652,  2.260844],\n        [-4.953711,  5.800424,  2.2332  ],\n        ...,\n        [-4.726382,  7.067084,  2.323453],\n        [-4.726382,  7.067084,  2.323453],\n        [-4.736981,  7.067084,  1.800162]], dtype=float32),\n 'vertex_3': Array([[-4.944443,  5.810652,  2.260844],\n        [-4.953711,  5.800424,  2.2332  ],\n        [-4.953711,  5.800424,  2.096386],\n        ...,\n        [-4.736981,  7.067084,  2.323453],\n        [-4.726382,  7.23843 ,  2.323453],\n        [-4.736981,  7.23843 ,  1.800162]], dtype=float32),\n 'centroid': Array([[-4.9350624,  5.8057156,  2.260844 ],\n        [-4.9399242,  5.8003488,  2.2516294],\n        [-4.9461026,  5.793531 ,  2.1875954],\n        ...,\n        [-4.729915 ,  7.067084 ,  2.1490226],\n        [-4.729915 ,  7.124199 ,  2.323453 ],\n        [-4.733448 ,  7.124199 ,  1.800162 ]], dtype=float32),\n 'normal': Array([[ 0.        ,  0.        ,  1.        ],\n        [-0.6007404 , -0.6630015 ,  0.44669908],\n        [-0.6714397 , -0.7410591 ,  0.        ],\n        ...,\n        [ 0.        , -1.        ,  0.        ],\n        [ 0.        ,  0.        ,  1.        ],\n        [ 0.        ,  0.        , -1.        ]], dtype=float32),\n 'edge_1': Array([[-0.02282381,  0.02067995,  0.        ],\n        [-0.02282429,  0.0206809 ,  0.        ],\n        [-0.02282524,  0.0206809 ,  0.        ],\n        ...,\n        [ 0.        ,  0.        ,  0.523291  ],\n        [ 0.01059914,  0.        ,  0.        ],\n        [-0.01059914,  0.        ,  0.        ]], dtype=float32),\n 'edge_2': Array([[-0.02548313,  0.01774454,  0.        ],\n        [-0.03209209,  0.01045322, -0.02764392],\n        [-0.02282524,  0.0206809 , -0.13681412],\n        ...,\n        [-0.01059914,  0.        ,  0.523291  ],\n        [ 0.01059914,  0.17134619,  0.        ],\n        [-0.01059914,  0.17134619,  0.        ]], dtype=float32)}"
     },
     "execution_count": 3,
     "metadata": {},
     "output_type": "execute_result"
    }
   ],
   "source": [
    "vertices, faces = load_obj(file_path)\n",
    "triangles = create_triangle_arrays(vertices, faces)\n",
    "triangles"
   ],
   "metadata": {
    "collapsed": false,
    "ExecuteTime": {
     "end_time": "2025-02-13T02:17:27.061179Z",
     "start_time": "2025-02-13T02:17:24.978832Z"
    }
   }
  },
  {
   "cell_type": "code",
   "execution_count": 4,
   "outputs": [],
   "source": [
    "from accelerators.bvh import create_primitives, create_bvh_primitives, pack_primitives\n",
    "\n",
    "# Create primitives (the geometry) and the BVH primitives (geometry with bounds and index).\n",
    "primitives = create_primitives(triangles)\n",
    "\n",
    "bvh_primitives = create_bvh_primitives(triangles)"
   ],
   "metadata": {
    "collapsed": false,
    "ExecuteTime": {
     "end_time": "2025-02-13T02:18:19.191778Z",
     "start_time": "2025-02-13T02:17:27.061474Z"
    }
   }
  },
  {
   "cell_type": "code",
   "execution_count": 5,
   "outputs": [
    {
     "name": "stdout",
     "output_type": "stream",
     "text": [
      "Elapsed (with compilation) = 172.81642079353333\n"
     ]
    }
   ],
   "source": [
    "from accelerators.hlbvh import build_hlbvh\n",
    "from accelerators.bvh import build_bvh\n",
    "\n",
    "# Choose a splitting method:\n",
    "#  0 = Surface Area Heuristic (SAH)\n",
    "#  1 = Middle split\n",
    "#  2 = Equal counts (median)\n",
    "split_method = 0\n",
    "\n",
    "# Build the BVH. The build_bvh routine expects:\n",
    "#   - primitives: list of primitives for intersection testing.\n",
    "#   - bvh_primitives: list of helper objects (with .bounds and .prim_num).\n",
    "#   - _start, _end: integer indices into the bvh_primitives list.\n",
    "#   - ordered_prims: an initially empty list to be filled with primitives in BVH order.\n",
    "#   - split_method: integer specifying the split method.\n",
    "start_t = time.time()\n",
    "total_nodes = [0]\n",
    "ordered_prims = []  # Will be filled in-order.\n",
    "bvh_root = build_hlbvh(primitives, bvh_primitives, ordered_prims, total_nodes)\n",
    "packed_prims = pack_primitives(ordered_prims)\n",
    "end_t = time.time()\n",
    "print(\"Elapsed (with compilation) = %s\" % (end_t - start_t))"
   ],
   "metadata": {
    "collapsed": false,
    "ExecuteTime": {
     "end_time": "2025-02-13T02:21:12.044336Z",
     "start_time": "2025-02-13T02:18:19.190007Z"
    }
   }
  },
  {
   "cell_type": "code",
   "execution_count": 6,
   "outputs": [
    {
     "name": "stdout",
     "output_type": "stream",
     "text": [
      "Elapsed (with compilation) = 0.43255114555358887\n"
     ]
    }
   ],
   "source": [
    "from accelerators.hlbvh import flatten_bvh, pack_linear_bvh\n",
    "\n",
    "# Flatten the BVH tree into a linear array for traversal.\n",
    "# The root node is at index 0.\n",
    "start_t = time.time()\n",
    "linear_bvh_list = flatten_bvh(bvh_root)\n",
    "linear_bvh = pack_linear_bvh(linear_bvh_list)\n",
    "end_t = time.time()\n",
    "print(\"Elapsed (with compilation) = %s\" % (end_t - start_t))"
   ],
   "metadata": {
    "collapsed": false,
    "ExecuteTime": {
     "end_time": "2025-02-13T02:21:12.462156Z",
     "start_time": "2025-02-13T02:21:12.053606Z"
    }
   }
  },
  {
   "cell_type": "code",
   "execution_count": 7,
   "outputs": [
    {
     "name": "stdout",
     "output_type": "stream",
     "text": [
      "BVH build complete.\n"
     ]
    },
    {
     "ename": "TypeError",
     "evalue": "object of type 'BVHNode' has no len()",
     "output_type": "error",
     "traceback": [
      "\u001B[0;31m---------------------------------------------------------------------------\u001B[0m",
      "\u001B[0;31mTypeError\u001B[0m                                 Traceback (most recent call last)",
      "Cell \u001B[0;32mIn[7], line 2\u001B[0m\n\u001B[1;32m      1\u001B[0m \u001B[38;5;28mprint\u001B[39m(\u001B[38;5;124m\"\u001B[39m\u001B[38;5;124mBVH build complete.\u001B[39m\u001B[38;5;124m\"\u001B[39m)\n\u001B[0;32m----> 2\u001B[0m \u001B[38;5;28mprint\u001B[39m(\u001B[38;5;124m\"\u001B[39m\u001B[38;5;124mNumber of BVH tree nodes:\u001B[39m\u001B[38;5;124m\"\u001B[39m, \u001B[38;5;28;43mlen\u001B[39;49m\u001B[43m(\u001B[49m\u001B[43mbvh_root\u001B[49m\u001B[43m)\u001B[49m)\n\u001B[1;32m      3\u001B[0m \u001B[38;5;28mprint\u001B[39m(\u001B[38;5;124m\"\u001B[39m\u001B[38;5;124mNumber of linear BVH nodes:\u001B[39m\u001B[38;5;124m\"\u001B[39m, \u001B[38;5;28mlen\u001B[39m(linear_bvh_list))\n\u001B[1;32m      4\u001B[0m \u001B[38;5;28mprint\u001B[39m(\u001B[38;5;124m\"\u001B[39m\u001B[38;5;124mNumber of ordered primitives:\u001B[39m\u001B[38;5;124m\"\u001B[39m, \u001B[38;5;28mlen\u001B[39m(ordered_prims))\n",
      "\u001B[0;31mTypeError\u001B[0m: object of type 'BVHNode' has no len()"
     ]
    }
   ],
   "source": [
    "\n",
    "print(\"BVH build complete.\")\n",
    "print(\"Number of BVH tree nodes:\", len(bvh_root))\n",
    "print(\"Number of linear BVH nodes:\", len(linear_bvh_list))\n",
    "print(\"Number of ordered primitives:\", len(ordered_prims))"
   ],
   "metadata": {
    "collapsed": false,
    "ExecuteTime": {
     "end_time": "2025-02-13T02:21:12.561813Z",
     "start_time": "2025-02-13T02:21:12.461076Z"
    }
   }
  },
  {
   "cell_type": "code",
   "execution_count": null,
   "outputs": [],
   "source": [
    "# from tests.test_bvh import print_bvh_tree\n",
    "#\n",
    "# print_bvh_tree(nodes, 0)"
   ],
   "metadata": {
    "collapsed": false,
    "ExecuteTime": {
     "start_time": "2025-02-13T02:21:12.559429Z"
    }
   }
  },
  {
   "cell_type": "code",
   "execution_count": null,
   "outputs": [],
   "source": [
    "# from tests.test_bvh import print_linear_bvh\n",
    "#\n",
    "# print_linear_bvh(linear_bvh_list)"
   ],
   "metadata": {
    "collapsed": false,
    "ExecuteTime": {
     "start_time": "2025-02-13T02:21:12.560032Z"
    }
   }
  },
  {
   "cell_type": "code",
   "execution_count": null,
   "outputs": [],
   "source": [],
   "metadata": {
    "collapsed": false,
    "ExecuteTime": {
     "start_time": "2025-02-13T02:21:12.561136Z"
    }
   }
  },
  {
   "cell_type": "code",
   "execution_count": null,
   "outputs": [],
   "source": [],
   "metadata": {
    "collapsed": false
   }
  },
  {
   "cell_type": "code",
   "execution_count": null,
   "outputs": [],
   "source": [
    "from base.renderer import create_default_camera, render\n",
    "\n",
    "# Create a default camera that frames the entire object.\n",
    "width = 300\n",
    "height = 300\n",
    "fov = 45.0  # vertical field-of-view in degrees\n",
    "camera = create_default_camera(triangles, width, height, fov)\n",
    "\n",
    "start_t = time.time()\n",
    "\n",
    "# Render the image.\n",
    "image = render(linear_bvh, packed_prims, camera, batch_size=1024*1)\n",
    "\n",
    "\n",
    "\n",
    "\n",
    "\n",
    "# Display the image using matplotlib.\n",
    "import matplotlib.pyplot as plt\n",
    "\n",
    "plt.imshow(image)\n",
    "plt.title(\"Simple Render\")\n",
    "plt.axis(\"off\")\n",
    "plt.show()\n",
    "\n",
    "end_t = time.time()\n",
    "print(\"Elapsed (with compilation) = %s\" % (end_t - start_t))"
   ],
   "metadata": {
    "collapsed": false
   }
  },
  {
   "cell_type": "code",
   "execution_count": 18,
   "outputs": [],
   "source": [],
   "metadata": {
    "collapsed": false,
    "ExecuteTime": {
     "end_time": "2025-02-12T23:42:39.879090Z",
     "start_time": "2025-02-12T23:42:39.877173Z"
    }
   }
  },
  {
   "cell_type": "code",
   "execution_count": null,
   "outputs": [],
   "source": [],
   "metadata": {
    "collapsed": false
   }
  },
  {
   "cell_type": "code",
   "execution_count": null,
   "outputs": [],
   "source": [],
   "metadata": {
    "collapsed": false
   }
  },
  {
   "cell_type": "code",
   "execution_count": null,
   "outputs": [],
   "source": [],
   "metadata": {
    "collapsed": false
   }
  },
  {
   "cell_type": "code",
   "execution_count": null,
   "outputs": [],
   "source": [],
   "metadata": {
    "collapsed": false
   }
  },
  {
   "cell_type": "code",
   "execution_count": null,
   "outputs": [],
   "source": [],
   "metadata": {
    "collapsed": false
   }
  },
  {
   "cell_type": "code",
   "execution_count": null,
   "outputs": [],
   "source": [],
   "metadata": {
    "collapsed": false
   }
  },
  {
   "cell_type": "code",
   "execution_count": null,
   "outputs": [],
   "source": [],
   "metadata": {
    "collapsed": false
   }
  },
  {
   "cell_type": "code",
   "execution_count": null,
   "outputs": [],
   "source": [],
   "metadata": {
    "collapsed": false
   }
  },
  {
   "cell_type": "code",
   "execution_count": 38,
   "outputs": [
    {
     "name": "stdout",
     "output_type": "stream",
     "text": [
      "Ray origin: [ 0.25  0.25 -1.  ]\n",
      "Ray direction: [0. 0. 1.]\n",
      "Triangle vertices: [0. 0. 0.] [1. 0. 0.] [0. 1. 0.]\n",
      "Intersection hit: True\n",
      "Intersection t: 1.0\n"
     ]
    }
   ],
   "source": [
    "from primitives.triangle import intersect_triangle\n",
    "from primitives.ray import Ray\n",
    "\n",
    "# Define a simple triangle in the XY plane.\n",
    "v0 = jnp.array([0.0, 0.0, 0.0])\n",
    "v1 = jnp.array([1.0, 0.0, 0.0])\n",
    "v2 = jnp.array([0.0, 1.0, 0.0])\n",
    "\n",
    "# Define a ray that starts at (0.25, 0.25, -1) and points in the +Z direction.\n",
    "ray_origin = jnp.array([0.25, 0.25, -1.0])\n",
    "ray_direction = jnp.array([0.0, 0.0, 1.0])\n",
    "ray = Ray(origin=ray_origin, direction=ray_direction)\n",
    "\n",
    "t_max = 1e10  # some very large distance\n",
    "hit, t = intersect_triangle(ray_origin, ray_direction, v0, v1, v2, t_max)\n",
    "\n",
    "# Print the results.\n",
    "print(\"Ray origin:\", ray_origin)\n",
    "print(\"Ray direction:\", ray_direction)\n",
    "print(\"Triangle vertices:\", v0, v1, v2)\n",
    "print(\"Intersection hit:\", hit)\n",
    "print(\"Intersection t:\", t)"
   ],
   "metadata": {
    "collapsed": false,
    "ExecuteTime": {
     "end_time": "2025-02-12T22:06:58.032114Z",
     "start_time": "2025-02-12T22:06:57.939963Z"
    }
   }
  },
  {
   "cell_type": "code",
   "execution_count": null,
   "outputs": [],
   "source": [],
   "metadata": {
    "collapsed": false
   }
  }
 ],
 "metadata": {
  "kernelspec": {
   "display_name": "Python 3",
   "language": "python",
   "name": "python3"
  },
  "language_info": {
   "codemirror_mode": {
    "name": "ipython",
    "version": 2
   },
   "file_extension": ".py",
   "mimetype": "text/x-python",
   "name": "python",
   "nbconvert_exporter": "python",
   "pygments_lexer": "ipython2",
   "version": "2.7.6"
  }
 },
 "nbformat": 4,
 "nbformat_minor": 0
}
