{
 "cells": [
  {
   "cell_type": "markdown",
   "metadata": {
    "collapsed": true,
    "pycharm": {
     "name": "#%% md\n"
    }
   },
   "source": [
    "## Canvas to Viewport\n",
    "\n",
    "If $Cx$ and $C_y$ are canvas coordinates and $C_w$ and $C_h$ are canvas dimensions,\n",
    "then for each pixel on the canvas, we can determine its corresponding point on\n",
    "the viewport $V$\n",
    "</br>\n",
    "$Vx = Cx \\cdot \\frac{V_w}{C_w}$\n",
    "$Vy = Cy \\cdot \\frac{V_h}{C_h}$\n",
    "</br>\n",
    "Although the viewport is 2D, it’s embedded in3D space. We defined it to be at a\n",
    "distance d from the camera; every point in this plane (called the projection plane)\n",
    "has, by definition, $z = d$. Therefore, $V_z = d$\n",
    "</br>\n",
    "</br>\n",
    "\n",
    "## The Ray Equation\n",
    "The most convenient way to represent a ray for our purposes is with a parametric\n",
    "equation. We know the ray passes through $O$, and we know its direction\n",
    "(from $O$ to $V$), so we can express any point $P$ in the ray as\n",
    "<br/>\n",
    "$P = O + t(V – O)$\n",
    "<br/>\n",
    "where $t$ is any real number. By plugging every value of t from –1 to +1into\n",
    "this equation, we get every point $P$ along the ray.\n",
    "Let’s call $(V – O)$, the direction of the ray, $\\vec{D}$. The equation becomes\n",
    "<br/>\n",
    "$P = O + t\\vec{D}$\n",
    "\n",
    "<br />\n",
    "\n",
    "## One Way Ray Tracing\n",
    "\n",
    "We can define the plane equation using the Cartesian form:\n",
    "$ax + by + cz = d$\n",
    "where the normal vector n is given by\n",
    "n = a**i** + b**j** + c**k**\n",
    "\n",
    "Then we can find $d$ using,\n",
    "$n \\cdot p = d$\n",
    "\n",
    "$p$ is a point on the plane\n",
    "<br />\n",
    "\n",
    "![ray tracing problem](ray-tracing.png \"One Way Ray Tracing Problem\")\n",
    "\n",
    "<br />\n",
    "\n",
    "1. Origin is at (0,0,0),\n",
    "2. $ P_1(x, y, z) $ is a point where the ray intersects the first plane,\n",
    "3. $ P_0 (0,0,-1) $ is the light source and a point on the ray,\n",
    "4. $ n $ is the plane's normal vector which can be calculated as cross product\n",
    "of any two vectors on the first plane,\n",
    "5. $ t $ is $P_0$'s position vector: $(P_0 - origin)$,\n",
    "6. $ v $ is the direction vector of the ray \\frac{P_1-P_0}{|P_1-P_0|},\n",
    "7. $ p = t + λv $ is the equation of the ray, where\n",
    "p is the position vector for $P_1$\n",
    "8. As, $n \\cdot p = d$, if we substitute p with 7:\n",
    "- $n \\cdot (t + λv) = d$\n",
    "- $λ = \\frac{d-n \\cdot t}{n \\cdot v}$\n",
    "Once we find $λ$, we can plug that into ray equation to find intersection point\n",
    "between ray and plane:\n",
    "$P = O + t\\vec{D}$, where $λ = t$, $O$ is the starting point of the ray and\n",
    "$\\vec{D}$ is the direction of the ray.\n"
   ]
  },
  {
   "cell_type": "code",
   "execution_count": 133,
   "outputs": [],
   "source": [
    "from scipy.spatial.transform import Rotation as R\n",
    "%matplotlib inline\n",
    "import numpy as np\n",
    "import matplotlib.pyplot as plt"
   ],
   "metadata": {
    "collapsed": false,
    "pycharm": {
     "name": "#%%\n"
    }
   }
  },
  {
   "cell_type": "code",
   "execution_count": 134,
   "outputs": [],
   "source": [
    "def unit_vector(vector):\n",
    "    '''\n",
    "    :param vector: Any vector as numpy array\n",
    "    :return: unit vector\n",
    "    '''\n",
    "    return vector / np.linalg.norm(vector)"
   ],
   "metadata": {
    "collapsed": false,
    "pycharm": {
     "name": "#%%\n"
    }
   }
  },
  {
   "cell_type": "code",
   "execution_count": 135,
   "outputs": [],
   "source": [
    "def angle_between(v1, v2):\n",
    "    '''\n",
    "    :param v1: first vector\n",
    "    :param v2: second vector\n",
    "    :return: angle between the two vectors\n",
    "    '''\n",
    "    v1_u = unit_vector(v1)\n",
    "    v2_u = unit_vector(v2)\n",
    "    return np.arccos(np.clip(np.dot(v1_u, v2_u), -1.0, 1.0))"
   ],
   "metadata": {
    "collapsed": false,
    "pycharm": {
     "name": "#%%\n"
    }
   }
  },
  {
   "cell_type": "code",
   "execution_count": 136,
   "outputs": [],
   "source": [
    "def get_direction(p1, p2):\n",
    "    '''\n",
    "    :param p1: first point\n",
    "    :param p2: second point\n",
    "    :return: direction vector\n",
    "    '''\n",
    "    direction = (p1-p2)/np.linalg.norm(p1-p2)\n",
    "    return  direction"
   ],
   "metadata": {
    "collapsed": false,
    "pycharm": {
     "name": "#%%\n"
    }
   }
  },
  {
   "cell_type": "code",
   "execution_count": 137,
   "outputs": [],
   "source": [
    "def rotate(origin, point, angle):\n",
    "    '''\n",
    "    :param origin: start point the vector\n",
    "    :param point: end point to be rotated\n",
    "    :param angle: positive angle for counterclockwise direction\n",
    "    :return: rotated vector by the provided angle\n",
    "    '''\n",
    "    ox, oy = origin\n",
    "    px, py = point\n",
    "\n",
    "    qx = oy + np.cos(angle) * (px - ox) - np.sin(angle) * (py - oy)\n",
    "    qy = oy + np.sin(angle) * (px - ox) + np.cos(angle) * (py - oy)\n",
    "    return qx, qy"
   ],
   "metadata": {
    "collapsed": false,
    "pycharm": {
     "name": "#%%\n"
    }
   }
  },
  {
   "cell_type": "code",
   "execution_count": 138,
   "outputs": [],
   "source": [
    "source = np.array([0, 0, -1]) # light source\n",
    "origin = np.array([0, 0, 0])\n",
    "# origin (0, -1, -1) -> plane_1_centre -> plane_2_centre -> object (0, 1, 1) => 2 units length\n",
    "plane_1_z = -1+2/3 # source and plane_1 are 0.33 unit apart\n",
    "plane_2_z = -1+4/3 # source and plane_2 are 0.66 unit apart\n",
    "object_z = 1 # source and object are 1 unit apart"
   ],
   "metadata": {
    "collapsed": false,
    "pycharm": {
     "name": "#%%\n"
    }
   }
  },
  {
   "cell_type": "code",
   "execution_count": 139,
   "outputs": [
    {
     "data": {
      "text/plain": "array([[[ 1.        ,  1.        ],\n        [ 1.        ,  0.97979798],\n        [ 1.        ,  0.95959596],\n        ...,\n        [ 1.        , -0.95959596],\n        [ 1.        , -0.97979798],\n        [ 1.        , -1.        ]],\n\n       [[ 0.97979798,  1.        ],\n        [ 0.97979798,  0.97979798],\n        [ 0.97979798,  0.95959596],\n        ...,\n        [ 0.97979798, -0.95959596],\n        [ 0.97979798, -0.97979798],\n        [ 0.97979798, -1.        ]],\n\n       [[ 0.95959596,  1.        ],\n        [ 0.95959596,  0.97979798],\n        [ 0.95959596,  0.95959596],\n        ...,\n        [ 0.95959596, -0.95959596],\n        [ 0.95959596, -0.97979798],\n        [ 0.95959596, -1.        ]],\n\n       ...,\n\n       [[-0.95959596,  1.        ],\n        [-0.95959596,  0.97979798],\n        [-0.95959596,  0.95959596],\n        ...,\n        [-0.95959596, -0.95959596],\n        [-0.95959596, -0.97979798],\n        [-0.95959596, -1.        ]],\n\n       [[-0.97979798,  1.        ],\n        [-0.97979798,  0.97979798],\n        [-0.97979798,  0.95959596],\n        ...,\n        [-0.97979798, -0.95959596],\n        [-0.97979798, -0.97979798],\n        [-0.97979798, -1.        ]],\n\n       [[-1.        ,  1.        ],\n        [-1.        ,  0.97979798],\n        [-1.        ,  0.95959596],\n        ...,\n        [-1.        , -0.95959596],\n        [-1.        , -0.97979798],\n        [-1.        , -1.        ]]])"
     },
     "execution_count": 139,
     "metadata": {},
     "output_type": "execute_result"
    }
   ],
   "source": [
    "plane = np.mgrid[1:-1:100j, 1:-1:100j] # mesh grid with 100X100 dimension\n",
    "plane = plane.transpose(1,2,0)\n",
    "plane"
   ],
   "metadata": {
    "collapsed": false,
    "pycharm": {
     "name": "#%%\n"
    }
   }
  },
  {
   "cell_type": "code",
   "execution_count": 140,
   "outputs": [
    {
     "data": {
      "text/plain": "array([ 0. ,  0. , -0.5])"
     },
     "execution_count": 140,
     "metadata": {},
     "output_type": "execute_result"
    }
   ],
   "source": [
    "# test for first line segment along the ray\n",
    "plane_1_centre = np.array([0, 0, plane_1_z])\n",
    "point_1 = np.array([1, 1, plane_1_z]) # point on the first plane\n",
    "point_2 = np.array([1, 0.5, plane_1_z]) # another point on the same plane\n",
    "n1 = np.cross((point_1-plane_1_centre), (point_2-plane_1_centre)) # plane normal\n",
    "n1"
   ],
   "metadata": {
    "collapsed": false,
    "pycharm": {
     "name": "#%%\n"
    }
   }
  },
  {
   "cell_type": "code",
   "execution_count": 141,
   "outputs": [
    {
     "data": {
      "text/plain": "0.16666666666666669"
     },
     "execution_count": 141,
     "metadata": {},
     "output_type": "execute_result"
    }
   ],
   "source": [
    "d1 = np.dot(n1, point_1)\n",
    "d1"
   ],
   "metadata": {
    "collapsed": false,
    "pycharm": {
     "name": "#%%\n"
    }
   }
  },
  {
   "cell_type": "code",
   "execution_count": 142,
   "outputs": [
    {
     "name": "stdout",
     "output_type": "stream",
     "text": [
      "The equation of plane-1 is 0.0x + 0.0y + -0.5z = 0.16666666666666669\n"
     ]
    }
   ],
   "source": [
    "'''\n",
    "The equation of the plane is ax + by + cz = d\n",
    "'''\n",
    "a1, b1, c1 = n1\n",
    "print('The equation of plane-1 is {0}x + {1}y + {2}z = {3}'.format(a1, b1, c1, d1))"
   ],
   "metadata": {
    "collapsed": false,
    "pycharm": {
     "name": "#%%\n"
    }
   }
  },
  {
   "cell_type": "code",
   "execution_count": 143,
   "outputs": [
    {
     "data": {
      "text/plain": "array([ 1.        ,  1.        , -0.33333333])"
     },
     "execution_count": 143,
     "metadata": {},
     "output_type": "execute_result"
    }
   ],
   "source": [
    "# position vector at P_1\n",
    "p = point_1 - origin\n",
    "p"
   ],
   "metadata": {
    "collapsed": false,
    "pycharm": {
     "name": "#%%\n"
    }
   }
  },
  {
   "cell_type": "code",
   "execution_count": 144,
   "outputs": [
    {
     "data": {
      "text/plain": "array([ 0,  0, -1])"
     },
     "execution_count": 144,
     "metadata": {},
     "output_type": "execute_result"
    }
   ],
   "source": [
    "# position vector at P_0 (source)\n",
    "t = source - origin\n",
    "t"
   ],
   "metadata": {
    "collapsed": false,
    "pycharm": {
     "name": "#%%\n"
    }
   }
  },
  {
   "cell_type": "code",
   "execution_count": 145,
   "outputs": [
    {
     "data": {
      "text/plain": "array([0.63960215, 0.63960215, 0.42640143])"
     },
     "execution_count": 145,
     "metadata": {},
     "output_type": "execute_result"
    }
   ],
   "source": [
    "# direction vector of the ray\n",
    "v = get_direction(point_1, source)\n",
    "v"
   ],
   "metadata": {
    "collapsed": false,
    "pycharm": {
     "name": "#%%\n"
    }
   }
  },
  {
   "cell_type": "code",
   "execution_count": 146,
   "outputs": [
    {
     "data": {
      "text/plain": "array([1.56347192, 1.56347192, 1.56347192])"
     },
     "execution_count": 146,
     "metadata": {},
     "output_type": "execute_result"
    }
   ],
   "source": [
    "# λ = (p-t)/v from 7 (see above)\n",
    "_lambda = (p-t)/v\n",
    "_lambda"
   ],
   "metadata": {
    "collapsed": false,
    "pycharm": {
     "name": "#%%\n"
    }
   }
  },
  {
   "cell_type": "code",
   "execution_count": 147,
   "outputs": [
    {
     "data": {
      "text/plain": "array([ True,  True,  True])"
     },
     "execution_count": 147,
     "metadata": {},
     "output_type": "execute_result"
    }
   ],
   "source": [
    "# verify if point_1\n",
    "t+_lambda*v == point_1"
   ],
   "metadata": {
    "collapsed": false,
    "pycharm": {
     "name": "#%%\n"
    }
   }
  },
  {
   "cell_type": "code",
   "execution_count": 148,
   "outputs": [
    {
     "data": {
      "text/plain": "array([ 0. ,  0. , -0.5])"
     },
     "execution_count": 148,
     "metadata": {},
     "output_type": "execute_result"
    }
   ],
   "source": [
    "# plane_2\n",
    "plane_2_centre = np.array([0, 0, plane_2_z])\n",
    "point_3 = np.array([1, 1, plane_2_z]) # any point on the second plane\n",
    "point_4 = np.array([1, 0.5, plane_2_z]) # another point on the same plane\n",
    "n2 = np.cross((point_3-plane_2_centre), (point_4-plane_2_centre)) # plane-2 normal\n",
    "n2"
   ],
   "metadata": {
    "collapsed": false,
    "pycharm": {
     "name": "#%%\n"
    }
   }
  },
  {
   "cell_type": "code",
   "execution_count": 149,
   "outputs": [
    {
     "data": {
      "text/plain": "-0.16666666666666663"
     },
     "execution_count": 149,
     "metadata": {},
     "output_type": "execute_result"
    }
   ],
   "source": [
    "d2 = np.dot(n2, point_3)\n",
    "d2"
   ],
   "metadata": {
    "collapsed": false,
    "pycharm": {
     "name": "#%%\n"
    }
   }
  },
  {
   "cell_type": "code",
   "execution_count": 150,
   "outputs": [
    {
     "name": "stdout",
     "output_type": "stream",
     "text": [
      "The equation of plane-2 is 0.0x + 0.0y + -0.5z = -0.16666666666666663\n"
     ]
    }
   ],
   "source": [
    "'''\n",
    "The equation of the plane is ax + by + cz = d\n",
    "'''\n",
    "a2, b2, c2 = n2\n",
    "print('The equation of plane-2 is {0}x + {1}y + {2}z = {3}'.format(a2, b2, c2, d2))"
   ],
   "metadata": {
    "collapsed": false,
    "pycharm": {
     "name": "#%%\n"
    }
   }
  },
  {
   "cell_type": "code",
   "execution_count": 151,
   "outputs": [
    {
     "data": {
      "text/plain": "array([2.        , 2.        , 0.33333333])"
     },
     "execution_count": 151,
     "metadata": {},
     "output_type": "execute_result"
    }
   ],
   "source": [
    "'''\n",
    "If line segment 1 is extended beyond plane_1, it will eventually intersect plane_2\n",
    "z coordinates are known\n",
    "As, distance from source and plane_1 equals to the distance from plane_1 and plane_2,\n",
    "x and y coordinates can be calculated as follows\n",
    "(x0+x2)/2=x1, where x1 is the middle point between x0 and x2\n",
    "x2 = 2x1-x0\n",
    "similarly, y2 = 2y1-y0\n",
    "'''\n",
    "x = 2*point_1[0] - source[0]\n",
    "y = 2*point_1[1] - source[1]\n",
    "z = plane_2_z\n",
    "\n",
    "intersection_on_plane_2 = np.array([x, y, z])\n",
    "intersection_on_plane_2"
   ],
   "metadata": {
    "collapsed": false,
    "pycharm": {
     "name": "#%%\n"
    }
   }
  },
  {
   "cell_type": "code",
   "execution_count": 152,
   "outputs": [
    {
     "data": {
      "text/plain": "True"
     },
     "execution_count": 152,
     "metadata": {},
     "output_type": "execute_result"
    }
   ],
   "source": [
    "'''\n",
    "Verify if the found point satisfies the plane_2 equation\n",
    "'''\n",
    "np.around(a2*x+b2*y+c2*z, 3) == np.around(d2, 3)"
   ],
   "metadata": {
    "collapsed": false,
    "pycharm": {
     "name": "#%%\n"
    }
   }
  },
  {
   "cell_type": "code",
   "execution_count": 153,
   "outputs": [
    {
     "data": {
      "text/plain": "0.0"
     },
     "execution_count": 153,
     "metadata": {},
     "output_type": "execute_result"
    }
   ],
   "source": [
    "'''\n",
    "Verify if the plane-1-intersection and plane-2-intersection are on the same line segment\n",
    "'''\n",
    "np.degrees(np.around(angle_between((source-point_1), (source-intersection_on_plane_2)), 3))"
   ],
   "metadata": {
    "collapsed": false,
    "pycharm": {
     "name": "#%%\n"
    }
   }
  },
  {
   "cell_type": "code",
   "execution_count": 154,
   "outputs": [
    {
     "data": {
      "text/plain": "array([2.15845593, 1.81115958, 0.33333333])"
     },
     "execution_count": 154,
     "metadata": {},
     "output_type": "execute_result"
    }
   ],
   "source": [
    "'''\n",
    "However, the plane_1 rotates the ray by 10 degrees in clockwise direction\n",
    "So after rotation the actual intersection point will be\n",
    "'''\n",
    "rot_x, rot_y = rotate((point_1[0], point_1[1]), (x, y), np.radians(-10))\n",
    "rotated_point = np.array([rot_x, rot_y, plane_2_z])\n",
    "rotated_point"
   ],
   "metadata": {
    "collapsed": false,
    "pycharm": {
     "name": "#%%\n"
    }
   }
  },
  {
   "cell_type": "code",
   "execution_count": 155,
   "outputs": [
    {
     "data": {
      "text/plain": "True"
     },
     "execution_count": 155,
     "metadata": {},
     "output_type": "execute_result"
    }
   ],
   "source": [
    "'''\n",
    "check if the new point is on the same plane\n",
    "'''\n",
    "np.around(a2*rot_x+b2*rot_y+c2*z, 3) == np.around(d2, 3)"
   ],
   "metadata": {
    "collapsed": false,
    "pycharm": {
     "name": "#%%\n"
    }
   }
  },
  {
   "cell_type": "code",
   "execution_count": 156,
   "outputs": [
    {
     "data": {
      "text/plain": "9.043247867929551"
     },
     "execution_count": 156,
     "metadata": {},
     "output_type": "execute_result"
    }
   ],
   "source": [
    "'''\n",
    "check if the angle between original vector and rotated vector is 10 degress\n",
    "'''\n",
    "np.degrees(angle_between(intersection_on_plane_2-point_1, rotated_point-point_1))"
   ],
   "metadata": {
    "collapsed": false,
    "pycharm": {
     "name": "#%%\n"
    }
   }
  },
  {
   "cell_type": "code",
   "execution_count": 158,
   "outputs": [
    {
     "data": {
      "text/plain": "9.043247867929551"
     },
     "execution_count": 158,
     "metadata": {},
     "output_type": "execute_result"
    }
   ],
   "source": [
    "'''\n",
    "check if scipy Rotation is better\n",
    "'''\n",
    "r = R.from_euler('z', 10, degrees=True)\n",
    "original_vec = intersection_on_plane_2-point_1\n",
    "rotated_vec = r.apply(original_vec)\n",
    "np.degrees(angle_between(original_vec, rotated_point-point_1))"
   ],
   "metadata": {
    "collapsed": false,
    "pycharm": {
     "name": "#%%\n"
    }
   }
  },
  {
   "cell_type": "code",
   "execution_count": 159,
   "outputs": [
    {
     "name": "stdout",
     "output_type": "stream",
     "text": [
      "44\n",
      "44\n",
      "44\n"
     ]
    }
   ],
   "source": [
    "'''\n",
    "Find all the rays that intersects plane-1, plane-2 and the object\n",
    "'''\n",
    "plane_1_intersects = []\n",
    "plane_2_intersects = []\n",
    "object_intersects = []\n",
    "\n",
    "for row in plane:\n",
    "    for col in row:\n",
    "        point_on_plane_1 = np.array([col[0], col[1], plane_1_z]) # plane_1_z = -0.33\n",
    "        # if we extend the line segment to plane-2 we will find line_plane_intersects\n",
    "        # P2_x = 2*P1_x - P0_x and P2_y = 2*P1_y - P0_y (see figure)\n",
    "        x2 = 2 * point_on_plane_1[0] - source[0]\n",
    "        y2 = 2 * point_on_plane_1[1] - source[1]\n",
    "        z2 = plane_2_z\n",
    "        # this line_plane_intersect is rotated by 10 degrees in clockwise direction\n",
    "        rot_x, rot_y = rotate((point_on_plane_1[0], point_on_plane_1[1]), (x2, y2), np.radians(-10))\n",
    "        rotated_point = np.array([rot_x, rot_y, plane_2_z])\n",
    "        # check if the point falls within limit\n",
    "        if -1 <= rot_y <= 1:\n",
    "            # if we extend the line-segment further it will intersect the plane-3, where the object is present\n",
    "            # P3_x = 2*P'2_x - P1_x and P3_y = 2*P'2_y - P1_y (see figure)\n",
    "            x3 = 2*rot_x - point_on_plane_1[0]\n",
    "            y3 = 2*rot_y - point_on_plane_1[1]\n",
    "            z3 = object_z\n",
    "            # this line_plane_intersect is rotated by 10 degrees in clockwise direction\n",
    "            obj_x, obj_y = rotate((rot_x, rot_y), (x3, y3), np.radians(-10))\n",
    "            obj_point = np.array([obj_x, obj_y, object_z])\n",
    "            # check if the new coordinates coincides with the object\n",
    "            if (-0.05 <= obj_x <= 0.05) and (-0.05 <= obj_y <= 0.05):\n",
    "                # accept all the points on this path\n",
    "                plane_1_intersects.append([point_on_plane_1[0], point_on_plane_1[1], point_on_plane_1[2]])\n",
    "                plane_2_intersects.append([rot_x, rot_y, plane_2_z])\n",
    "                object_intersects.append([obj_x, obj_y, object_z])\n",
    "\n",
    "\n",
    "print(len(plane_1_intersects))\n",
    "print(len(plane_2_intersects))\n",
    "print(len(object_intersects))"
   ],
   "metadata": {
    "collapsed": false,
    "pycharm": {
     "name": "#%%\n"
    }
   }
  },
  {
   "cell_type": "code",
   "execution_count": 160,
   "outputs": [
    {
     "data": {
      "text/plain": "[[0.018592570525259942, -0.044466552673294836, 1],\n [0.02301203133118377, -0.03755705482833182, 1],\n [0.02743149213710765, -0.030647556983368823, 1],\n [0.031850952943031474, -0.023738059138405813, 1],\n [0.036270413748955295, -0.016828561293442804, 1],\n [0.040689874554879164, -0.009919063448479828, 1],\n [0.045109335360802985, -0.0030095656035168204, 1],\n [0.04952879616672681, 0.003899932241446191, 1],\n [-0.012953473317250087, -0.04476334155260471, 1],\n [-0.008534012511326256, -0.03785384370764169, 1],\n [-0.004114551705402408, -0.03094434586267869, 1],\n [0.00030490910052142486, -0.024034848017715722, 1],\n [0.004724369906445255, -0.017125350172752705, 1],\n [0.009143830712369107, -0.010215852327789699, 1],\n [0.013563291518292947, -0.00330635448282669, 1],\n [0.017982752324216787, 0.0036031433621363245, 1],\n [0.022402213130140625, 0.010512641207099337, 1],\n [-0.04449951715976014, -0.045060130431914584, 1],\n [0.02682167393606444, 0.01742213905206231, 1],\n [-0.04008005635383632, -0.0381506325869516, 1],\n [0.03124113474198829, 0.02433163689702532, 1],\n [-0.035660595547912476, -0.031241134741988592, 1],\n [0.03566059554791213, 0.03124113474198833, 1],\n [-0.031241134741988634, -0.02433163689702559, 1],\n [0.040080056353836005, 0.03815063258695137, 1],\n [-0.026821673936064765, -0.017422139052062538, 1],\n [0.04449951715975982, 0.04506013043191435, 1],\n [-0.022402213130140947, -0.010512641207099563, 1],\n [-0.01798275232421713, -0.003603143362136593, 1],\n [-0.013563291518293264, 0.0033063544828264594, 1],\n [-0.00914383071236945, 0.010215852327789427, 1],\n [-0.004724369906445586, 0.017125350172752477, 1],\n [-0.0003049091005217805, 0.024034848017715455, 1],\n [0.004114551705402079, 0.030944345862678413, 1],\n [0.008534012511325928, 0.03785384370764147, 1],\n [0.012953473317249728, 0.04476334155260443, 1],\n [-0.04952879616672752, -0.0038999322414467307, 1],\n [-0.045109335360803714, 0.003009565603516255, 1],\n [-0.04068987455487981, 0.009919063448479294, 1],\n [-0.03627041374895601, 0.016828561293442266, 1],\n [-0.0318509529430322, 0.023738059138405244, 1],\n [-0.027431492137108354, 0.0306475569833683, 1],\n [-0.0230120313311845, 0.03755705482833126, 1],\n [-0.018592570525260643, 0.044466552673294316, 1]]"
     },
     "execution_count": 160,
     "metadata": {},
     "output_type": "execute_result"
    }
   ],
   "source": [
    "object_intersects"
   ],
   "metadata": {
    "collapsed": false,
    "pycharm": {
     "name": "#%%\n"
    }
   }
  },
  {
   "cell_type": "code",
   "execution_count": 161,
   "outputs": [
    {
     "name": "stderr",
     "output_type": "stream",
     "text": [
      "C:\\Users\\dipanjan\\AppData\\Local\\Temp/ipykernel_17388/2339738825.py:30: UserWarning: Matplotlib is currently using module://matplotlib_inline.backend_inline, which is a non-GUI backend, so cannot show the figure.\n",
      "  fig.show()\n"
     ]
    },
    {
     "data": {
      "text/plain": "<Figure size 864x432 with 1 Axes>",
      "image/png": "[encoded data removed]"
     },
     "metadata": {
      "needs_background": "light"
     },
     "output_type": "display_data"
    }
   ],
   "source": [
    "fig = plt.figure(figsize=(12,6))\n",
    "\n",
    "ax = fig.add_subplot(111, projection='3d')\n",
    "\n",
    "plt.xlim([1, -1])\n",
    "plt.ylim([1, -1])\n",
    "\n",
    "\n",
    "for i in range(len(plane_1_intersects)):\n",
    "    ax.plot([source[0], plane_1_intersects[i][0]],\n",
    "            [source[1], plane_1_intersects[i][1]],\n",
    "            [source[2], plane_1_intersects[i][2]],\n",
    "            color='blue',\n",
    "            alpha=0.9)\n",
    "\n",
    "for i in range(len(plane_2_intersects)):\n",
    "    ax.plot([plane_1_intersects[i][0], plane_2_intersects[i][0]],\n",
    "            [plane_1_intersects[i][1], plane_2_intersects[i][1]],\n",
    "            [plane_1_intersects[i][2], plane_2_intersects[i][2]],\n",
    "            color='blue',\n",
    "            alpha=0.7)\n",
    "\n",
    "for i in range(len(object_intersects)):\n",
    "    ax.plot([plane_2_intersects[i][0], object_intersects[i][0]],\n",
    "            [plane_2_intersects[i][1], object_intersects[i][1]],\n",
    "            [plane_2_intersects[i][2], object_intersects[i][2]],\n",
    "            color='blue',\n",
    "            alpha=0.5)\n",
    "\n",
    "fig.show()"
   ],
   "metadata": {
    "collapsed": false,
    "pycharm": {
     "name": "#%%\n"
    }
   }
  },
  {
   "cell_type": "code",
   "execution_count": 162,
   "outputs": [
    {
     "data": {
      "text/plain": "<matplotlib.collections.PathCollection at 0x1dd91e99780>"
     },
     "execution_count": 162,
     "metadata": {},
     "output_type": "execute_result"
    },
    {
     "data": {
      "text/plain": "<Figure size 432x288 with 1 Axes>",
      "image/png": "[encoded data removed]"
     },
     "metadata": {
      "needs_background": "light"
     },
     "output_type": "display_data"
    }
   ],
   "source": [
    "# test\n",
    "X = []\n",
    "Y = []\n",
    "for point in object_intersects:\n",
    "    X.append(point[0])\n",
    "    Y.append(point[1])\n",
    "\n",
    "plt.xlim([1, -1])\n",
    "plt.ylim([1, -1])\n",
    "\n",
    "plt.scatter(X, Y)"
   ],
   "metadata": {
    "collapsed": false,
    "pycharm": {
     "name": "#%%\n"
    }
   }
  },
  {
   "cell_type": "code",
   "execution_count": 163,
   "outputs": [],
   "source": [
    "def get_intersection_point(ray_start, ray_end, plane_point_1, plane_point_2):\n",
    "    '''\n",
    "    Assumes plane normal is along the z-axis\n",
    "    :param ray_start: start point of the ray\n",
    "    :param ray_end: end point of the ray\n",
    "    :param plane_point_1: plane centre or any point on the plane\n",
    "    :param plane_point_2: any point on the plane\n",
    "    :return: None if parallel or the intersection points\n",
    "    '''\n",
    "    plane_pos_vec = plane_point_1 - plane_point_2\n",
    "    another_point = np.array([plane_point_1[0], plane_point_1[1]-0.5, plane_point_1[2]])\n",
    "    another_vec = plane_point_1 - another_point\n",
    "    plane_normal = np.cross(plane_pos_vec, another_vec)\n",
    "    ray_vec = ray_end - ray_start\n",
    "    ray_direction = get_direction(ray_start, ray_end)\n",
    "    n_v = np.dot(plane_normal, ray_direction)\n",
    "    if n_v == 0.0:\n",
    "        # ray and plane are parallel\n",
    "        return None\n",
    "    else:\n",
    "        d = np.dot(plane_normal, plane_point_1)\n",
    "        n_t = np.dot(plane_normal, ray_vec)\n",
    "        _lambda = (d - n_t)/n_v\n",
    "        intersection_point = ray_start + (ray_direction*_lambda)\n",
    "        return intersection_point"
   ],
   "metadata": {
    "collapsed": false,
    "pycharm": {
     "name": "#%%\n"
    }
   }
  },
  {
   "cell_type": "code",
   "execution_count": 164,
   "outputs": [
    {
     "name": "stdout",
     "output_type": "stream",
     "text": [
      "44\n",
      "44\n",
      "44\n"
     ]
    }
   ],
   "source": [
    "'''\n",
    "Find all the rays that intersects plane-1, plane-2 and the object\n",
    "Also, check if the ray intersects the plane\n",
    "'''\n",
    "plane_1_intersects = []\n",
    "plane_2_intersects = []\n",
    "object_intersects = []\n",
    "\n",
    "for row in plane:\n",
    "    for col in row:\n",
    "        point_on_plane_1 = np.array([col[0], col[1], plane_1_z]) # plane_1_z = -0.33\n",
    "        plane_1_centre = np.array([0, 0, plane_1_z])\n",
    "        ray_origin = source\n",
    "        ray_end = point_on_plane_1\n",
    "        intersect_1 = get_intersection_point(ray_origin, ray_end, plane_1_centre, point_on_plane_1)\n",
    "        if intersect_1 is not None:\n",
    "            # if we extend the line segment to plane-2 we will find line_plane_intersects\n",
    "            x2 = 2 * point_on_plane_1[0] - source[0]\n",
    "            y2 = 2 * point_on_plane_1[1] - source[1]\n",
    "            z2 = plane_2_z\n",
    "            ray_end_2 = np.array([x2, y2, z2])\n",
    "            point_on_plane_2 = ray_end_2\n",
    "            plane_2_centre = np.array([0, 0, plane_2_z])\n",
    "            intersect_2 = get_intersection_point(ray_origin, ray_end_2, plane_2_centre, point_on_plane_2)\n",
    "            if intersect_2 is not None:\n",
    "                # this line_plane_intersect is rotated by 10 degrees in clockwise direction\n",
    "                rot_x, rot_y = rotate((point_on_plane_1[0], point_on_plane_1[1]), (x2, y2), np.radians(-10))\n",
    "                rotated_point = np.array([rot_x, rot_y, plane_2_z])\n",
    "                if -1 <= rot_y <= 1:\n",
    "                    intersect_3 = get_intersection_point(point_on_plane_1, rotated_point, plane_2_centre, rotated_point)\n",
    "                    if intersect_3 is not None:\n",
    "                        # if we extend the line-segment further it will intersect the plane-3, where the object is present\n",
    "                        # P3_x = 2*P'2_x - P1_x and P3_y = 2*P'2_y - P1_y (see figure)\n",
    "                        x3 = 2*rot_x - point_on_plane_1[0]\n",
    "                        y3 = 2*rot_y - point_on_plane_1[1]\n",
    "                        z3 = object_z\n",
    "                        ray_end_3 = np.array([x3, y3, z3])\n",
    "                        plane_3_centre = np.array([0, 0, object_z])\n",
    "                        intersect_4 = get_intersection_point(rotated_point, ray_end_3, plane_3_centre, ray_end_3)\n",
    "                        if intersect_3 is not None:\n",
    "                            # this line_plane_intersect is rotated by 10 degrees in clockwise direction\n",
    "                            obj_x, obj_y = rotate((rot_x, rot_y), (x3, y3), np.radians(-10))\n",
    "                            obj_point = np.array([obj_x, obj_y, object_z])\n",
    "                            # check if the new coordinates coincides with the object\n",
    "                            if (-0.05 <= obj_x <= 0.05) and (-0.05 <= obj_y <= 0.05):\n",
    "                                # accept all the points on this path\n",
    "                                plane_1_intersects.append([point_on_plane_1[0], point_on_plane_1[1], point_on_plane_1[2]])\n",
    "                                plane_2_intersects.append([rot_x, rot_y, plane_2_z])\n",
    "                                object_intersects.append([obj_x, obj_y, object_z])\n",
    "\n",
    "\n",
    "print(len(plane_1_intersects))\n",
    "print(len(plane_2_intersects))\n",
    "print(len(object_intersects))"
   ],
   "metadata": {
    "collapsed": false,
    "pycharm": {
     "name": "#%%\n"
    }
   }
  },
  {
   "cell_type": "code",
   "execution_count": null,
   "outputs": [],
   "source": [],
   "metadata": {
    "collapsed": false,
    "pycharm": {
     "name": "#%%\n"
    }
   }
  }
 ],
 "metadata": {
  "kernelspec": {
   "display_name": "Python 3",
   "language": "python",
   "name": "python3"
  },
  "language_info": {
   "codemirror_mode": {
    "name": "ipython",
    "version": 2
   },
   "file_extension": ".py",
   "mimetype": "text/x-python",
   "name": "python",
   "nbconvert_exporter": "python",
   "pygments_lexer": "ipython2",
   "version": "2.7.6"
  }
 },
 "nbformat": 4,
 "nbformat_minor": 0
}