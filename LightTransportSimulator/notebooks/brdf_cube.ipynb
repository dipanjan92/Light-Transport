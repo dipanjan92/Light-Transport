{
 "cells": [
  {
   "cell_type": "code",
   "execution_count": 1,
   "metadata": {
    "collapsed": true
   },
   "outputs": [],
   "source": [
    "from scipy.spatial.transform import Rotation as R\n",
    "%matplotlib inline\n",
    "import numpy as np\n",
    "import matplotlib.pyplot as plt"
   ]
  },
  {
   "cell_type": "code",
   "execution_count": 2,
   "outputs": [],
   "source": [
    "from LightTransportSimulator.RayVectors.utils import nearest_intersected_object\n",
    "from LightTransportSimulator.RayVectors.intersects import sphere_intersect\n",
    "from LightTransportSimulator.RayVectors.vectors import *\n",
    "from LightTransportSimulator.RayVectors.rays import *"
   ],
   "metadata": {
    "collapsed": false,
    "pycharm": {
     "name": "#%%\n"
    }
   }
  },
  {
   "cell_type": "code",
   "execution_count": 3,
   "outputs": [],
   "source": [
    "camera = np.array([0, 0, 1])"
   ],
   "metadata": {
    "collapsed": false,
    "pycharm": {
     "name": "#%%\n"
    }
   }
  },
  {
   "cell_type": "code",
   "execution_count": 4,
   "outputs": [],
   "source": [
    "width = 400\n",
    "height = 400\n",
    "aspect_ratio = width/height\n",
    "screen = {'left': -1, 'top': 1 / aspect_ratio, 'right': 1, 'bottom': -1 / aspect_ratio}\n",
    "max_depth = 3"
   ],
   "metadata": {
    "collapsed": false,
    "pycharm": {
     "name": "#%%\n"
    }
   }
  },
  {
   "cell_type": "code",
   "execution_count": 20,
   "outputs": [],
   "source": [
    "light_source = { 'position': np.array([0, 3.99, 0]), 'ambient': np.array([1, 1, 1]), 'diffuse': np.array([1, 1, 1]), 'specular': np.array([1, 1, 1]) }"
   ],
   "metadata": {
    "collapsed": false,
    "pycharm": {
     "name": "#%%\n"
    }
   }
  },
  {
   "cell_type": "code",
   "execution_count": 21,
   "outputs": [],
   "source": [
    "objects = [\n",
    "    {\n",
    "        'type': 'sphere',\n",
    "        'geom_props': {\n",
    "            'center': np.array([-0.2, 0, -1]),\n",
    "            'radius': 0.7\n",
    "        },\n",
    "        'light_props': {\n",
    "            'ambient': np.array([0.1, 0, 0]),\n",
    "            'diffuse': np.array([0.7, 0, 0]),\n",
    "            'specular': np.array([1, 1, 1]),\n",
    "            'shininess': 100,\n",
    "            'reflection': 0.5\n",
    "        }\n",
    "    },\n",
    "    {\n",
    "        'type': 'sphere',\n",
    "        'geom_props': {\n",
    "            'center': np.array([0.1, -0.3, 0]),\n",
    "            'radius': 0.1\n",
    "        },\n",
    "        'light_props': {\n",
    "            'ambient': np.array([0.1, 0, 0.1]),\n",
    "            'diffuse': np.array([0.7, 0, 0.7]),\n",
    "            'specular': np.array([1, 1, 1]),\n",
    "            'shininess': 100,\n",
    "            'reflection': 0.5\n",
    "        }\n",
    "    },\n",
    "    {\n",
    "        'type': 'sphere',\n",
    "        'geom_props': {\n",
    "            'center': np.array([-0.3, 0, 0]),\n",
    "            'radius': 0.15\n",
    "        },\n",
    "        'light_props': {\n",
    "            'ambient': np.array([0, 0.1, 0]),\n",
    "            'diffuse': np.array([0, 0.6, 0]),\n",
    "            'specular': np.array([1, 1, 1]),\n",
    "            'shininess': 100,\n",
    "            'reflection': 0.5\n",
    "        }\n",
    "    },\n",
    "    {\n",
    "        'id': 'back_wall',\n",
    "        'type': 'plane',\n",
    "        'geom_props': {\n",
    "            'point': np.array([0.0, 0.0, -4.0]),\n",
    "            'normal': np.array([0.0, 0.0, 1.0])\n",
    "        },\n",
    "        'light_props': {\n",
    "            'ambient': np.array([0.23125, 0.23125, 0.23125]),\n",
    "            'diffuse': np.array([0.2775, 0.2775, 0.2775]), 'specular': np.array([0.773911, 0.773911, 0.773911]),\n",
    "            'shininess': 89.6,\n",
    "            'reflection': 0.5\n",
    "        }\n",
    "    },\n",
    "    {\n",
    "        'id': 'left_wall',\n",
    "        'type': 'plane',\n",
    "        'geom_props': {\n",
    "            'point': np.array([-4.0, 0.0, 0.0]),\n",
    "            'normal': np.array([1.0, 0.0, 0.0])},\n",
    "        'light_props': {\n",
    "            'ambient': np.array([0.1, 0, 0]),\n",
    "            'diffuse': np.array([0.7, 0, 0]),\n",
    "            'specular': np.array([1, 1, 1]),\n",
    "            'shininess': 100,\n",
    "            'reflection': 0.5\n",
    "     }\n",
    "    },\n",
    "    {\n",
    "        'id': 'right_wall',\n",
    "        'type': 'plane',\n",
    "        'geom_props': {\n",
    "            'point': np.array([4, 0.0, 0.0]),\n",
    "            'normal': np.array([-1.0, 0.0, 0.0])\n",
    "        },\n",
    "        'light_props': {\n",
    "            'ambient': np.array([0, 0.1, 0]),\n",
    "            'diffuse': np.array([0, 0.6, 0]),\n",
    "            'specular': np.array([1, 1, 1]),\n",
    "            'shininess': 100,\n",
    "            'reflection': 0.5\n",
    "        }\n",
    "    },\n",
    "    {\n",
    "        'id': 'top_wall',\n",
    "        'type': 'plane',\n",
    "        'window': {\n",
    "            'x':[-5, 5],\n",
    "            'z':[-5, 5]\n",
    "        },\n",
    "        'geom_props': {\n",
    "            'point': np.array([0.0, 4.0, 0.0]),\n",
    "            'normal': np.array([0.0, -1.0, 0.0])\n",
    "        },\n",
    "        'light_props': {\n",
    "            'ambient': np.array([0.23125, 0.23125, 0.23125]),\n",
    "            'diffuse': np.array([0.2775, 0.2775, 0.2775]),\n",
    "            'specular': np.array([0.773911, 0.773911, 0.773911]),\n",
    "            'shininess': 89.6,\n",
    "            'reflection': 0.5\n",
    "        }\n",
    "    },\n",
    "    {\n",
    "        'id': 'bottom_wall',\n",
    "        'type': 'plane',\n",
    "        'geom_props': {\n",
    "            'point': np.array([0.0, -4.0, 0.0]),\n",
    "            'normal': np.array([0.0, 1.0, 0.0])},\n",
    "        'light_props': {\n",
    "            'ambient': np.array([0.23125, 0.23125, 0.23125]),\n",
    "            'diffuse': np.array([0.2775, 0.2775, 0.2775]),\n",
    "            'specular': np.array([0.773911, 0.773911, 0.773911]),\n",
    "            'shininess': 89.6,\n",
    "            'reflection': 0.5\n",
    "        }\n",
    "    },\n",
    "]"
   ],
   "metadata": {
    "collapsed": false,
    "pycharm": {
     "name": "#%%\n"
    }
   }
  },
  {
   "cell_type": "code",
   "execution_count": 22,
   "outputs": [],
   "source": [
    "image = np.zeros((height, width, 3))"
   ],
   "metadata": {
    "collapsed": false,
    "pycharm": {
     "name": "#%%\n"
    }
   }
  },
  {
   "cell_type": "code",
   "execution_count": null,
   "outputs": [
    {
     "name": "stdout",
     "output_type": "stream",
     "text": [
      "1/400\n",
      "2/400\n",
      "3/400\n",
      "4/400\n",
      "5/400\n",
      "6/400\n",
      "7/400\n",
      "8/400\n",
      "9/400\n",
      "10/400\n",
      "11/400\n",
      "12/400\n",
      "13/400\n",
      "14/400\n",
      "15/400\n",
      "16/400\n",
      "17/400\n",
      "18/400\n",
      "19/400\n",
      "20/400\n",
      "21/400\n",
      "22/400\n",
      "23/400\n",
      "24/400\n",
      "25/400\n",
      "26/400\n",
      "27/400\n",
      "28/400\n",
      "29/400\n",
      "30/400\n",
      "31/400\n",
      "32/400\n",
      "33/400\n",
      "34/400\n",
      "35/400\n",
      "36/400\n",
      "37/400\n",
      "38/400\n",
      "39/400\n",
      "40/400\n",
      "41/400\n",
      "42/400\n",
      "43/400\n",
      "44/400\n",
      "45/400\n",
      "46/400\n",
      "47/400\n",
      "48/400\n",
      "49/400\n",
      "50/400\n",
      "51/400\n",
      "52/400\n",
      "53/400\n",
      "54/400\n",
      "55/400\n",
      "56/400\n",
      "57/400\n",
      "58/400\n",
      "59/400\n",
      "60/400\n",
      "61/400\n",
      "62/400\n",
      "63/400\n",
      "64/400\n",
      "65/400\n",
      "66/400\n",
      "67/400\n",
      "68/400\n",
      "69/400\n",
      "70/400\n",
      "71/400\n",
      "72/400\n",
      "73/400\n",
      "74/400\n",
      "75/400\n",
      "76/400\n",
      "77/400\n",
      "78/400\n",
      "79/400\n",
      "80/400\n",
      "81/400\n",
      "82/400\n",
      "83/400\n",
      "84/400\n",
      "85/400\n",
      "86/400\n",
      "87/400\n",
      "88/400\n",
      "89/400\n",
      "90/400\n",
      "91/400\n",
      "92/400\n",
      "93/400\n",
      "94/400\n",
      "95/400\n",
      "96/400\n",
      "97/400\n",
      "98/400\n",
      "99/400\n",
      "100/400\n",
      "101/400\n",
      "102/400\n",
      "103/400\n",
      "104/400\n",
      "105/400\n",
      "106/400\n",
      "107/400\n",
      "108/400\n",
      "109/400\n",
      "110/400\n",
      "111/400\n",
      "112/400\n",
      "113/400\n",
      "114/400\n",
      "115/400\n",
      "116/400\n",
      "117/400\n",
      "118/400\n",
      "119/400\n",
      "120/400\n",
      "121/400\n",
      "122/400\n",
      "123/400\n",
      "124/400\n",
      "125/400\n",
      "126/400\n",
      "127/400\n",
      "128/400\n",
      "129/400\n",
      "130/400\n"
     ]
    }
   ],
   "source": [
    "for i, y in enumerate(np.linspace(screen['top'], screen['bottom'], height)):\n",
    "    for j, x in enumerate(np.linspace(screen['left'], screen['right'], width)):\n",
    "        # screen is on origin\n",
    "        pixel = np.array([x, y, 0])\n",
    "        origin = camera\n",
    "        end = pixel\n",
    "        direction = normalize(end - origin)\n",
    "\n",
    "        color = np.zeros((3))\n",
    "        reflection = 1\n",
    "\n",
    "        for k in range(max_depth):\n",
    "            # check for intersections\n",
    "            nearest_object, min_distance = nearest_intersected_object(objects, origin, end)\n",
    "\n",
    "            if nearest_object is None:\n",
    "                break\n",
    "\n",
    "            intersection = origin + min_distance * direction\n",
    "\n",
    "            if nearest_object['type'] == 'sphere':\n",
    "                normal_to_surface = normalize(intersection - nearest_object['geom_props']['center'])\n",
    "            elif nearest_object['type'] == 'triangle':\n",
    "                ab = nearest_object['geom_props']['b'] - nearest_object['geom_props']['a']\n",
    "                ac = nearest_object['geom_props']['c'] - nearest_object['geom_props']['a']\n",
    "                normal_to_surface = np.cross(ab, ac)\n",
    "            else:\n",
    "                normal_to_surface = nearest_object['geom_props']['normal']\n",
    "\n",
    "            shifted_point = intersection + 1e-5 * normal_to_surface\n",
    "\n",
    "            intersection_to_light = normalize(light_source['position'] - shifted_point)\n",
    "\n",
    "            _, min_distance = nearest_intersected_object(objects, shifted_point, light_source['position'])\n",
    "            intersection_to_light_distance = np.linalg.norm(light_source['position'] - intersection)\n",
    "            is_shadowed = min_distance < intersection_to_light_distance\n",
    "\n",
    "            if is_shadowed:\n",
    "                break\n",
    "\n",
    "            illumination = np.zeros((3))\n",
    "\n",
    "            # ambiant\n",
    "            illumination += get_ambience(nearest_object['light_props']['ambient'], light_source['ambient'])\n",
    "\n",
    "            # diffuse\n",
    "            illumination += get_diffuse(nearest_object['light_props']['diffuse'], light_source['diffuse'], intersection_to_light, normal_to_surface)\n",
    "\n",
    "            # specular\n",
    "            intersection_to_camera = normalize(camera - intersection)\n",
    "            viewing_direction = normalize(intersection_to_light + intersection_to_camera)\n",
    "            illumination += get_specular(nearest_object['light_props']['specular'], light_source['specular'], viewing_direction, normal_to_surface, nearest_object['light_props']['shininess'])\n",
    "\n",
    "            # reflection\n",
    "            color += reflection * illumination\n",
    "\n",
    "            reflection *= nearest_object['light_props']['reflection']\n",
    "\n",
    "            origin = shifted_point\n",
    "            direction = reflected_ray(direction, normal_to_surface)\n",
    "\n",
    "        image[i, j] = np.clip(color, 0, 1)\n",
    "    print(\"%d/%d\" % (i + 1, height))\n"
   ],
   "metadata": {
    "collapsed": false,
    "pycharm": {
     "name": "#%%\n",
     "is_executing": true
    }
   }
  },
  {
   "cell_type": "code",
   "execution_count": null,
   "outputs": [],
   "source": [
    "plt.imshow(image)"
   ],
   "metadata": {
    "collapsed": false,
    "pycharm": {
     "name": "#%%\n",
     "is_executing": true
    }
   }
  },
  {
   "cell_type": "code",
   "execution_count": null,
   "outputs": [],
   "source": [],
   "metadata": {
    "collapsed": false,
    "pycharm": {
     "name": "#%%\n"
    }
   }
  },
  {
   "cell_type": "code",
   "execution_count": null,
   "outputs": [],
   "source": [],
   "metadata": {
    "collapsed": false,
    "pycharm": {
     "name": "#%%\n"
    }
   }
  }
 ],
 "metadata": {
  "kernelspec": {
   "display_name": "Python 3",
   "language": "python",
   "name": "python3"
  },
  "language_info": {
   "codemirror_mode": {
    "name": "ipython",
    "version": 2
   },
   "file_extension": ".py",
   "mimetype": "text/x-python",
   "name": "python",
   "nbconvert_exporter": "python",
   "pygments_lexer": "ipython2",
   "version": "2.7.6"
  }
 },
 "nbformat": 4,
 "nbformat_minor": 0
}