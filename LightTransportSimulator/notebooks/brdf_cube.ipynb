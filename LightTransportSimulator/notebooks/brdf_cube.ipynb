{
 "cells": [
  {
   "cell_type": "code",
   "execution_count": 1,
   "metadata": {
    "collapsed": true
   },
   "outputs": [],
   "source": [
    "from scipy.spatial.transform import Rotation as R\n",
    "%matplotlib inline\n",
    "import numpy as np\n",
    "import matplotlib.pyplot as plt"
   ]
  },
  {
   "cell_type": "code",
   "execution_count": 2,
   "outputs": [],
   "source": [
    "from LightTransportSimulator.RayVectors.utils import nearest_intersected_object\n",
    "from LightTransportSimulator.RayVectors.intersects import sphere_intersect\n",
    "from LightTransportSimulator.RayVectors.vectors import *\n",
    "from LightTransportSimulator.RayVectors.rays import *"
   ],
   "metadata": {
    "collapsed": false,
    "pycharm": {
     "name": "#%%\n"
    }
   }
  },
  {
   "cell_type": "code",
   "execution_count": 3,
   "outputs": [],
   "source": [
    "camera = np.array([0, 0, 1])"
   ],
   "metadata": {
    "collapsed": false,
    "pycharm": {
     "name": "#%%\n"
    }
   }
  },
  {
   "cell_type": "code",
   "execution_count": 4,
   "outputs": [],
   "source": [
    "width = 400\n",
    "height = 400\n",
    "aspect_ratio = width/height\n",
    "screen = {'left': -1, 'top': 1 / aspect_ratio, 'right': 1, 'bottom': -1 / aspect_ratio}\n",
    "max_depth = 3"
   ],
   "metadata": {
    "collapsed": false,
    "pycharm": {
     "name": "#%%\n"
    }
   }
  },
  {
   "cell_type": "code",
   "execution_count": 20,
   "outputs": [],
   "source": [
    "light_source = { 'position': np.array([0, 3.99, 0]), 'ambient': np.array([1, 1, 1]), 'diffuse': np.array([1, 1, 1]), 'specular': np.array([1, 1, 1]) }"
   ],
   "metadata": {
    "collapsed": false,
    "pycharm": {
     "name": "#%%\n"
    }
   }
  },
  {
   "cell_type": "code",
   "execution_count": 1,
   "outputs": [
    {
     "ename": "NameError",
     "evalue": "name 'np' is not defined",
     "output_type": "error",
     "traceback": [
      "\u001B[1;31m---------------------------------------------------------------------------\u001B[0m",
      "\u001B[1;31mNameError\u001B[0m                                 Traceback (most recent call last)",
      "\u001B[1;32m~\\AppData\\Local\\Temp/ipykernel_15060/3340913486.py\u001B[0m in \u001B[0;36m<module>\u001B[1;34m\u001B[0m\n\u001B[0;32m      1\u001B[0m objects = [\n\u001B[1;32m----> 2\u001B[1;33m     \u001B[1;33m{\u001B[0m\u001B[1;34m'type'\u001B[0m\u001B[1;33m:\u001B[0m \u001B[1;34m'triangle'\u001B[0m\u001B[1;33m,\u001B[0m \u001B[1;34m'geom_props'\u001B[0m\u001B[1;33m:\u001B[0m \u001B[1;33m{\u001B[0m \u001B[1;34m'a'\u001B[0m\u001B[1;33m:\u001B[0m \u001B[0mnp\u001B[0m\u001B[1;33m.\u001B[0m\u001B[0marray\u001B[0m\u001B[1;33m(\u001B[0m\u001B[1;33m[\u001B[0m\u001B[1;33m-\u001B[0m\u001B[1;36m1.0\u001B[0m\u001B[1;33m,\u001B[0m\u001B[1;33m-\u001B[0m\u001B[1;36m1.0\u001B[0m\u001B[1;33m,\u001B[0m\u001B[1;36m0.0\u001B[0m\u001B[1;33m]\u001B[0m\u001B[1;33m)\u001B[0m\u001B[1;33m,\u001B[0m \u001B[1;34m'b'\u001B[0m\u001B[1;33m:\u001B[0m \u001B[0mnp\u001B[0m\u001B[1;33m.\u001B[0m\u001B[0marray\u001B[0m\u001B[1;33m(\u001B[0m\u001B[1;33m[\u001B[0m\u001B[1;36m1.0\u001B[0m\u001B[1;33m,\u001B[0m\u001B[1;33m-\u001B[0m\u001B[1;36m1.0\u001B[0m\u001B[1;33m,\u001B[0m\u001B[1;36m0.0\u001B[0m\u001B[1;33m]\u001B[0m\u001B[1;33m)\u001B[0m\u001B[1;33m,\u001B[0m \u001B[1;34m'c'\u001B[0m\u001B[1;33m:\u001B[0m \u001B[0mnp\u001B[0m\u001B[1;33m.\u001B[0m\u001B[0marray\u001B[0m\u001B[1;33m(\u001B[0m\u001B[1;33m[\u001B[0m\u001B[1;36m0.0\u001B[0m\u001B[1;33m,\u001B[0m\u001B[1;36m1.0\u001B[0m\u001B[1;33m,\u001B[0m\u001B[1;36m0.0\u001B[0m\u001B[1;33m]\u001B[0m\u001B[1;33m)\u001B[0m \u001B[1;33m}\u001B[0m\u001B[1;33m,\u001B[0m \u001B[1;34m'light_props'\u001B[0m\u001B[1;33m:\u001B[0m \u001B[1;33m{\u001B[0m \u001B[1;34m'ambient'\u001B[0m\u001B[1;33m:\u001B[0m \u001B[0mnp\u001B[0m\u001B[1;33m.\u001B[0m\u001B[0marray\u001B[0m\u001B[1;33m(\u001B[0m\u001B[1;33m[\u001B[0m\u001B[1;36m0\u001B[0m\u001B[1;33m,\u001B[0m \u001B[1;36m0.1\u001B[0m\u001B[1;33m,\u001B[0m \u001B[1;36m0\u001B[0m\u001B[1;33m]\u001B[0m\u001B[1;33m)\u001B[0m\u001B[1;33m,\u001B[0m \u001B[1;34m'diffuse'\u001B[0m\u001B[1;33m:\u001B[0m \u001B[0mnp\u001B[0m\u001B[1;33m.\u001B[0m\u001B[0marray\u001B[0m\u001B[1;33m(\u001B[0m\u001B[1;33m[\u001B[0m\u001B[1;36m0\u001B[0m\u001B[1;33m,\u001B[0m \u001B[1;36m0.6\u001B[0m\u001B[1;33m,\u001B[0m \u001B[1;36m0\u001B[0m\u001B[1;33m]\u001B[0m\u001B[1;33m)\u001B[0m\u001B[1;33m,\u001B[0m \u001B[1;34m'specular'\u001B[0m\u001B[1;33m:\u001B[0m \u001B[0mnp\u001B[0m\u001B[1;33m.\u001B[0m\u001B[0marray\u001B[0m\u001B[1;33m(\u001B[0m\u001B[1;33m[\u001B[0m\u001B[1;36m1\u001B[0m\u001B[1;33m,\u001B[0m \u001B[1;36m1\u001B[0m\u001B[1;33m,\u001B[0m \u001B[1;36m1\u001B[0m\u001B[1;33m]\u001B[0m\u001B[1;33m)\u001B[0m\u001B[1;33m,\u001B[0m \u001B[1;34m'shininess'\u001B[0m\u001B[1;33m:\u001B[0m \u001B[1;36m100\u001B[0m\u001B[1;33m,\u001B[0m \u001B[1;34m'reflection'\u001B[0m\u001B[1;33m:\u001B[0m \u001B[1;36m0.5\u001B[0m \u001B[1;33m}\u001B[0m\u001B[1;33m}\u001B[0m\u001B[1;33m,\u001B[0m\u001B[1;33m\u001B[0m\u001B[1;33m\u001B[0m\u001B[0m\n\u001B[0m\u001B[0;32m      3\u001B[0m     {\n\u001B[0;32m      4\u001B[0m         \u001B[1;34m'type'\u001B[0m\u001B[1;33m:\u001B[0m \u001B[1;34m'sphere'\u001B[0m\u001B[1;33m,\u001B[0m\u001B[1;33m\u001B[0m\u001B[1;33m\u001B[0m\u001B[0m\n\u001B[0;32m      5\u001B[0m         'geom_props': {\n",
      "\u001B[1;31mNameError\u001B[0m: name 'np' is not defined"
     ]
    }
   ],
   "source": [
    "objects = [\n",
    "    {\n",
    "        'type': 'sphere',\n",
    "        'geom_props': {\n",
    "            'center': np.array([-0.2, 0, -1]),\n",
    "            'radius': 0.7\n",
    "        },\n",
    "        'light_props': {\n",
    "            'ambient': np.array([0.1, 0, 0]),\n",
    "            'diffuse': np.array([0.7, 0, 0]),\n",
    "            'specular': np.array([1, 1, 1]),\n",
    "            'shininess': 100,\n",
    "            'reflection': 0.5\n",
    "        }\n",
    "    },\n",
    "    {\n",
    "        'type': 'sphere',\n",
    "        'geom_props': {\n",
    "            'center': np.array([0.1, -0.3, 0]),\n",
    "            'radius': 0.1\n",
    "        },\n",
    "        'light_props': {\n",
    "            'ambient': np.array([0.1, 0, 0.1]),\n",
    "            'diffuse': np.array([0.7, 0, 0.7]),\n",
    "            'specular': np.array([1, 1, 1]),\n",
    "            'shininess': 100,\n",
    "            'reflection': 0.5\n",
    "        }\n",
    "    },\n",
    "    {\n",
    "        'type': 'sphere',\n",
    "        'geom_props': {\n",
    "            'center': np.array([-0.3, 0, 0]),\n",
    "            'radius': 0.15\n",
    "        },\n",
    "        'light_props': {\n",
    "            'ambient': np.array([0, 0.1, 0]),\n",
    "            'diffuse': np.array([0, 0.6, 0]),\n",
    "            'specular': np.array([1, 1, 1]),\n",
    "            'shininess': 100,\n",
    "            'reflection': 0.5\n",
    "        }\n",
    "    },\n",
    "    {\n",
    "        'id': 'back_wall',\n",
    "        'type': 'plane',\n",
    "        'geom_props': {\n",
    "            'point': np.array([0.0, 0.0, -4.0]),\n",
    "            'normal': np.array([0.0, 0.0, 1.0])\n",
    "        },\n",
    "        'light_props': {\n",
    "            'ambient': np.array([0.23125, 0.23125, 0.23125]),\n",
    "            'diffuse': np.array([0.2775, 0.2775, 0.2775]), 'specular': np.array([0.773911, 0.773911, 0.773911]),\n",
    "            'shininess': 89.6,\n",
    "            'reflection': 0.5\n",
    "        }\n",
    "    },\n",
    "    {\n",
    "        'id': 'left_wall',\n",
    "        'type': 'plane',\n",
    "        'geom_props': {\n",
    "            'point': np.array([-4.0, 0.0, 0.0]),\n",
    "            'normal': np.array([1.0, 0.0, 0.0])},\n",
    "        'light_props': {\n",
    "            'ambient': np.array([0.1, 0, 0]),\n",
    "            'diffuse': np.array([0.7, 0, 0]),\n",
    "            'specular': np.array([1, 1, 1]),\n",
    "            'shininess': 100,\n",
    "            'reflection': 0.5\n",
    "     }\n",
    "    },\n",
    "    {\n",
    "        'id': 'right_wall',\n",
    "        'type': 'plane',\n",
    "        'geom_props': {\n",
    "            'point': np.array([4, 0.0, 0.0]),\n",
    "            'normal': np.array([-1.0, 0.0, 0.0])\n",
    "        },\n",
    "        'light_props': {\n",
    "            'ambient': np.array([0, 0.1, 0]),\n",
    "            'diffuse': np.array([0, 0.6, 0]),\n",
    "            'specular': np.array([1, 1, 1]),\n",
    "            'shininess': 100,\n",
    "            'reflection': 0.5\n",
    "        }\n",
    "    },\n",
    "    {\n",
    "        'id': 'top_wall',\n",
    "        'type': 'plane',\n",
    "        'window': {\n",
    "            'x':[-5, 5],\n",
    "            'z':[-5, 5]\n",
    "        },\n",
    "        'geom_props': {\n",
    "            'point': np.array([0.0, 4.0, 0.0]),\n",
    "            'normal': np.array([0.0, -1.0, 0.0])\n",
    "        },\n",
    "        'light_props': {\n",
    "            'ambient': np.array([0.23125, 0.23125, 0.23125]),\n",
    "            'diffuse': np.array([0.2775, 0.2775, 0.2775]),\n",
    "            'specular': np.array([0.773911, 0.773911, 0.773911]),\n",
    "            'shininess': 89.6,\n",
    "            'reflection': 0.5\n",
    "        }\n",
    "    },\n",
    "    {\n",
    "        'id': 'bottom_wall',\n",
    "        'type': 'plane',\n",
    "        'geom_props': {\n",
    "            'point': np.array([0.0, -4.0, 0.0]),\n",
    "            'normal': np.array([0.0, 1.0, 0.0])},\n",
    "        'light_props': {\n",
    "            'ambient': np.array([0.23125, 0.23125, 0.23125]),\n",
    "            'diffuse': np.array([0.2775, 0.2775, 0.2775]),\n",
    "            'specular': np.array([0.773911, 0.773911, 0.773911]),\n",
    "            'shininess': 89.6,\n",
    "            'reflection': 0.5\n",
    "        }\n",
    "    },\n",
    "]"
   ],
   "metadata": {
    "collapsed": false,
    "pycharm": {
     "name": "#%%\n"
    }
   }
  },
  {
   "cell_type": "code",
   "execution_count": null,
   "outputs": [],
   "source": [
    "image = np.zeros((height, width, 3))"
   ],
   "metadata": {
    "collapsed": false,
    "pycharm": {
     "name": "#%%\n"
    }
   }
  },
  {
   "cell_type": "code",
   "execution_count": null,
   "outputs": [],
   "source": [
    "for i, y in enumerate(np.linspace(screen['top'], screen['bottom'], height)):\n",
    "    for j, x in enumerate(np.linspace(screen['left'], screen['right'], width)):\n",
    "        # screen is on origin\n",
    "        pixel = np.array([x, y, 0])\n",
    "        origin = camera\n",
    "        end = pixel\n",
    "        direction = normalize(end - origin)\n",
    "\n",
    "        color = np.zeros((3))\n",
    "        reflection = 1\n",
    "\n",
    "        for k in range(max_depth):\n",
    "            # check for intersections\n",
    "            nearest_object, min_distance = nearest_intersected_object(objects, origin, end)\n",
    "\n",
    "            if nearest_object is None:\n",
    "                break\n",
    "\n",
    "            intersection = origin + min_distance * direction\n",
    "\n",
    "            if nearest_object['type'] == 'sphere':\n",
    "                normal_to_surface = normalize(intersection - nearest_object['geom_props']['center'])\n",
    "            elif nearest_object['type'] == 'triangle':\n",
    "                ab = nearest_object['geom_props']['b'] - nearest_object['geom_props']['a']\n",
    "                ac = nearest_object['geom_props']['c'] - nearest_object['geom_props']['a']\n",
    "                normal_to_surface = np.cross(ab, ac)\n",
    "            else:\n",
    "                normal_to_surface = nearest_object['geom_props']['normal']\n",
    "\n",
    "            shifted_point = intersection + 1e-5 * normal_to_surface\n",
    "\n",
    "            intersection_to_light = normalize(light_source['position'] - shifted_point)\n",
    "\n",
    "            _, min_distance = nearest_intersected_object(objects, shifted_point, light_source['position'])\n",
    "            intersection_to_light_distance = np.linalg.norm(light_source['position'] - intersection)\n",
    "            is_shadowed = min_distance < intersection_to_light_distance\n",
    "\n",
    "            if is_shadowed:\n",
    "                break\n",
    "\n",
    "            illumination = np.zeros((3))\n",
    "\n",
    "            # ambiant\n",
    "            illumination += get_ambience(nearest_object['light_props']['ambient'], light_source['ambient'])\n",
    "\n",
    "            # diffuse\n",
    "            illumination += get_diffuse(nearest_object['light_props']['diffuse'], light_source['diffuse'], intersection_to_light, normal_to_surface)\n",
    "\n",
    "            # specular\n",
    "            intersection_to_camera = normalize(camera - intersection)\n",
    "            viewing_direction = normalize(intersection_to_light + intersection_to_camera)\n",
    "            illumination += get_specular(nearest_object['light_props']['specular'], light_source['specular'], viewing_direction, normal_to_surface, nearest_object['light_props']['shininess'])\n",
    "\n",
    "            # reflection\n",
    "            color += reflection * illumination\n",
    "\n",
    "            reflection *= nearest_object['light_props']['reflection']\n",
    "\n",
    "            origin = shifted_point\n",
    "            direction = reflected_ray(direction, normal_to_surface)\n",
    "\n",
    "        image[i, j] = np.clip(color, 0, 1)\n",
    "    print(\"%d/%d\" % (i + 1, height))\n"
   ],
   "metadata": {
    "collapsed": false,
    "pycharm": {
     "name": "#%%\n"
    }
   }
  },
  {
   "cell_type": "code",
   "execution_count": null,
   "outputs": [],
   "source": [
    "plt.imshow(image)"
   ],
   "metadata": {
    "collapsed": false,
    "pycharm": {
     "name": "#%%\n"
    }
   }
  },
  {
   "cell_type": "code",
   "execution_count": 1,
   "outputs": [],
   "source": [],
   "metadata": {
    "collapsed": false,
    "pycharm": {
     "name": "#%%\n"
    }
   }
  },
  {
   "cell_type": "code",
   "execution_count": null,
   "outputs": [],
   "source": [],
   "metadata": {
    "collapsed": false,
    "pycharm": {
     "name": "#%%\n"
    }
   }
  }
 ],
 "metadata": {
  "kernelspec": {
   "display_name": "Python 3",
   "language": "python",
   "name": "python3"
  },
  "language_info": {
   "codemirror_mode": {
    "name": "ipython",
    "version": 2
   },
   "file_extension": ".py",
   "mimetype": "text/x-python",
   "name": "python",
   "nbconvert_exporter": "python",
   "pygments_lexer": "ipython2",
   "version": "2.7.6"
  }
 },
 "nbformat": 4,
 "nbformat_minor": 0
}