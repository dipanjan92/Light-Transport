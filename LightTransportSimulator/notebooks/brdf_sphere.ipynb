{
 "cells": [
  {
   "cell_type": "code",
   "execution_count": 39,
   "metadata": {
    "collapsed": true
   },
   "outputs": [],
   "source": [
    "from scipy.spatial.transform import Rotation as R\n",
    "%matplotlib inline\n",
    "import numpy as np\n",
    "import matplotlib.pyplot as plt"
   ]
  },
  {
   "cell_type": "code",
   "execution_count": 48,
   "outputs": [],
   "source": [
    "from LightTransportSimulator.RayVectors.utils import nearest_intersected_object\n",
    "from LightTransportSimulator.RayVectors.intersects import sphere_intersect\n",
    "from LightTransportSimulator.RayVectors.vectors import *\n",
    "from LightTransportSimulator.RayVectors.rays import *"
   ],
   "metadata": {
    "collapsed": false,
    "pycharm": {
     "name": "#%%\n"
    }
   }
  },
  {
   "cell_type": "code",
   "execution_count": 41,
   "outputs": [],
   "source": [
    "camera = np.array([0, 0, 1])"
   ],
   "metadata": {
    "collapsed": false,
    "pycharm": {
     "name": "#%%\n"
    }
   }
  },
  {
   "cell_type": "code",
   "execution_count": 42,
   "outputs": [],
   "source": [
    "width = 300\n",
    "height = 200\n",
    "aspect_ratio = width/height\n",
    "screen = {'left': -1, 'top': 1 / aspect_ratio, 'right': 1, 'bottom': -1 / aspect_ratio}\n",
    "max_depth = 3"
   ],
   "metadata": {
    "collapsed": false,
    "pycharm": {
     "name": "#%%\n"
    }
   }
  },
  {
   "cell_type": "code",
   "execution_count": 43,
   "outputs": [],
   "source": [
    "light_source = { 'position': np.array([5, 5, 5]), 'ambient': np.array([1, 1, 1]), 'diffuse': np.array([1, 1, 1]), 'specular': np.array([1, 1, 1]) }"
   ],
   "metadata": {
    "collapsed": false,
    "pycharm": {
     "name": "#%%\n"
    }
   }
  },
  {
   "cell_type": "code",
   "execution_count": 44,
   "outputs": [],
   "source": [
    "objects = [\n",
    "    { 'center': np.array([-0.2, 0, -1]), 'radius': 0.7, 'ambient': np.array([0.1, 0, 0]), 'diffuse': np.array([0.7, 0, 0]), 'specular': np.array([1, 1, 1]), 'shininess': 100, 'reflection': 0.5 },\n",
    "    { 'center': np.array([0.1, -0.3, 0]), 'radius': 0.1, 'ambient': np.array([0.1, 0, 0.1]), 'diffuse': np.array([0.7, 0, 0.7]), 'specular': np.array([1, 1, 1]), 'shininess': 100, 'reflection': 0.5 },\n",
    "    { 'center': np.array([-0.3, 0, 0]), 'radius': 0.15, 'ambient': np.array([0, 0.1, 0]), 'diffuse': np.array([0, 0.6, 0]), 'specular': np.array([1, 1, 1]), 'shininess': 100, 'reflection': 0.5 },\n",
    "    { 'center': np.array([0, -9000, 0]), 'radius': 9000 - 0.7, 'ambient': np.array([0.1, 0.1, 0.1]), 'diffuse': np.array([0.6, 0.6, 0.6]), 'specular': np.array([1, 1, 1]), 'shininess': 100, 'reflection': 0.5 }\n",
    "]"
   ],
   "metadata": {
    "collapsed": false,
    "pycharm": {
     "name": "#%%\n"
    }
   }
  },
  {
   "cell_type": "code",
   "execution_count": 45,
   "outputs": [],
   "source": [
    "image = np.zeros((height, width, 3))"
   ],
   "metadata": {
    "collapsed": false,
    "pycharm": {
     "name": "#%%\n"
    }
   }
  },
  {
   "cell_type": "code",
   "execution_count": 53,
   "outputs": [
    {
     "name": "stdout",
     "output_type": "stream",
     "text": [
      "1/200\n",
      "2/200\n",
      "3/200\n",
      "4/200\n",
      "5/200\n",
      "6/200\n",
      "7/200\n",
      "8/200\n",
      "9/200\n",
      "10/200\n",
      "11/200\n",
      "12/200\n",
      "13/200\n",
      "14/200\n",
      "15/200\n",
      "16/200\n",
      "17/200\n",
      "18/200\n",
      "19/200\n",
      "20/200\n",
      "21/200\n",
      "22/200\n",
      "23/200\n",
      "24/200\n",
      "25/200\n",
      "26/200\n",
      "27/200\n",
      "28/200\n",
      "29/200\n",
      "30/200\n",
      "31/200\n",
      "32/200\n",
      "33/200\n",
      "34/200\n",
      "35/200\n",
      "36/200\n",
      "37/200\n",
      "38/200\n",
      "39/200\n",
      "40/200\n",
      "41/200\n",
      "42/200\n",
      "43/200\n",
      "44/200\n",
      "45/200\n",
      "46/200\n",
      "47/200\n",
      "48/200\n",
      "49/200\n",
      "50/200\n",
      "51/200\n",
      "52/200\n",
      "53/200\n",
      "54/200\n",
      "55/200\n",
      "56/200\n",
      "57/200\n",
      "58/200\n",
      "59/200\n",
      "60/200\n",
      "61/200\n",
      "62/200\n",
      "63/200\n",
      "64/200\n",
      "65/200\n",
      "66/200\n",
      "67/200\n",
      "68/200\n",
      "69/200\n",
      "70/200\n",
      "71/200\n",
      "72/200\n",
      "73/200\n",
      "74/200\n",
      "75/200\n",
      "76/200\n",
      "77/200\n",
      "78/200\n",
      "79/200\n",
      "80/200\n",
      "81/200\n",
      "82/200\n",
      "83/200\n",
      "84/200\n",
      "85/200\n",
      "86/200\n",
      "87/200\n",
      "88/200\n",
      "89/200\n",
      "90/200\n",
      "91/200\n",
      "92/200\n",
      "93/200\n",
      "94/200\n",
      "95/200\n",
      "96/200\n",
      "97/200\n",
      "98/200\n",
      "99/200\n",
      "100/200\n",
      "101/200\n",
      "102/200\n",
      "103/200\n",
      "104/200\n",
      "105/200\n",
      "106/200\n",
      "107/200\n",
      "108/200\n",
      "109/200\n",
      "110/200\n",
      "111/200\n",
      "112/200\n",
      "113/200\n",
      "114/200\n",
      "115/200\n",
      "116/200\n",
      "117/200\n",
      "118/200\n",
      "119/200\n",
      "120/200\n",
      "121/200\n",
      "122/200\n",
      "123/200\n",
      "124/200\n",
      "125/200\n",
      "126/200\n",
      "127/200\n",
      "128/200\n",
      "129/200\n",
      "130/200\n",
      "131/200\n",
      "132/200\n",
      "133/200\n",
      "134/200\n",
      "135/200\n",
      "136/200\n",
      "137/200\n",
      "138/200\n",
      "139/200\n",
      "140/200\n",
      "141/200\n",
      "142/200\n",
      "143/200\n",
      "144/200\n",
      "145/200\n",
      "146/200\n",
      "147/200\n",
      "148/200\n",
      "149/200\n",
      "150/200\n",
      "151/200\n",
      "152/200\n",
      "153/200\n",
      "154/200\n",
      "155/200\n",
      "156/200\n",
      "157/200\n",
      "158/200\n",
      "159/200\n",
      "160/200\n",
      "161/200\n",
      "162/200\n",
      "163/200\n",
      "164/200\n",
      "165/200\n",
      "166/200\n",
      "167/200\n",
      "168/200\n",
      "169/200\n",
      "170/200\n",
      "171/200\n",
      "172/200\n",
      "173/200\n",
      "174/200\n",
      "175/200\n",
      "176/200\n",
      "177/200\n",
      "178/200\n",
      "179/200\n",
      "180/200\n",
      "181/200\n",
      "182/200\n",
      "183/200\n",
      "184/200\n",
      "185/200\n",
      "186/200\n",
      "187/200\n",
      "188/200\n",
      "189/200\n",
      "190/200\n",
      "191/200\n",
      "192/200\n",
      "193/200\n",
      "194/200\n",
      "195/200\n",
      "196/200\n",
      "197/200\n",
      "198/200\n",
      "199/200\n",
      "200/200\n"
     ]
    }
   ],
   "source": [
    "for i, y in enumerate(np.linspace(screen['top'], screen['bottom'], height)):\n",
    "    for j, x in enumerate(np.linspace(screen['left'], screen['right'], width)):\n",
    "        # screen is on origin\n",
    "        pixel = np.array([x, y, 0])\n",
    "        origin = camera\n",
    "        direction = normalize(pixel - origin)\n",
    "\n",
    "        color = np.zeros((3))\n",
    "        reflection = 1\n",
    "\n",
    "        for k in range(max_depth):\n",
    "            # check for intersections\n",
    "            nearest_object, min_distance = nearest_intersected_object(objects, origin, direction)\n",
    "            if nearest_object is None:\n",
    "                break\n",
    "\n",
    "            intersection = origin + min_distance * direction\n",
    "            normal_to_surface = normalize(intersection - nearest_object['center'])\n",
    "            shifted_point = intersection + 1e-5 * normal_to_surface\n",
    "            intersection_to_light = normalize(light_source['position'] - shifted_point)\n",
    "\n",
    "            _, min_distance = nearest_intersected_object(objects, shifted_point, intersection_to_light)\n",
    "            intersection_to_light_distance = np.linalg.norm(light_source['position'] - intersection)\n",
    "            is_shadowed = min_distance < intersection_to_light_distance\n",
    "\n",
    "            if is_shadowed:\n",
    "                break\n",
    "\n",
    "            illumination = np.zeros((3))\n",
    "\n",
    "            # ambiant\n",
    "            illumination += get_ambience(nearest_object['ambient'], light_source['ambient'])\n",
    "\n",
    "            # diffuse\n",
    "            illumination += get_diffuse(nearest_object['diffuse'], light_source['diffuse'], intersection_to_light, normal_to_surface)\n",
    "\n",
    "            # specular\n",
    "            intersection_to_camera = normalize(camera - intersection)\n",
    "            viewing_direction = normalize(intersection_to_light + intersection_to_camera)\n",
    "            illumination += get_specular(nearest_object['specular'], light_source['specular'], viewing_direction, normal_to_surface, nearest_object['shininess'])\n",
    "\n",
    "            # reflection\n",
    "            color += reflection * illumination\n",
    "            reflection *= nearest_object['reflection']\n",
    "\n",
    "            origin = shifted_point\n",
    "            direction = reflected_ray(direction, normal_to_surface)\n",
    "\n",
    "        image[i, j] = np.clip(color, 0, 1)\n",
    "    print(\"%d/%d\" % (i + 1, height))\n"
   ],
   "metadata": {
    "collapsed": false,
    "pycharm": {
     "name": "#%%\n"
    }
   }
  },
  {
   "cell_type": "code",
   "execution_count": 54,
   "outputs": [
    {
     "data": {
      "text/plain": "<matplotlib.image.AxesImage at 0x2a5760b61a0>"
     },
     "execution_count": 54,
     "metadata": {},
     "output_type": "execute_result"
    },
    {
     "data": {
      "text/plain": "<Figure size 432x288 with 1 Axes>",
      "image/png": "[encoded data removed]"
     },
     "metadata": {
      "needs_background": "light"
     },
     "output_type": "display_data"
    }
   ],
   "source": [
    "plt.imshow(image)"
   ],
   "metadata": {
    "collapsed": false,
    "pycharm": {
     "name": "#%%\n"
    }
   }
  },
  {
   "cell_type": "code",
   "execution_count": 14,
   "outputs": [],
   "source": [
    "plt.imsave('image.png', image)"
   ],
   "metadata": {
    "collapsed": false,
    "pycharm": {
     "name": "#%%\n"
    }
   }
  },
  {
   "cell_type": "code",
   "execution_count": null,
   "outputs": [],
   "source": [],
   "metadata": {
    "collapsed": false,
    "pycharm": {
     "name": "#%%\n"
    }
   }
  }
 ],
 "metadata": {
  "kernelspec": {
   "display_name": "Python 3",
   "language": "python",
   "name": "python3"
  },
  "language_info": {
   "codemirror_mode": {
    "name": "ipython",
    "version": 2
   },
   "file_extension": ".py",
   "mimetype": "text/x-python",
   "name": "python",
   "nbconvert_exporter": "python",
   "pygments_lexer": "ipython2",
   "version": "2.7.6"
  }
 },
 "nbformat": 4,
 "nbformat_minor": 0
}