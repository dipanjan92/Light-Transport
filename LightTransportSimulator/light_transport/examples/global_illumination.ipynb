{
 "cells": [
  {
   "cell_type": "code",
   "execution_count": 1,
   "metadata": {
    "collapsed": true
   },
   "outputs": [
    {
     "name": "stderr",
     "output_type": "stream",
     "text": [
      "2022-10-12 12:29:38.976 INFO    numexpr.utils: NumExpr defaulting to 8 threads.\n"
     ]
    }
   ],
   "source": [
    "import math\n",
    "import os\n",
    "import shutil\n",
    "import time\n",
    "from pathlib import Path\n",
    "\n",
    "import matplotlib.pyplot as plt\n",
    "import streamlit as st\n",
    "import numpy as np\n",
    "import numba\n",
    "import pyvista as pv"
   ]
  },
  {
   "cell_type": "code",
   "execution_count": 3,
   "outputs": [],
   "source": [
    "from LightTransportSimulator.light_transport.src.scene import Scene, Light\n",
    "from LightTransportSimulator.light_transport.src.primitives import Triangle, PreComputedTriangle\n",
    "from LightTransportSimulator.light_transport.src.cornell_box import get_cornell_box, get_floor\n",
    "from LightTransportSimulator.light_transport.src.colors import *\n",
    "from LightTransportSimulator.light_transport.src.render_old import render_scene"
   ],
   "metadata": {
    "collapsed": false,
    "pycharm": {
     "name": "#%%\n"
    }
   }
  },
  {
   "cell_type": "code",
   "execution_count": 4,
   "outputs": [
    {
     "data": {
      "text/plain": "10"
     },
     "execution_count": 4,
     "metadata": {},
     "output_type": "execute_result"
    }
   ],
   "source": [
    "#load object\n",
    "mesh = pv.Cone(radius=2, center=[0,0,0], height=5)\n",
    "tri = mesh.triangulate()\n",
    "points = np.ascontiguousarray(tri.points)\n",
    "faces = tri.faces.reshape((-1,4))[:, 1:4]\n",
    "vertices = np.ascontiguousarray(points[faces], dtype=np.float64)\n",
    "len(vertices)"
   ],
   "metadata": {
    "collapsed": false,
    "pycharm": {
     "name": "#%%\n"
    }
   }
  },
  {
   "cell_type": "code",
   "execution_count": 5,
   "outputs": [
    {
     "data": {
      "text/plain": "(2.5, 2.0, 1.7320508, 7.5)"
     },
     "execution_count": 5,
     "metadata": {},
     "output_type": "execute_result"
    }
   ],
   "source": [
    "#set scene depths\n",
    "\n",
    "xmax, ymax, zmax = points.max(axis=0)\n",
    "xmin, ymin, zmin = points.min(axis=0)\n",
    "\n",
    "padding = 5\n",
    "depth = abs(max(xmax, ymax, zmax)) + padding\n",
    "x_depth = abs(xmax) + 10\n",
    "y_depth = abs(ymax) + 1\n",
    "z_depth = abs(zmax) + 10\n",
    "xmax, ymax, zmax, depth"
   ],
   "metadata": {
    "collapsed": false,
    "pycharm": {
     "name": "#%%\n"
    }
   }
  },
  {
   "cell_type": "code",
   "execution_count": 6,
   "outputs": [],
   "source": [
    "# empty object list\n",
    "objects = numba.typed.List()"
   ],
   "metadata": {
    "collapsed": false,
    "pycharm": {
     "name": "#%%\n"
    }
   }
  },
  {
   "cell_type": "code",
   "execution_count": 7,
   "outputs": [],
   "source": [
    "start_id = len(objects)\n",
    "surface_color = WHITE_2\n",
    "left_wall_color = GREEN\n",
    "right_wall_color = RED\n",
    "surface_mat = Material(color=surface_color, shininess=30, reflection=0.1, ior=1.5210, transmission=1) # calcium sulphate\n",
    "left_wall_mat = Material(color=left_wall_color, shininess=30, reflection=0.1, ior=1.5210, transmission=1)\n",
    "right_wall_mat = Material(color=right_wall_color, shininess=30, reflection=0.1, ior=1.5210, transmission=1)\n",
    "\n",
    "objects = get_cornell_box(depth, surface_mat, left_wall_mat, right_wall_mat, start_id)"
   ],
   "metadata": {
    "collapsed": false,
    "pycharm": {
     "name": "#%%\n"
    }
   }
  },
  {
   "cell_type": "code",
   "execution_count": 8,
   "outputs": [
    {
     "data": {
      "text/plain": "ListType[instance.jitclass.PreComputedTriangle#2adbcada410<type:int64,id:int64,vertex_1:array(float64, 1d, C),vertex_2:array(float64, 1d, C),vertex_3:array(float64, 1d, C),centroid:array(float64, 1d, C),material:instance.jitclass.Material#2adbcb1a3b0<color:instance.jitclass.Color#2adbcb3aa70<ambient:array(float64, 1d, A),diffuse:array(float64, 1d, A),specular:array(float64, 1d, A)>,shininess:float64,reflection:float64,ior:float64,is_diffuse:bool,is_mirror:bool,emission:float64,transmission:float64>,is_light:bool,edge_1:array(float64, 1d, C),edge_2:array(float64, 1d, C),normal:array(float64, 1d, C),num:float64,transformation:array(float64, 2d, A)>]([<numba.experimental.jitclass.boxing.PreComputedTriangle object at 0x000002ADC0E9B940>, <numba.experimental.jitclass.boxing.PreComputedTriangle object at 0x000002ADC0E9BE50>, <numba.experimental.jitclass.boxing.PreComputedTriangle object at 0x000002ADC0E9B940>, <numba.experimental.jitclass.boxing.PreComputedTriangle object at 0x000002ADC0E9BE50>, <numba.experimental.jitclass.boxing.PreComputedTriangle object at 0x000002ADC0E9B940>, <numba.experimental.jitclass.boxing.PreComputedTriangle object at 0x000002ADC0E9BE50>, <numba.experimental.jitclass.boxing.PreComputedTriangle object at 0x000002ADC0E9B940>, <numba.experimental.jitclass.boxing.PreComputedTriangle object at 0x000002ADC0E9BE50>, <numba.experimental.jitclass.boxing.PreComputedTriangle object at 0x000002ADC0E9B940>, <numba.experimental.jitclass.boxing.PreComputedTriangle object at 0x000002ADC0E9BE50>, <numba.experimental.jitclass.boxing.PreComputedTriangle object at 0x000002ADC0E9B940>, <numba.experimental.jitclass.boxing.PreComputedTriangle object at 0x000002ADC0E9BE50>, <numba.experimental.jitclass.boxing.PreComputedTriangle object at 0x000002ADC0E9B940>, <numba.experimental.jitclass.boxing.PreComputedTriangle object at 0x000002ADC0E9BE50>, <numba.experimental.jitclass.boxing.PreComputedTriangle object at 0x000002ADC0E9B940>, <numba.experimental.jitclass.boxing.PreComputedTriangle object at 0x000002ADC0E9BE50>, <numba.experimental.jitclass.boxing.PreComputedTriangle object at 0x000002ADC0E9B940>, <numba.experimental.jitclass.boxing.PreComputedTriangle object at 0x000002ADC0E9BE50>, <numba.experimental.jitclass.boxing.PreComputedTriangle object at 0x000002ADC0E9B940>, <numba.experimental.jitclass.boxing.PreComputedTriangle object at 0x000002ADC0E9BE50>, <numba.experimental.jitclass.boxing.PreComputedTriangle object at 0x000002ADC0E9B940>, <numba.experimental.jitclass.boxing.PreComputedTriangle object at 0x000002ADC0E9BE50>, <numba.experimental.jitclass.boxing.PreComputedTriangle object at 0x000002ADC0E9B940>, <numba.experimental.jitclass.boxing.PreComputedTriangle object at 0x000002ADC0E9BE50>, <numba.experimental.jitclass.boxing.PreComputedTriangle object at 0x000002ADC0E9B940>, <numba.experimental.jitclass.boxing.PreComputedTriangle object at 0x000002ADC0E9BE50>, ...])"
     },
     "execution_count": 8,
     "metadata": {},
     "output_type": "execute_result"
    }
   ],
   "source": [
    "id = len(objects)+1\n",
    "for v in vertices:\n",
    "    a,b,c = np.append(v[0], 1),np.append(v[1], 1),np.append(v[2], 1)\n",
    "    id+=1\n",
    "    triangle = PreComputedTriangle(id=id,\n",
    "                                   vertex_1=np.ascontiguousarray(a, dtype=np.float64),\n",
    "                                   vertex_2=np.ascontiguousarray(b, dtype=np.float64),\n",
    "                                   vertex_3=np.ascontiguousarray(c, dtype=np.float64),\n",
    "                                   material=GLASS_MAT)\n",
    "    objects.append(triangle)\n",
    "\n",
    "objects"
   ],
   "metadata": {
    "collapsed": false,
    "pycharm": {
     "name": "#%%\n"
    }
   }
  },
  {
   "cell_type": "code",
   "execution_count": 9,
   "outputs": [
    {
     "name": "stdout",
     "output_type": "stream",
     "text": [
      "[-0.86172049  7.6        -0.53692063  1.        ] [0.86172049 7.6        0.53692063 1.        ]\n",
      "[0.4715552  7.6        0.48375303 1.        ] [-0.4715552   7.6        -0.48375303  1.        ]\n",
      "[-0.20460959  7.6         0.05560446  1.        ] [ 0.20460959  7.6        -0.05560446  1.        ]\n",
      "[-0.0903753   7.6         0.19074159  1.        ] [ 0.0903753   7.6        -0.19074159  1.        ]\n",
      "[0.27923001 7.6        0.29533602 1.        ] [-0.27923001  7.6        -0.29533602  1.        ]\n",
      "[-0.61018251  7.6        -0.24357509  1.        ] [0.61018251 7.6        0.24357509 1.        ]\n",
      "[-0.1325838   7.6         0.62337036  1.        ] [ 0.1325838   7.6        -0.62337036  1.        ]\n",
      "[-0.10659974  7.6         0.71557085  1.        ] [ 0.10659974  7.6        -0.71557085  1.        ]\n",
      "[-0.66615974  7.6         0.51304701  1.        ] [ 0.66615974  7.6        -0.51304701  1.        ]\n",
      "[-0.66649625  7.6         0.37253113  1.        ] [ 0.66649625  7.6        -0.37253113  1.        ]\n"
     ]
    },
    {
     "data": {
      "text/plain": "ListType[instance.jitclass.Light#2adbcb18b50<source:array(float64, 1d, A),material:instance.jitclass.Material#2adbcb1a3b0<color:instance.jitclass.Color#2adbcb3aa70<ambient:array(float64, 1d, A),diffuse:array(float64, 1d, A),specular:array(float64, 1d, A)>,shininess:float64,reflection:float64,ior:float64,is_diffuse:bool,is_mirror:bool,emission:float64,transmission:float64>>]([<numba.experimental.jitclass.boxing.Light object at 0x000002ADC0FEB400>, <numba.experimental.jitclass.boxing.Light object at 0x000002ADC0FEBB50>, <numba.experimental.jitclass.boxing.Light object at 0x000002ADC0FEB400>, <numba.experimental.jitclass.boxing.Light object at 0x000002ADC0FEBB50>, <numba.experimental.jitclass.boxing.Light object at 0x000002ADC0FEB400>, <numba.experimental.jitclass.boxing.Light object at 0x000002ADC0FEBB50>, <numba.experimental.jitclass.boxing.Light object at 0x000002ADC0FEB400>, <numba.experimental.jitclass.boxing.Light object at 0x000002ADC0FEBB50>, <numba.experimental.jitclass.boxing.Light object at 0x000002ADC0FEB400>, <numba.experimental.jitclass.boxing.Light object at 0x000002ADC0FEBB50>, <numba.experimental.jitclass.boxing.Light object at 0x000002ADC0FEB400>, <numba.experimental.jitclass.boxing.Light object at 0x000002ADC0FEBB50>, <numba.experimental.jitclass.boxing.Light object at 0x000002ADC0FEB400>, <numba.experimental.jitclass.boxing.Light object at 0x000002ADC0FEBB50>, <numba.experimental.jitclass.boxing.Light object at 0x000002ADC0FEB400>, <numba.experimental.jitclass.boxing.Light object at 0x000002ADC0FEBB50>, <numba.experimental.jitclass.boxing.Light object at 0x000002ADC0FEB400>, <numba.experimental.jitclass.boxing.Light object at 0x000002ADC0FEBB50>, <numba.experimental.jitclass.boxing.Light object at 0x000002ADC0FEB400>, <numba.experimental.jitclass.boxing.Light object at 0x000002ADC0FEBB50>, ...])"
     },
     "execution_count": 9,
     "metadata": {},
     "output_type": "execute_result"
    }
   ],
   "source": [
    "# global light source\n",
    "\n",
    "source_mat = Material(color=WHITE, shininess=1, reflection=0.9, ior=1.5)\n",
    "\n",
    "l_x = 1\n",
    "l_y = depth+0.1\n",
    "l_z = 1\n",
    "\n",
    "id = len(objects)+1\n",
    "\n",
    "light_1 = PreComputedTriangle(id=id,\n",
    "                              vertex_1=np.array([-l_x, l_y, -l_z, 1], dtype=np.float64),\n",
    "                              vertex_2=np.array([l_x, l_y, l_z, 1], dtype=np.float64),\n",
    "                              vertex_3=np.array([-l_x, l_y, l_z, 1], dtype=np.float64),\n",
    "                              material=source_mat,\n",
    "                              is_light=True)\n",
    "id += 1\n",
    "\n",
    "light_2 = PreComputedTriangle(id=id,\n",
    "                              vertex_1=np.array([l_x, l_y, l_z, 1], dtype=np.float64),\n",
    "                              vertex_2=np.array([-l_x, l_y, -l_z, 1], dtype=np.float64),\n",
    "                              vertex_3=np.array([l_x, l_y, -l_z, 1], dtype=np.float64),\n",
    "                              material=source_mat,\n",
    "                              is_light=True)\n",
    "\n",
    "\n",
    "light_samples = 10\n",
    "a = np.random.uniform(0,1,light_samples)\n",
    "b = np.random.uniform(1,0,light_samples)\n",
    "\n",
    "light_sources = numba.typed.List()\n",
    "\n",
    "for x in range(light_samples):\n",
    "    tp1 = light_1.vertex_1 * (1-math.sqrt(a[x])) + light_1.vertex_2 * (math.sqrt(a[x])*(1-b[x])) + light_1.vertex_3 * (b[x]*math.sqrt(a[x]))\n",
    "    l1 = Light(source=tp1, material=source_mat)\n",
    "    light_sources.append(l1)\n",
    "    tp2 = light_2.vertex_1 * (1-math.sqrt(a[x])) + light_2.vertex_2 * (math.sqrt(a[x])*(1-b[x])) + light_2.vertex_3 * (b[x]*math.sqrt(a[x]))\n",
    "    l2 = Light(source=tp1, material=source_mat)\n",
    "    light_sources.append(l2)\n",
    "    print(tp1, tp2)\n",
    "\n",
    "light_sources"
   ],
   "metadata": {
    "collapsed": false,
    "pycharm": {
     "name": "#%%\n"
    }
   }
  },
  {
   "cell_type": "code",
   "execution_count": 10,
   "outputs": [],
   "source": [
    "objects.append(light_1)\n",
    "objects.append(light_2)"
   ],
   "metadata": {
    "collapsed": false,
    "pycharm": {
     "name": "#%%\n"
    }
   }
  },
  {
   "cell_type": "code",
   "execution_count": 11,
   "outputs": [],
   "source": [
    "# setup scene\n",
    "\n",
    "#camera\n",
    "camera = np.array([0, 0, depth+0.5, 1], dtype=np.float64)\n",
    "\n",
    "#screen\n",
    "width=400\n",
    "height=400\n",
    "max_depth=3\n",
    "\n",
    "#scene\n",
    "scene = Scene(camera=camera, lights=light_sources, width=width, height=height, max_depth=max_depth, depth=depth)"
   ],
   "metadata": {
    "collapsed": false,
    "pycharm": {
     "name": "#%%\n"
    }
   }
  },
  {
   "cell_type": "code",
   "execution_count": 12,
   "outputs": [
    {
     "data": {
      "text/plain": "<numba.experimental.jitclass.boxing.AABB at 0x2adc0e4f5e0>"
     },
     "execution_count": 12,
     "metadata": {},
     "output_type": "execute_result"
    }
   ],
   "source": [
    "from LightTransportSimulator.light_transport.src.primitives import AABB\n",
    "# min_point=np.array([scene.left, scene.bottom, -scene.depth], dtype=np.float64)\n",
    "# max_point=np.array([scene.right, scene.top, scene.depth], dtype=np.float64)\n",
    "min_point=np.array([xmin, ymin, zmin], dtype=np.float64)\n",
    "max_point=np.array([xmax, ymax, zmax], dtype=np.float64)\n",
    "box = AABB(min_point=min_point, max_point=max_point)\n",
    "box"
   ],
   "metadata": {
    "collapsed": false,
    "pycharm": {
     "name": "#%%\n"
    }
   }
  },
  {
   "cell_type": "code",
   "execution_count": 13,
   "outputs": [],
   "source": [
    "from LightTransportSimulator.light_transport.src.bvh import BVH\n",
    "\n",
    "bvh = BVH()\n",
    "bvh.insert(objects, box)"
   ],
   "metadata": {
    "collapsed": false,
    "pycharm": {
     "name": "#%%\n"
    }
   }
  },
  {
   "cell_type": "code",
   "execution_count": null,
   "outputs": [
    {
     "name": "stdout",
     "output_type": "stream",
     "text": [
      "1\n",
      "101\n",
      "30135151\n",
      "102\n",
      "2\n",
      "\n",
      "\n",
      "352\n",
      "30252\n",
      "\n",
      "103\n",
      "3533\n",
      "\n",
      "53\n",
      "3034\n",
      "\n",
      "35410454\n",
      "\n",
      "304\n",
      "5\n",
      "\n",
      "35530510555\n",
      "\n",
      "\n",
      "\n",
      "6\n",
      "7\n",
      "56356\n",
      "106\n",
      "306\n",
      "\n",
      "8\n",
      "57\n",
      "307357910758\n",
      "\n",
      "\n",
      "\n",
      "\n",
      "59308\n",
      "10\n",
      "108358\n",
      "\n",
      "\n",
      "11\n",
      "309\n",
      "12\n",
      "35960109310\n",
      "\n",
      "\n",
      "\n",
      "13\n",
      "6114110\n",
      "360\n",
      "\n",
      "311\n",
      "\n",
      "3611531262\n",
      "111\n",
      "\n",
      "\n",
      "\n",
      "6311216313362\n",
      "\n",
      "\n",
      "\n",
      "\n",
      "17\n",
      "64\n",
      "113314\n",
      "\n",
      "18363\n",
      "\n",
      "65\n",
      "315\n",
      "1146619364316\n",
      "\n",
      "\n",
      "\n",
      "\n",
      "3173652067115\n",
      "\n",
      "\n",
      "\n",
      "\n",
      "1166831821366\n",
      "\n",
      "\n",
      "\n",
      "\n",
      "22\n",
      "36711769319\n",
      "23\n",
      "\n",
      "\n",
      "\n",
      "3207011836824\n",
      "\n",
      "\n",
      "\n",
      "\n",
      "2571\n",
      "321369119\n",
      "\n",
      "\n",
      "72\n",
      "\n",
      "1203222673370\n",
      "\n",
      "\n",
      "\n",
      "\n",
      "37174\n",
      "12127323\n",
      "75\n",
      "\n",
      "\n",
      "\n",
      "3722876122324\n",
      "\n",
      "\n",
      "\n",
      "\n",
      "7712332529373\n",
      "\n",
      "\n",
      "\n",
      "\n",
      "7837412432630\n",
      "\n",
      "\n",
      "\n",
      "\n",
      "3271253753179\n",
      "\n",
      "\n",
      "\n",
      "\n",
      "80328\n",
      "12637632\n",
      "329\n",
      "\n",
      "\n",
      "\n",
      "8137733330127\n",
      "\n",
      "\n",
      "\n",
      "\n",
      "1283318237834\n",
      "\n",
      "\n",
      "\n",
      "\n",
      "12983332379\n",
      "35\n",
      "\n",
      "\n",
      "\n",
      "333\n",
      "130380\n",
      "3684\n",
      "\n",
      "334\n",
      "\n",
      "131381\n",
      "\n",
      "335\n",
      "37\n",
      "85\n",
      "1323363838286\n",
      "\n",
      "\n",
      "\n",
      "\n",
      "13387337383\n",
      "\n",
      "\n",
      "\n",
      "39\n",
      "38488338\n",
      "40134\n",
      "\n",
      "\n",
      "\n",
      "339\n",
      "8913538541340\n",
      "\n",
      "\n",
      "\n",
      "\n",
      "3863414290136\n",
      "\n",
      "\n",
      "\n",
      "\n",
      "9143342387\n",
      "\n",
      "\n",
      "\n",
      "3889234344\n",
      "\n",
      "\n",
      "\n",
      "9338945344\n",
      "\n",
      "\n",
      "\n",
      "3453904694\n",
      "\n",
      "\n",
      "\n",
      "39134695\n",
      "\n",
      "\n",
      "47\n",
      "3929634748\n",
      "\n",
      "\n",
      "\n",
      "97393\n",
      "\n",
      "49348\n",
      "\n",
      "3945098\n",
      "\n",
      "\n",
      "349\n",
      "39599350\n",
      "\n",
      "\n",
      "100396\n",
      "\n",
      "397\n",
      "398\n",
      "399\n",
      "400\n",
      "137\n",
      "251\n",
      "151\n",
      "138\n",
      "252\n",
      "139\n",
      "253\n",
      "152\n",
      "140\n",
      "254\n",
      "141\n",
      "255\n",
      "142\n",
      "153\n",
      "256\n",
      "143\n",
      "257\n",
      "144\n",
      "258\n",
      "145\n",
      "259\n",
      "154\n",
      "146\n",
      "260\n",
      "147\n",
      "261\n",
      "148\n",
      "262\n",
      "263\n",
      "149\n",
      "264\n",
      "265\n",
      "266\n",
      "267\n",
      "268\n",
      "269\n",
      "270\n",
      "271\n",
      "272\n",
      "273\n",
      "274\n",
      "275\n",
      "276\n",
      "277\n",
      "278\n",
      "279\n",
      "280\n",
      "281\n",
      "282\n",
      "283\n",
      "284\n",
      "285\n",
      "286\n",
      "287\n",
      "288\n",
      "289\n",
      "290\n",
      "291\n",
      "292\n",
      "293\n",
      "294\n",
      "295\n",
      "296\n",
      "297\n",
      "298\n",
      "299\n",
      "300\n",
      "155\n",
      "150\n",
      "156\n",
      "157\n",
      "201\n",
      "158\n",
      "159\n",
      "160\n",
      "161\n",
      "202\n",
      "162\n",
      "163\n",
      "164\n",
      "203\n",
      "165\n",
      "166\n",
      "204\n",
      "167\n",
      "168\n",
      "205\n",
      "169\n",
      "170\n",
      "206\n",
      "171\n",
      "172\n",
      "207\n",
      "173\n",
      "174\n",
      "208\n",
      "175\n",
      "209\n",
      "176\n",
      "177\n",
      "210\n",
      "178\n",
      "211\n",
      "179\n",
      "212\n",
      "180\n",
      "213\n",
      "181\n",
      "214\n",
      "182\n"
     ]
    }
   ],
   "source": [
    "start = time.time()\n",
    "image = render_scene(scene, bvh.top)\n",
    "end = time.time()\n",
    "print(\"Elapsed (with compilation) = %s\" % (end - start))"
   ],
   "metadata": {
    "collapsed": false,
    "pycharm": {
     "name": "#%%\n",
     "is_executing": true
    }
   }
  },
  {
   "cell_type": "code",
   "execution_count": null,
   "outputs": [],
   "source": [
    "plt.imshow(image)"
   ],
   "metadata": {
    "collapsed": false,
    "pycharm": {
     "name": "#%%\n"
    }
   }
  }
 ],
 "metadata": {
  "kernelspec": {
   "display_name": "Python 3",
   "language": "python",
   "name": "python3"
  },
  "language_info": {
   "codemirror_mode": {
    "name": "ipython",
    "version": 2
   },
   "file_extension": ".py",
   "mimetype": "text/x-python",
   "name": "python",
   "nbconvert_exporter": "python",
   "pygments_lexer": "ipython2",
   "version": "2.7.6"
  }
 },
 "nbformat": 4,
 "nbformat_minor": 0
}