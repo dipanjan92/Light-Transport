{
 "cells": [
  {
   "cell_type": "markdown",
   "source": [
    "# Path Tracing Notebook\n",
    "The first 5 code cells are required only on Google Colab. Ignore them if you are running the notebook from your local machine."
   ],
   "metadata": {
    "collapsed": false,
    "pycharm": {
     "name": "#%% md\n"
    }
   }
  },
  {
   "cell_type": "code",
   "execution_count": null,
   "outputs": [],
   "source": [
    "# 1. Run only if you need to delete cached folder from Google Colab\n",
    "!rm -rf /content/light-transport"
   ],
   "metadata": {
    "collapsed": false,
    "pycharm": {
     "name": "#%%\n"
    }
   }
  },
  {
   "cell_type": "code",
   "execution_count": null,
   "metadata": {
    "colab": {
     "base_uri": "https://localhost:8080/"
    },
    "id": "Zd1bheK0_pzj",
    "outputId": "8ebc56a8-5922-4a5d-8dac-54f383b1a3f4"
   },
   "outputs": [],
   "source": [
    "# 2. Download the project files from Github\n",
    "!git clone https://github.com/dipanjan92/light-transport.git"
   ]
  },
  {
   "cell_type": "code",
   "execution_count": null,
   "metadata": {
    "id": "fs42SJE7_3P8"
   },
   "outputs": [],
   "source": [
    "# 3. Add the project directory to the system PATH\n",
    "import sys\n",
    "sys.path.insert(0,'/content/light-transport/LightTransportSimulator')"
   ]
  },
  {
   "cell_type": "code",
   "execution_count": null,
   "metadata": {
    "colab": {
     "base_uri": "https://localhost:8080/"
    },
    "id": "V4hbhbKS_5iF",
    "outputId": "974e9a30-eb31-4a9e-b22d-3866a66fbd26"
   },
   "outputs": [],
   "source": [
    "# 4. PyVista is used to generate 3D objects\n",
    "!pip install pyvista"
   ]
  },
  {
   "cell_type": "code",
   "execution_count": 1,
   "metadata": {
    "colab": {
     "base_uri": "https://localhost:8080/",
     "height": 36
    },
    "id": "XrbcqO1iAQwG",
    "outputId": "89709b29-3722-4166-f86d-9ca536197b2d"
   },
   "outputs": [
    {
     "ename": "FileNotFoundError",
     "evalue": "[WinError 3] The system cannot find the path specified: '/content/light-transport/'",
     "output_type": "error",
     "traceback": [
      "\u001B[1;31m---------------------------------------------------------------------------\u001B[0m",
      "\u001B[1;31mFileNotFoundError\u001B[0m                         Traceback (most recent call last)",
      "\u001B[1;32m~\\AppData\\Local\\Temp/ipykernel_19276/3343278211.py\u001B[0m in \u001B[0;36m<module>\u001B[1;34m\u001B[0m\n\u001B[0;32m      1\u001B[0m \u001B[1;32mimport\u001B[0m \u001B[0mos\u001B[0m\u001B[1;33m\u001B[0m\u001B[1;33m\u001B[0m\u001B[0m\n\u001B[1;32m----> 2\u001B[1;33m \u001B[0mos\u001B[0m\u001B[1;33m.\u001B[0m\u001B[0mchdir\u001B[0m\u001B[1;33m(\u001B[0m\u001B[1;34m'/content/light-transport/'\u001B[0m\u001B[1;33m)\u001B[0m\u001B[1;33m\u001B[0m\u001B[1;33m\u001B[0m\u001B[0m\n\u001B[0m\u001B[0;32m      3\u001B[0m \u001B[0mos\u001B[0m\u001B[1;33m.\u001B[0m\u001B[0mgetcwd\u001B[0m\u001B[1;33m(\u001B[0m\u001B[1;33m)\u001B[0m\u001B[1;33m\u001B[0m\u001B[1;33m\u001B[0m\u001B[0m\n",
      "\u001B[1;31mFileNotFoundError\u001B[0m: [WinError 3] The system cannot find the path specified: '/content/light-transport/'"
     ]
    }
   ],
   "source": [
    "# 5. Switch to project directory\n",
    "import os\n",
    "os.chdir('/content/light-transport/')\n",
    "os.getcwd()"
   ]
  },
  {
   "cell_type": "markdown",
   "source": [
    "********************************************************************************************"
   ],
   "metadata": {
    "collapsed": false,
    "pycharm": {
     "name": "#%% md\n"
    }
   }
  },
  {
   "cell_type": "code",
   "execution_count": 1,
   "metadata": {
    "pycharm": {
     "name": "#%%\n"
    }
   },
   "outputs": [],
   "source": [
    "import time\n",
    "import matplotlib.pyplot as plt\n",
    "import numpy as np\n",
    "import numba"
   ]
  },
  {
   "cell_type": "code",
   "execution_count": 2,
   "metadata": {
    "id": "9XPlkO_hAUEH"
   },
   "outputs": [],
   "source": [
    "from LightTransportSimulator.light_transport.src.primitives import Sphere\n",
    "from LightTransportSimulator.light_transport.src.cornell_box import get_cornell_sphere_box, get_cornell_box\n",
    "from LightTransportSimulator.light_transport.src.constants import *\n",
    "from LightTransportSimulator.light_transport.src.material import Material\n",
    "from LightTransportSimulator.light_transport.src.vectors import normalize"
   ]
  },
  {
   "cell_type": "code",
   "execution_count": 3,
   "outputs": [],
   "source": [
    "WHITE_COLOR = Color(ambient=np.array([1, 1, 1], dtype=np.float64),\n",
    "                    diffuse=np.array([1, 1, 1], dtype=np.float64),\n",
    "                    specular=np.array([1, 1, 1], dtype=np.float64))\n",
    "\n",
    "NO_COLOR = Color(ambient=np.array([0, 0, 0], dtype=np.float64),\n",
    "                 diffuse=np.array([0, 0, 0], dtype=np.float64),\n",
    "                 specular=np.array([0, 0, 0], dtype=np.float64))\n",
    "\n",
    "\n",
    "RED_COLOR = Color(ambient=np.array([.75, .25, .25], dtype=np.float64),\n",
    "                  diffuse=np.array([.75, .25, .25], dtype=np.float64),\n",
    "                  specular=np.array([.75, .25, .25], dtype=np.float64))\n",
    "\n",
    "GREEN_COLOR = Color(ambient=np.array([.25, .75, .25], dtype=np.float64),\n",
    "                  diffuse=np.array([.25, .75, .25], dtype=np.float64),\n",
    "                  specular=np.array([.25, .75, .25], dtype=np.float64))\n",
    "\n",
    "BLUE_COLOR = Color(ambient=np.array([.25, .25, .75], dtype=np.float64),\n",
    "                   diffuse=np.array([.25, .25, .75], dtype=np.float64),\n",
    "                   specular=np.array([.25, .25, .75], dtype=np.float64))\n",
    "\n",
    "GRAY_COLOR = Color(ambient=np.array([.75, .75, .75], dtype=np.float64),\n",
    "                   diffuse=np.array([.75, .75, .75], dtype=np.float64),\n",
    "                   specular=np.array([.75, .75, .75], dtype=np.float64))\n",
    "\n",
    "GRAY_COLOR2 = Color(ambient=np.array([.25, .25, .25], dtype=np.float64),\n",
    "                   diffuse=np.array([.25, .25, .25], dtype=np.float64),\n",
    "                   specular=np.array([.25, .25, .25], dtype=np.float64))\n",
    "\n",
    "GLASS_COLOR = Color(ambient=np.array([.999, .999, .999], dtype=np.float64),\n",
    "                    diffuse=np.array([.999, .999, .999], dtype=np.float64),\n",
    "                    specular=np.array([.999, .999, .999], dtype=np.float64))"
   ],
   "metadata": {
    "collapsed": false,
    "pycharm": {
     "name": "#%%\n"
    }
   }
  },
  {
   "cell_type": "code",
   "execution_count": 4,
   "metadata": {
    "colab": {
     "base_uri": "https://localhost:8080/"
    },
    "id": "ZcG2w1ziBCkk",
    "outputId": "e473872e-13e5-4da7-f5cb-62561ed9586a"
   },
   "outputs": [
    {
     "data": {
      "text/plain": "(0.2699999999999534, array([50.  , 81.33, 81.6 ]), 17.99797488607938)"
     },
     "execution_count": 4,
     "metadata": {},
     "output_type": "execute_result"
    }
   ],
   "source": [
    "from LightTransportSimulator.light_transport.src.scene import Light\n",
    "from LightTransportSimulator.light_transport.src.light_samples import generate_area_light_samples\n",
    "\n",
    "# # Create a global light source\n",
    "\n",
    "source_mat = Material(color=WHITE_COLOR, shininess=1, ior=1.5, type=MatType.NONE.value, emission=12)\n",
    "light_sphere = Sphere(center=np.array([50, 681.6-.27, 81.6], dtype=np.float64), radius=600, material=source_mat)\n",
    "\n",
    "# Light source within Cornell Box is a spherical cap\n",
    "\n",
    "# hypotenuse = radius of the light sphere, light_disk_radius = radius of the base of the cap\n",
    "# https://mathworld.wolfram.com/SphericalCap.html\n",
    "cornell_box_top_y = 81.6\n",
    "\n",
    "_h = cornell_box_top_y - (light_sphere.center[1] - light_sphere.radius) # height of sphere cap\n",
    "\n",
    "light_disk_radius = np.sqrt(_h*(2*light_sphere.radius-_h))\n",
    "\n",
    "light_area = 2 * np.pi * light_sphere.radius * _h\n",
    "\n",
    "light_disk_center = np.array([50, cornell_box_top_y-_h, 81.6], dtype=np.float64)\n",
    "\n",
    "light_normal = normalize(light_disk_center - light_sphere.center)\n",
    "\n",
    "light_samples_n = 100\n",
    "\n",
    "lights = numba.typed.List()\n",
    "\n",
    "for i in range(light_samples_n):\n",
    "    sampled_source = light_sphere.center\n",
    "    sampled_light = Light(sampled_source, light_sphere.material, light_normal, light_area)\n",
    "    lights.append(sampled_light)\n",
    "\n",
    "_h, light_disk_center, light_disk_radius"
   ]
  },
  {
   "cell_type": "code",
   "execution_count": 5,
   "outputs": [
    {
     "data": {
      "text/plain": "array([ 50.  , 681.33,  81.6 ])"
     },
     "execution_count": 5,
     "metadata": {},
     "output_type": "execute_result"
    }
   ],
   "source": [
    "lights[0].source"
   ],
   "metadata": {
    "collapsed": false,
    "pycharm": {
     "name": "#%%\n"
    }
   }
  },
  {
   "cell_type": "code",
   "execution_count": 18,
   "metadata": {
    "id": "aclJFNhOBIaV"
   },
   "outputs": [],
   "source": [
    "from LightTransportSimulator.light_transport.src.scene import Camera, SphereScene\n",
    "\n",
    "# Setup scene\n",
    "\n",
    "# point camera\n",
    "camera_pos = np.array([50, 52, 295.6], dtype=np.float64)\n",
    "camera = Camera(camera_pos)\n",
    "\n",
    "# screen 16:9\n",
    "width=256\n",
    "height=192\n",
    "width = 1024\n",
    "height = 768\n",
    "\n",
    "# max_depth is the conventional term used in rendering to denote\n",
    "# the maximum number of times a ray can bounce within the scene\n",
    "max_depth=7\n",
    "# number of samples per pixel\n",
    "n_samples = 8\n",
    "\n",
    "# Initialise the scene with lights and camera\n",
    "scene = SphereScene(camera=camera, lights=lights, width=width, height=height, max_depth=max_depth, f_distance=1, number_of_samples=n_samples//4)"
   ]
  },
  {
   "cell_type": "code",
   "execution_count": 19,
   "outputs": [
    {
     "data": {
      "text/plain": "array([[ 1. ,  0. ,  0. , 50. ],\n       [ 0. ,  1. ,  0. , 40.8],\n       [ 0. ,  0. ,  1. , 81.6],\n       [ 0. ,  0. ,  0. ,  1. ]])"
     },
     "execution_count": 19,
     "metadata": {},
     "output_type": "execute_result"
    }
   ],
   "source": [
    "# update the transformation matrix\n",
    "# It's updated outside __init__ as numba giving compile time errors\n",
    "\n",
    "# T = scene.t_matrix\n",
    "# T[:3, 3] = camera.position\n",
    "# T[:3, :3] = np.linalg.inv(np.array([normalize(np.cross(camera.look_at, camera.scene_normal)), camera.look_at, normalize(np.cross(camera.look_at, normalize(np.cross(camera.look_at, camera.scene_normal))))]))\n",
    "\n",
    "T = np.array([\n",
    "    [1, 0, 0, 50],\n",
    "    [0, 1, 0, 40.8],\n",
    "    [0, 0, 1, 81.6],\n",
    "    [0, 0, 0, 1]\n",
    "], dtype=np.float64)\n",
    "\n",
    "scene.t_matrix = T\n",
    "scene.t_matrix"
   ],
   "metadata": {
    "collapsed": false,
    "pycharm": {
     "name": "#%%\n"
    }
   }
  },
  {
   "cell_type": "code",
   "execution_count": 20,
   "outputs": [],
   "source": [
    "# Set wall colors and materials for the Cornell box\n",
    "\n",
    "surface_mat = Material(color=BLUE_COLOR, shininess=30, ior=1.5210, type=MatType.DIFFUSE.value, emission=0)\n",
    "left_wall_mat = Material(color=RED_COLOR, shininess=30, ior=1.5210, type=MatType.DIFFUSE.value, emission=0)\n",
    "right_wall_mat = Material(color=RED_COLOR, shininess=30, ior=1.5210, type=MatType.DIFFUSE.value, emission=0)\n",
    "front_wall_mat = Material(color=BLUE_COLOR, shininess=30, ior=1.5210, type=MatType.DIFFUSE.value, emission=0)\n",
    "\n",
    "# Get the triangles required to render the Cornell box\n",
    "spheres = get_cornell_sphere_box(scene, surface_mat, left_wall_mat, right_wall_mat, front_wall_mat)"
   ],
   "metadata": {
    "collapsed": false,
    "pycharm": {
     "name": "#%%\n"
    }
   }
  },
  {
   "cell_type": "code",
   "execution_count": 21,
   "outputs": [],
   "source": [
    "spheres.append(light_sphere)"
   ],
   "metadata": {
    "collapsed": false,
    "pycharm": {
     "name": "#%%\n"
    }
   }
  },
  {
   "cell_type": "code",
   "execution_count": 22,
   "outputs": [],
   "source": [
    "# Add the triangles in the list of objects\n",
    "PLASTIC = Material(color=GREEN_COLOR, shininess=10, ior=1.460, type=MatType.SPECULAR.value, emission=0)\n",
    "GLASS = Material(color=GLASS_COLOR, shininess=50, ior=1.500, type=MatType.SPECULAR.value, emission=0)\n",
    "MIRROR = Material(color=GLASS_COLOR, shininess=50, ior=1.500, type=MatType.MIRROR.value, emission=0)\n",
    "ALUMINUM = Material(color=GRAY_COLOR2, shininess=50, ior=1.400, type=MatType.SPECULAR.value, emission=0)"
   ],
   "metadata": {
    "collapsed": false,
    "pycharm": {
     "name": "#%%\n"
    }
   }
  },
  {
   "cell_type": "code",
   "execution_count": 23,
   "outputs": [],
   "source": [
    "sphere_1 = Sphere(center=np.array([27, 16.5, 47], dtype=np.float64), radius=16.5, material=MIRROR)\n",
    "spheres.append(sphere_1)\n",
    "sphere_2 = Sphere(center=np.array([73, 16.5, 78], dtype=np.float64), radius=16.5, material=GLASS)\n",
    "spheres.append(sphere_2)\n",
    "# sphere_3 = Sphere(center=np.array([-0.3, 0, 0, 1], dtype=np.float64), radius=0.15, material=GLASS)\n",
    "# objects.append(sphere_3)"
   ],
   "metadata": {
    "collapsed": false,
    "pycharm": {
     "name": "#%%\n"
    }
   }
  },
  {
   "cell_type": "code",
   "execution_count": 24,
   "outputs": [],
   "source": [
    "triangles = numba.typed.List()"
   ],
   "metadata": {
    "collapsed": false,
    "pycharm": {
     "name": "#%%\n"
    }
   }
  },
  {
   "cell_type": "code",
   "execution_count": 25,
   "outputs": [
    {
     "data": {
      "text/plain": "(0, 0)"
     },
     "execution_count": 25,
     "metadata": {},
     "output_type": "execute_result"
    }
   ],
   "source": [
    "from LightTransportSimulator.light_transport.src.bvh_new import BoundedBox, BVHNode, build_bvh, LinearBVHNode, flatten_bvh, intersect_bvh\n",
    "\n",
    "# Enclose all the primitives in their individual axis-aligned bounding boxes (AABB)\n",
    "bounded_boxes = []\n",
    "for i in range(len(triangles)):\n",
    "    bounded_boxes.append(BoundedBox(triangles[i], i))\n",
    "\n",
    "len(triangles), len(bounded_boxes)"
   ],
   "metadata": {
    "collapsed": false,
    "pycharm": {
     "name": "#%%\n"
    }
   }
  },
  {
   "cell_type": "code",
   "execution_count": 26,
   "outputs": [],
   "source": [
    "if len(triangles)>0:\n",
    "    # Initialise a bounding volume hierarchy tree\n",
    "    start = 0\n",
    "    end = len(bounded_boxes)\n",
    "    ordered_prims = []\n",
    "    total_nodes = 0\n",
    "    root, bounded_boxes, ordered_prims, total_nodes = build_bvh(triangles, bounded_boxes, start, end, ordered_prims, total_nodes)\n",
    "    # swap the primitives array with the ordered list\n",
    "    primitives = ordered_prims\n",
    "\n",
    "\n",
    "    # create a linear representation of the bvh tree\n",
    "    linear_nodes = numba.typed.List()\n",
    "    for _ in range(total_nodes):\n",
    "        linear_nodes.append(LinearBVHNode())\n",
    "\n",
    "\n",
    "    # linear bvh\n",
    "    linear_bvh, off_set = flatten_bvh(linear_nodes, root, 0)\n",
    "    # len(linear_bvh)\n",
    "\n",
    "    # check if indexes of all primitives present in the linear bvh tree\n",
    "    total = 0\n",
    "    for _bvh in linear_bvh:\n",
    "        total+= _bvh.n_primitives\n",
    "    print(total==len(triangles)) # should be equal to the number of primitives\n",
    "else:\n",
    "    linear_bvh = None\n",
    "    triangles = None"
   ],
   "metadata": {
    "collapsed": false,
    "pycharm": {
     "name": "#%%\n"
    }
   }
  },
  {
   "cell_type": "code",
   "execution_count": null,
   "metadata": {
    "colab": {
     "base_uri": "https://localhost:8080/"
    },
    "id": "_ujNgTqwBS6_",
    "outputId": "1c85b1d0-fc1d-4ca8-95a7-b143190fee6f",
    "scrolled": true,
    "pycharm": {
     "is_executing": true
    }
   },
   "outputs": [
    {
     "name": "stdout",
     "output_type": "stream",
     "text": [
      "0.0\n",
      "50.06518904823989475.0977835723598425.03259452411994762.5814863102998737.5488917861799287.61408083441982\n",
      "\n",
      "\n",
      "\n",
      "\n",
      "\n",
      "12.516297262059974\n",
      "25.16297262059974\n",
      "37.67926988265971\n",
      "12.646675358539765\n",
      "62.71186440677966\n",
      "0.1303780964797914\n",
      "87.74445893089961\n",
      "75.2281616688396350.19556714471969\n",
      "\n",
      "37.809647979139505\n",
      "25.29335071707953\n",
      "12.777053455019557\n",
      "0.2607561929595828\n",
      "62.84224250325945\n",
      "87.8748370273794\n",
      "50.3259452411994875.35853976531942\n",
      "\n",
      "37.94002607561929\n",
      "25.423728813559322\n",
      "62.972620599739244\n",
      "0.39113428943937417\n",
      "12.907431551499348\n",
      "88.00521512385919\n",
      "50.45632333767927\n",
      "75.48891786179922\n",
      "38.07040417209909\n",
      "25.554106910039113\n",
      "63.10299869621903\n",
      "0.5215123859191656\n",
      "13.03780964797914\n",
      "50.58670143415906\n",
      "88.13559322033899\n",
      "75.61929595827901\n",
      "38.20078226857888\n",
      "25.684485006518905\n",
      "63.23337679269883\n",
      "0.651890482398957\n",
      "13.168187744458931\n",
      "50.717079530638856\n",
      "88.26597131681878\n",
      "75.7496740547588\n",
      "38.33116036505867\n",
      "25.814863102998697\n",
      "63.363754889178615\n",
      "0.7822685788787483\n",
      "13.298565840938723\n",
      "50.847457627118644\n",
      "75.88005215123859\n",
      "88.39634941329857\n",
      "38.46153846153846\n",
      "25.945241199478488\n",
      "63.49413298565841\n",
      "13.428943937418513\n",
      "0.9126466753585397\n",
      "50.97783572359844\n",
      "76.01043024771839\n",
      "88.52672750977835\n",
      "38.591916558018255\n",
      "26.07561929595828\n",
      "13.559322033898304\n",
      "63.6245110821382\n",
      "1.0430247718383312\n",
      "51.10821382007823\n",
      "76.14080834419818\n",
      "88.65710560625814\n",
      "38.72229465449804\n",
      "26.20599739243807\n",
      "13.689700130378096\n",
      "63.754889178617994\n",
      "1.1734028683181226\n",
      "51.238591916558015\n",
      "76.27118644067797\n",
      "88.78748370273794\n",
      "38.85267275097784\n",
      "26.336375488917863\n",
      "13.820078226857888\n",
      "63.88526727509778\n",
      "1.303780964797914\n",
      "51.36897001303781\n",
      "76.40156453715775\n",
      "88.91786179921773\n",
      "26.466753585397655\n",
      "38.983050847457626\n",
      "13.95045632333768\n",
      "64.01564537157758\n",
      "1.4341590612777053\n",
      "51.4993481095176\n",
      "76.53194263363756\n",
      "89.04823989569752\n",
      "26.597131681877446\n",
      "39.11342894393742\n",
      "14.08083441981747\n",
      "64.14602346805736\n",
      "1.5645371577574967\n",
      "51.62972620599739\n",
      "76.66232073011734\n",
      "26.727509778357238\n",
      "39.24380704041721\n",
      "89.17861799217731\n",
      "14.211212516297262\n",
      "64.27640156453715\n",
      "1.694915254237288\n",
      "51.76010430247718\n",
      "26.857887874837026\n",
      "39.374185136897005\n",
      "76.79269882659713\n"
     ]
    }
   ],
   "source": [
    "from LightTransportSimulator.light_transport.src.global_illumination import render_scene\n",
    "# from LightTransportSimulator.light_transport.src.render_old import render_scene\n",
    "\n",
    "start = time.time()\n",
    "# primitives = spheres, triangles\n",
    "image = render_scene(scene, spheres, triangles, linear_bvh)\n",
    "image = np.flipud(image) # flipped\n",
    "end = time.time()\n",
    "print(\"Elapsed (with compilation) = %s\" % (end - start))"
   ]
  },
  {
   "cell_type": "code",
   "execution_count": null,
   "outputs": [],
   "source": [
    "plt.imshow(image)"
   ],
   "metadata": {
    "collapsed": false,
    "pycharm": {
     "name": "#%%\n",
     "is_executing": true
    }
   }
  },
  {
   "cell_type": "code",
   "execution_count": null,
   "outputs": [],
   "source": [
    "# gamma correction\n",
    "img_corrected = np.clip(255.0 * np.power(image, 1.0 / 2.2), a_min=0.0, a_max=255.0).astype(int)\n",
    "plt.imshow(img_corrected)"
   ],
   "metadata": {
    "collapsed": false,
    "pycharm": {
     "name": "#%%\n",
     "is_executing": true
    }
   }
  },
  {
   "cell_type": "code",
   "execution_count": 58,
   "outputs": [],
   "source": [],
   "metadata": {
    "collapsed": false,
    "pycharm": {
     "name": "#%%\n"
    }
   }
  },
  {
   "cell_type": "code",
   "execution_count": null,
   "outputs": [],
   "source": [],
   "metadata": {
    "collapsed": false,
    "pycharm": {
     "name": "#%%\n"
    }
   }
  }
 ],
 "metadata": {
  "accelerator": "GPU",
  "colab": {
   "provenance": []
  },
  "kernelspec": {
   "display_name": "Python 3 (ipykernel)",
   "language": "python",
   "name": "python3"
  },
  "language_info": {
   "codemirror_mode": {
    "name": "ipython",
    "version": 3
   },
   "file_extension": ".py",
   "mimetype": "text/x-python",
   "name": "python",
   "nbconvert_exporter": "python",
   "pygments_lexer": "ipython3",
   "version": "3.10.0"
  }
 },
 "nbformat": 4,
 "nbformat_minor": 1
}