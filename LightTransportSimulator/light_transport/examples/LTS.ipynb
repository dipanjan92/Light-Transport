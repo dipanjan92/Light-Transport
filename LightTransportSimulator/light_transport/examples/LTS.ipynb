{
 "cells": [
  {
   "cell_type": "code",
   "execution_count": null,
   "metadata": {
    "id": "QRadLOD4CazB"
   },
   "outputs": [],
   "source": [
    "!rm -rf /content/light-transport"
   ]
  },
  {
   "cell_type": "code",
   "execution_count": null,
   "metadata": {
    "colab": {
     "base_uri": "https://localhost:8080/"
    },
    "id": "Zd1bheK0_pzj",
    "outputId": "8ebc56a8-5922-4a5d-8dac-54f383b1a3f4"
   },
   "outputs": [],
   "source": [
    "!git clone https://github.com/dipanjan92/light-transport.git"
   ]
  },
  {
   "cell_type": "code",
   "execution_count": null,
   "metadata": {
    "id": "fs42SJE7_3P8"
   },
   "outputs": [],
   "source": [
    "import sys\n",
    "sys.path.insert(0,'/content/light-transport/LightTransportSimulator')"
   ]
  },
  {
   "cell_type": "code",
   "execution_count": null,
   "metadata": {
    "colab": {
     "base_uri": "https://localhost:8080/"
    },
    "id": "V4hbhbKS_5iF",
    "outputId": "974e9a30-eb31-4a9e-b22d-3866a66fbd26"
   },
   "outputs": [],
   "source": [
    "!pip install pyvista"
   ]
  },
  {
   "cell_type": "code",
   "execution_count": 1,
   "metadata": {
    "colab": {
     "base_uri": "https://localhost:8080/",
     "height": 36
    },
    "id": "XrbcqO1iAQwG",
    "outputId": "89709b29-3722-4166-f86d-9ca536197b2d"
   },
   "outputs": [
    {
     "ename": "FileNotFoundError",
     "evalue": "[WinError 3] The system cannot find the path specified: '/content/light-transport/'",
     "output_type": "error",
     "traceback": [
      "\u001B[1;31m---------------------------------------------------------------------------\u001B[0m",
      "\u001B[1;31mFileNotFoundError\u001B[0m                         Traceback (most recent call last)",
      "\u001B[1;32m~\\AppData\\Local\\Temp/ipykernel_19276/3343278211.py\u001B[0m in \u001B[0;36m<module>\u001B[1;34m\u001B[0m\n\u001B[0;32m      1\u001B[0m \u001B[1;32mimport\u001B[0m \u001B[0mos\u001B[0m\u001B[1;33m\u001B[0m\u001B[1;33m\u001B[0m\u001B[0m\n\u001B[1;32m----> 2\u001B[1;33m \u001B[0mos\u001B[0m\u001B[1;33m.\u001B[0m\u001B[0mchdir\u001B[0m\u001B[1;33m(\u001B[0m\u001B[1;34m'/content/light-transport/'\u001B[0m\u001B[1;33m)\u001B[0m\u001B[1;33m\u001B[0m\u001B[1;33m\u001B[0m\u001B[0m\n\u001B[0m\u001B[0;32m      3\u001B[0m \u001B[0mos\u001B[0m\u001B[1;33m.\u001B[0m\u001B[0mgetcwd\u001B[0m\u001B[1;33m(\u001B[0m\u001B[1;33m)\u001B[0m\u001B[1;33m\u001B[0m\u001B[1;33m\u001B[0m\u001B[0m\n",
      "\u001B[1;31mFileNotFoundError\u001B[0m: [WinError 3] The system cannot find the path specified: '/content/light-transport/'"
     ]
    }
   ],
   "source": [
    "import os\n",
    "os.chdir('/content/light-transport/')\n",
    "os.getcwd()"
   ]
  },
  {
   "cell_type": "code",
   "execution_count": 1,
   "metadata": {
    "pycharm": {
     "name": "#%%\n"
    }
   },
   "outputs": [],
   "source": [
    "import math\n",
    "import shutil\n",
    "import time\n",
    "from pathlib import Path\n",
    "import matplotlib.pyplot as plt\n",
    "import numpy as np\n",
    "import numba\n",
    "import pyvista as pv"
   ]
  },
  {
   "cell_type": "code",
   "execution_count": 2,
   "metadata": {
    "id": "9XPlkO_hAUEH"
   },
   "outputs": [],
   "source": [
    "from LightTransportSimulator.light_transport.src.scene import Scene, Light\n",
    "from LightTransportSimulator.light_transport.src.primitives import Triangle, PreComputedTriangle\n",
    "from LightTransportSimulator.light_transport.src.cornell_box import get_cornell_box, get_floor\n",
    "from LightTransportSimulator.light_transport.src.constants import *"
   ]
  },
  {
   "cell_type": "code",
   "execution_count": 3,
   "metadata": {
    "colab": {
     "base_uri": "https://localhost:8080/"
    },
    "id": "xcLdtmlCAeqM",
    "outputId": "405f03fe-4507-46b9-bcee-153db6234648"
   },
   "outputs": [
    {
     "data": {
      "text/plain": "10"
     },
     "execution_count": 3,
     "metadata": {},
     "output_type": "execute_result"
    }
   ],
   "source": [
    "#load object\n",
    "mesh = pv.Cone(radius=2, center=[0,0,0], height=5)\n",
    "tri = mesh.triangulate()\n",
    "points = np.ascontiguousarray(tri.points)\n",
    "faces = tri.faces.reshape((-1,4))[:, 1:4]\n",
    "vertices = np.ascontiguousarray(points[faces], dtype=np.float64)\n",
    "len(vertices)"
   ]
  },
  {
   "cell_type": "code",
   "execution_count": 4,
   "metadata": {
    "colab": {
     "base_uri": "https://localhost:8080/"
    },
    "id": "NTHWVffcAjju",
    "outputId": "3f241786-62da-42de-ffcf-bf0d633022a4"
   },
   "outputs": [
    {
     "data": {
      "text/plain": "(2.5, 2.0, 1.7320508, 7.5)"
     },
     "execution_count": 4,
     "metadata": {},
     "output_type": "execute_result"
    }
   ],
   "source": [
    "#set scene depths\n",
    "\n",
    "xmax, ymax, zmax = points.max(axis=0)\n",
    "xmin, ymin, zmin = points.min(axis=0)\n",
    "\n",
    "padding = 5\n",
    "depth = abs(max(xmax, ymax, zmax)) + padding\n",
    "x_depth = abs(xmax) + 10\n",
    "y_depth = abs(ymax) + 1\n",
    "z_depth = abs(zmax) + 10\n",
    "xmax, ymax, zmax, depth"
   ]
  },
  {
   "cell_type": "code",
   "execution_count": 5,
   "metadata": {
    "id": "4uUQBifqAn3F"
   },
   "outputs": [],
   "source": [
    "# empty object list\n",
    "objects = numba.typed.List()"
   ]
  },
  {
   "cell_type": "code",
   "execution_count": 6,
   "metadata": {
    "id": "gSOIA4cvArNy"
   },
   "outputs": [],
   "source": [
    "surface_color = WHITE_2\n",
    "left_wall_color = RED\n",
    "right_wall_color = GREEN\n",
    "surface_mat = Material(color=surface_color, shininess=30, reflection=0.1, ior=1.5210, transmission=1) # calcium sulphate\n",
    "left_wall_mat = Material(color=left_wall_color, shininess=30, reflection=0.1, ior=1.5210, transmission=1)\n",
    "right_wall_mat = Material(color=right_wall_color, shininess=30, reflection=0.1, ior=1.5210, transmission=1)\n",
    "\n",
    "objects = get_cornell_box(depth, surface_mat, left_wall_mat, right_wall_mat)"
   ]
  },
  {
   "cell_type": "code",
   "execution_count": 7,
   "metadata": {
    "colab": {
     "base_uri": "https://localhost:8080/"
    },
    "id": "46or32ELA_da",
    "outputId": "609c3be4-ce73-46d4-e132-6f6d2ae99a91"
   },
   "outputs": [
    {
     "data": {
      "text/plain": "ListType[instance.jitclass.PreComputedTriangle#10dea18a800<type:int64,vertex_1:array(float64, 1d, C),vertex_2:array(float64, 1d, C),vertex_3:array(float64, 1d, C),centroid:array(float64, 1d, C),material:instance.jitclass.Material#10dec8e3250<color:instance.jitclass.Color#10dec89a200<ambient:array(float64, 1d, A),diffuse:array(float64, 1d, A),specular:array(float64, 1d, A)>,shininess:float64,reflection:float64,ior:float64,is_diffuse:bool,is_mirror:bool,emission:float64,transmission:float64>,is_light:bool,edge_1:array(float64, 1d, C),edge_2:array(float64, 1d, C),normal:array(float64, 1d, C),num:float64,transformation:array(float64, 2d, A)>]([<numba.experimental.jitclass.boxing.PreComputedTriangle object at 0x0000010DEE8F3F10>, <numba.experimental.jitclass.boxing.PreComputedTriangle object at 0x0000010DEE8F3BB0>, <numba.experimental.jitclass.boxing.PreComputedTriangle object at 0x0000010DEE8F3F10>, <numba.experimental.jitclass.boxing.PreComputedTriangle object at 0x0000010DEE8F3BB0>, <numba.experimental.jitclass.boxing.PreComputedTriangle object at 0x0000010DEE8F3F10>, <numba.experimental.jitclass.boxing.PreComputedTriangle object at 0x0000010DEE8F3BB0>, <numba.experimental.jitclass.boxing.PreComputedTriangle object at 0x0000010DEE8F3F10>, <numba.experimental.jitclass.boxing.PreComputedTriangle object at 0x0000010DEE8F3BB0>, <numba.experimental.jitclass.boxing.PreComputedTriangle object at 0x0000010DEE8F3F10>, <numba.experimental.jitclass.boxing.PreComputedTriangle object at 0x0000010DEE8F3BB0>, <numba.experimental.jitclass.boxing.PreComputedTriangle object at 0x0000010DEE8F3F10>, <numba.experimental.jitclass.boxing.PreComputedTriangle object at 0x0000010DEE8F3BB0>, <numba.experimental.jitclass.boxing.PreComputedTriangle object at 0x0000010DEE8F3F10>, <numba.experimental.jitclass.boxing.PreComputedTriangle object at 0x0000010DEE8F3BB0>, <numba.experimental.jitclass.boxing.PreComputedTriangle object at 0x0000010DEE8F3F10>, <numba.experimental.jitclass.boxing.PreComputedTriangle object at 0x0000010DEE8F3BB0>, <numba.experimental.jitclass.boxing.PreComputedTriangle object at 0x0000010DEE8F3F10>, <numba.experimental.jitclass.boxing.PreComputedTriangle object at 0x0000010DEE8F3BB0>, <numba.experimental.jitclass.boxing.PreComputedTriangle object at 0x0000010DEE8F3F10>, <numba.experimental.jitclass.boxing.PreComputedTriangle object at 0x0000010DEE8F3BB0>, <numba.experimental.jitclass.boxing.PreComputedTriangle object at 0x0000010DEE8F3F10>, <numba.experimental.jitclass.boxing.PreComputedTriangle object at 0x0000010DEE8F3BB0>, <numba.experimental.jitclass.boxing.PreComputedTriangle object at 0x0000010DEE8F3F10>, <numba.experimental.jitclass.boxing.PreComputedTriangle object at 0x0000010DEE8F3BB0>, <numba.experimental.jitclass.boxing.PreComputedTriangle object at 0x0000010DEE8F3F10>, <numba.experimental.jitclass.boxing.PreComputedTriangle object at 0x0000010DEE8F3BB0>, ...])"
     },
     "execution_count": 7,
     "metadata": {},
     "output_type": "execute_result"
    }
   ],
   "source": [
    "\n",
    "for v in vertices:\n",
    "    a,b,c = np.append(v[0], 1),np.append(v[1], 1),np.append(v[2], 1)\n",
    "\n",
    "    triangle = PreComputedTriangle(vertex_1=np.ascontiguousarray(a, dtype=np.float64),\n",
    "                                   vertex_2=np.ascontiguousarray(b, dtype=np.float64),\n",
    "                                   vertex_3=np.ascontiguousarray(c, dtype=np.float64),\n",
    "                                   material=GLASS_MAT)\n",
    "    objects.append(triangle)\n",
    "\n",
    "objects"
   ]
  },
  {
   "cell_type": "code",
   "execution_count": 8,
   "metadata": {
    "colab": {
     "base_uri": "https://localhost:8080/"
    },
    "id": "ZcG2w1ziBCkk",
    "outputId": "e473872e-13e5-4da7-f5cb-62561ed9586a"
   },
   "outputs": [
    {
     "name": "stderr",
     "output_type": "stream",
     "text": [
      "C:\\Users\\dipanjan\\Work\\DS-Projects\\Light-Transport\\LightTransportSimulator\\light_transport\\src\\intersects.py:26: NumbaPerformanceWarning: \u001B[1m\u001B[1m\u001B[1mnp.dot() is faster on contiguous arrays, called on (array(float64, 1d, A), array(float64, 1d, C))\u001B[0m\u001B[0m\u001B[0m\n",
      "  b = 2 * np.dot(ray_direction, ray_origin - center)\n"
     ]
    }
   ],
   "source": [
    "from LightTransportSimulator.light_transport.src.light_samples import generate_area_light_samples\n",
    "\n",
    "# global light source\n",
    "\n",
    "source_mat = Material(color=WHITE, shininess=1, reflection=0.9, ior=1.5, emission=200)\n",
    "\n",
    "\n",
    "light_1 = PreComputedTriangle(vertex_1=np.array([-1, depth, -1, 1], dtype=np.float64),\n",
    "                              vertex_2=np.array([1, depth, 1, 1], dtype=np.float64),\n",
    "                              vertex_3=np.array([-1, depth, 1, 1], dtype=np.float64),\n",
    "                              material=source_mat,\n",
    "                              is_light=True)\n",
    "\n",
    "light_2 = PreComputedTriangle(vertex_1=np.array([-1, depth, -1, 1], dtype=np.float64),\n",
    "                              vertex_2=np.array([1, depth, -1, 1], dtype=np.float64),\n",
    "                              vertex_3=np.array([1, depth, 1, 1], dtype=np.float64),\n",
    "                              material=source_mat,\n",
    "                              is_light=True)\n",
    "\n",
    "light_sources = generate_area_light_samples(tri_1=light_1,\n",
    "                                          tri_2=light_2,\n",
    "                                          source_mat=source_mat,\n",
    "                                          number_of_samples=1000,\n",
    "                                          total_area=4)"
   ]
  },
  {
   "cell_type": "code",
   "execution_count": 9,
   "metadata": {
    "id": "3rfl_cUXBFiL"
   },
   "outputs": [],
   "source": [
    "objects.append(light_1)\n",
    "objects.append(light_2)"
   ]
  },
  {
   "cell_type": "code",
   "execution_count": 10,
   "metadata": {
    "id": "aclJFNhOBIaV"
   },
   "outputs": [],
   "source": [
    "# setup scene\n",
    "\n",
    "#camera\n",
    "camera = np.array([0, 0, depth+0.5, 1], dtype=np.float64)\n",
    "\n",
    "#screen\n",
    "width=300\n",
    "height=300\n",
    "max_depth=5\n",
    "\n",
    "#scene\n",
    "scene = Scene(camera=camera, lights=light_sources, width=width, height=height, max_depth=max_depth, f_distance=depth)"
   ]
  },
  {
   "cell_type": "code",
   "execution_count": 11,
   "metadata": {
    "colab": {
     "base_uri": "https://localhost:8080/"
    },
    "id": "SEP1yRDnBKxO",
    "outputId": "ceb226b2-27b9-47cc-fb4d-8904e8369413"
   },
   "outputs": [
    {
     "data": {
      "text/plain": "<numba.experimental.jitclass.boxing.AABB at 0x10df1f68be0>"
     },
     "execution_count": 11,
     "metadata": {},
     "output_type": "execute_result"
    }
   ],
   "source": [
    "from LightTransportSimulator.light_transport.src.primitives import AABB\n",
    "# min_point=np.array([scene.left, scene.bottom, -scene.depth], dtype=np.float64)\n",
    "# max_point=np.array([scene.right, scene.top, scene.depth], dtype=np.float64)\n",
    "min_point=np.array([-depth, -depth, depth], dtype=np.float64)\n",
    "max_point=np.array([depth, depth, -depth], dtype=np.float64)\n",
    "box = AABB(min_point=min_point, max_point=max_point)\n",
    "box"
   ]
  },
  {
   "cell_type": "code",
   "execution_count": 12,
   "metadata": {
    "id": "r0ySprIdBQA_"
   },
   "outputs": [],
   "source": [
    "from LightTransportSimulator.light_transport.src.bvh import BVH\n",
    "\n",
    "bvh = BVH()\n",
    "bvh.insert(objects, box)"
   ]
  },
  {
   "cell_type": "code",
   "execution_count": 14,
   "metadata": {
    "colab": {
     "base_uri": "https://localhost:8080/"
    },
    "id": "_ujNgTqwBS6_",
    "outputId": "1c85b1d0-fc1d-4ca8-95a7-b143190fee6f",
    "scrolled": true
   },
   "outputs": [
    {
     "ename": "TypingError",
     "evalue": "Failed in nopython mode pipeline (step: nopython frontend)\n\u001B[1m\u001B[1m\u001B[1m\u001B[1m\u001B[1m\u001B[1mFailed in nopython mode pipeline (step: nopython frontend)\n\u001B[1m\u001B[1m\u001B[1m\u001B[1m\u001B[1m\u001B[1m\u001B[1m\u001B[1m\u001B[1m\u001B[1m\u001B[1m\u001B[1m\u001B[1m\u001B[1m\u001B[1m\u001B[1m\u001B[1m\u001B[1mFailed in nopython mode pipeline (step: nopython frontend)\n\u001B[1m\u001B[1m\u001B[1m\u001B[1mFailed in nopython mode pipeline (step: nopython frontend)\n\u001B[1m\u001B[1m\u001B[1mNo implementation of function Function(<built-in function len>) found for signature:\n \n >>> len(instance.jitclass.Volume#10dee75f250<root:ListType[instance.jitclass.PreComputedTriangle#10dea18a800<type:int64,vertex_1:array(float64, 1d, C),vertex_2:array(float64, 1d, C),vertex_3:array(float64, 1d, C),centroid:array(float64, 1d, C),material:instance.jitclass.Material#10dec8e3250<color:instance.jitclass.Color#10dec89a200<ambient:array(float64, 1d, A),diffuse:array(float64, 1d, A),specular:array(float64, 1d, A)>,shininess:float64,reflection:float64,ior:float64,is_diffuse:bool,is_mirror:bool,emission:float64,transmission:float64>,is_light:bool,edge_1:array(float64, 1d, C),edge_2:array(float64, 1d, C),normal:array(float64, 1d, C),num:float64,transformation:array(float64, 2d, A)>],axis:int64,box:instance.jitclass.AABB#10dea18b580<type:int64,min_point:array(float64, 1d, A),max_point:array(float64, 1d, A),centroid:array(float64, 1d, A)>,left:OptionalType(DeferredType#1159403251520),right:OptionalType(DeferredType#1159403251520)>)\n \nThere are 16 candidate implementations:\n\u001B[1m    - Of which 16 did not match due to:\n    Overload of function 'len': File: <numerous>: Line N/A.\n      With argument(s): '(instance.jitclass.Volume#10dee75f250<root:ListType[instance.jitclass.PreComputedTriangle#10dea18a800<type:int64,vertex_1:array(float64, 1d, C),vertex_2:array(float64, 1d, C),vertex_3:array(float64, 1d, C),centroid:array(float64, 1d, C),material:instance.jitclass.Material#10dec8e3250<color:instance.jitclass.Color#10dec89a200<ambient:array(float64, 1d, A),diffuse:array(float64, 1d, A),specular:array(float64, 1d, A)>,shininess:float64,reflection:float64,ior:float64,is_diffuse:bool,is_mirror:bool,emission:float64,transmission:float64>,is_light:bool,edge_1:array(float64, 1d, C),edge_2:array(float64, 1d, C),normal:array(float64, 1d, C),num:float64,transformation:array(float64, 2d, A)>],axis:int64,box:instance.jitclass.AABB#10dea18b580<type:int64,min_point:array(float64, 1d, A),max_point:array(float64, 1d, A),centroid:array(float64, 1d, A)>,left:OptionalType(DeferredType#1159403251520),right:OptionalType(DeferredType#1159403251520)>)':\u001B[0m\n\u001B[1m     No match.\u001B[0m\n\u001B[0m\n\u001B[0m\u001B[1mDuring: resolving callee type: Function(<built-in function len>)\u001B[0m\n\u001B[0m\u001B[1mDuring: typing of call at C:\\Users\\dipanjan\\Work\\DS-Projects\\Light-Transport\\LightTransportSimulator\\light_transport\\src\\bvh_new.py (312)\n\u001B[0m\n\u001B[1m\nFile \"..\\src\\bvh_new.py\", line 312:\u001B[0m\n\u001B[1mdef intersect_bvh(ray_origin, ray_direction, linear_bvh, primitives):\n    <source elided>\n    dir_is_neg = [inv_dir[0] < 0, inv_dir[1] < 0, inv_dir[2] < 0]\n\u001B[1m    visited_nodes = [False for _ in range(len(linear_bvh))]\n\u001B[0m    \u001B[1m^\u001B[0m\u001B[0m\n\n\u001B[0m\u001B[1mDuring: resolving callee type: type(CPUDispatcher(<function intersect_bvh at 0x0000010DF1E139A0>))\u001B[0m\n\u001B[0m\u001B[1mDuring: typing of call at C:\\Users\\dipanjan\\Work\\DS-Projects\\Light-Transport\\LightTransportSimulator\\light_transport\\src\\light_samples.py (45)\n\u001B[0m\n\u001B[0m\u001B[1mDuring: resolving callee type: type(CPUDispatcher(<function intersect_bvh at 0x0000010DF1E139A0>))\u001B[0m\n\u001B[0m\u001B[1mDuring: typing of call at C:\\Users\\dipanjan\\Work\\DS-Projects\\Light-Transport\\LightTransportSimulator\\light_transport\\src\\light_samples.py (45)\n\u001B[0m\n\u001B[1m\nFile \"..\\src\\light_samples.py\", line 45:\u001B[0m\n\u001B[1mdef cast_one_shadow_ray(scene, primitives, linear_bvh, intersected_object, intersection_point, intersection_normal):\n    <source elided>\n    # _objects = traverse_bvh(bvh, intersection_point, shadow_ray_direction)\n\u001B[1m    _objects = intersect_bvh(intersection_point, shadow_ray_direction, linear_bvh, primitives)\n\u001B[0m    \u001B[1m^\u001B[0m\u001B[0m\n\n\u001B[0m\u001B[1mDuring: resolving callee type: type(CPUDispatcher(<function cast_one_shadow_ray at 0x0000010DF210D000>))\u001B[0m\n\u001B[0m\u001B[1mDuring: typing of call at C:\\Users\\dipanjan\\Work\\DS-Projects\\Light-Transport\\LightTransportSimulator\\light_transport\\src\\path_tracing.py (50)\n\u001B[0m\n\u001B[0m\u001B[1mDuring: resolving callee type: type(CPUDispatcher(<function cast_one_shadow_ray at 0x0000010DF210D000>))\u001B[0m\n\u001B[0m\u001B[1mDuring: typing of call at C:\\Users\\dipanjan\\Work\\DS-Projects\\Light-Transport\\LightTransportSimulator\\light_transport\\src\\path_tracing.py (50)\n\u001B[0m\n\u001B[0m\u001B[1mDuring: resolving callee type: type(CPUDispatcher(<function cast_one_shadow_ray at 0x0000010DF210D000>))\u001B[0m\n\u001B[0m\u001B[1mDuring: typing of call at C:\\Users\\dipanjan\\Work\\DS-Projects\\Light-Transport\\LightTransportSimulator\\light_transport\\src\\path_tracing.py (50)\n\u001B[0m\n\u001B[0m\u001B[1mDuring: resolving callee type: type(CPUDispatcher(<function cast_one_shadow_ray at 0x0000010DF210D000>))\u001B[0m\n\u001B[0m\u001B[1mDuring: typing of call at C:\\Users\\dipanjan\\Work\\DS-Projects\\Light-Transport\\LightTransportSimulator\\light_transport\\src\\path_tracing.py (50)\n\u001B[0m\n\u001B[0m\u001B[1mDuring: resolving callee type: type(CPUDispatcher(<function cast_one_shadow_ray at 0x0000010DF210D000>))\u001B[0m\n\u001B[0m\u001B[1mDuring: typing of call at C:\\Users\\dipanjan\\Work\\DS-Projects\\Light-Transport\\LightTransportSimulator\\light_transport\\src\\path_tracing.py (50)\n\u001B[0m\n\u001B[0m\u001B[1mDuring: resolving callee type: type(CPUDispatcher(<function cast_one_shadow_ray at 0x0000010DF210D000>))\u001B[0m\n\u001B[0m\u001B[1mDuring: typing of call at C:\\Users\\dipanjan\\Work\\DS-Projects\\Light-Transport\\LightTransportSimulator\\light_transport\\src\\path_tracing.py (50)\n\u001B[0m\n\u001B[0m\u001B[1mDuring: resolving callee type: type(CPUDispatcher(<function cast_one_shadow_ray at 0x0000010DF210D000>))\u001B[0m\n\u001B[0m\u001B[1mDuring: typing of call at C:\\Users\\dipanjan\\Work\\DS-Projects\\Light-Transport\\LightTransportSimulator\\light_transport\\src\\path_tracing.py (50)\n\u001B[0m\n\u001B[0m\u001B[1mDuring: resolving callee type: type(CPUDispatcher(<function cast_one_shadow_ray at 0x0000010DF210D000>))\u001B[0m\n\u001B[0m\u001B[1mDuring: typing of call at C:\\Users\\dipanjan\\Work\\DS-Projects\\Light-Transport\\LightTransportSimulator\\light_transport\\src\\path_tracing.py (50)\n\u001B[0m\n\u001B[0m\u001B[1mDuring: resolving callee type: type(CPUDispatcher(<function cast_one_shadow_ray at 0x0000010DF210D000>))\u001B[0m\n\u001B[0m\u001B[1mDuring: typing of call at C:\\Users\\dipanjan\\Work\\DS-Projects\\Light-Transport\\LightTransportSimulator\\light_transport\\src\\path_tracing.py (50)\n\u001B[0m\n\u001B[1m\nFile \"..\\src\\path_tracing.py\", line 50:\u001B[0m\n\u001B[1mdef trace_path(scene, primitives, linear_bvh, ray, bounce):\n    <source elided>\n            # direct light contribution\n\u001B[1m            direct_light = cast_one_shadow_ray(scene, primitives, linear_bvh, nearest_object, shadow_ray_origin, surface_normal)\n\u001B[0m            \u001B[1m^\u001B[0m\u001B[0m\n\n\u001B[0m\u001B[1mDuring: resolving callee type: type(CPUDispatcher(<function trace_path at 0x0000010DEF083400>))\u001B[0m\n\u001B[0m\u001B[1mDuring: typing of call at C:\\Users\\dipanjan\\Work\\DS-Projects\\Light-Transport\\LightTransportSimulator\\light_transport\\src\\path_tracing.py (150)\n\u001B[0m\n\u001B[0m\u001B[1mDuring: resolving callee type: type(CPUDispatcher(<function trace_path at 0x0000010DEF083400>))\u001B[0m\n\u001B[0m\u001B[1mDuring: typing of call at C:\\Users\\dipanjan\\Work\\DS-Projects\\Light-Transport\\LightTransportSimulator\\light_transport\\src\\path_tracing.py (150)\n\u001B[0m\n\u001B[0m\u001B[1mDuring: resolving callee type: type(CPUDispatcher(<function trace_path at 0x0000010DEF083400>))\u001B[0m\n\u001B[0m\u001B[1mDuring: typing of call at C:\\Users\\dipanjan\\Work\\DS-Projects\\Light-Transport\\LightTransportSimulator\\light_transport\\src\\path_tracing.py (150)\n\u001B[0m\n\u001B[1m\nFile \"..\\src\\path_tracing.py\", line 150:\u001B[0m\n\u001B[1mdef render_scene(scene, primitives, linear_bvh, number_of_samples=10):\n    <source elided>\n                # for k in range(scene.max_depth):\n\u001B[1m                color += trace_path(scene, primitives, linear_bvh, ray, 0)\n\u001B[0m                \u001B[1m^\u001B[0m\u001B[0m\n",
     "output_type": "error",
     "traceback": [
      "\u001B[1;31m---------------------------------------------------------------------------\u001B[0m",
      "\u001B[1;31mTypingError\u001B[0m                               Traceback (most recent call last)",
      "\u001B[1;32m~\\AppData\\Local\\Temp/ipykernel_23908/3926540371.py\u001B[0m in \u001B[0;36m<module>\u001B[1;34m\u001B[0m\n\u001B[0;32m      2\u001B[0m \u001B[1;33m\u001B[0m\u001B[0m\n\u001B[0;32m      3\u001B[0m \u001B[0mstart\u001B[0m \u001B[1;33m=\u001B[0m \u001B[0mtime\u001B[0m\u001B[1;33m.\u001B[0m\u001B[0mtime\u001B[0m\u001B[1;33m(\u001B[0m\u001B[1;33m)\u001B[0m\u001B[1;33m\u001B[0m\u001B[1;33m\u001B[0m\u001B[0m\n\u001B[1;32m----> 4\u001B[1;33m \u001B[0mimage\u001B[0m \u001B[1;33m=\u001B[0m \u001B[0mrender_scene\u001B[0m\u001B[1;33m(\u001B[0m\u001B[0mscene\u001B[0m\u001B[1;33m,\u001B[0m \u001B[0mobjects\u001B[0m\u001B[1;33m,\u001B[0m \u001B[0mbvh\u001B[0m\u001B[1;33m.\u001B[0m\u001B[0mtop\u001B[0m\u001B[1;33m,\u001B[0m \u001B[0mnumber_of_samples\u001B[0m\u001B[1;33m=\u001B[0m\u001B[1;36m64\u001B[0m\u001B[1;33m)\u001B[0m\u001B[1;33m\u001B[0m\u001B[1;33m\u001B[0m\u001B[0m\n\u001B[0m\u001B[0;32m      5\u001B[0m \u001B[0mend\u001B[0m \u001B[1;33m=\u001B[0m \u001B[0mtime\u001B[0m\u001B[1;33m.\u001B[0m\u001B[0mtime\u001B[0m\u001B[1;33m(\u001B[0m\u001B[1;33m)\u001B[0m\u001B[1;33m\u001B[0m\u001B[1;33m\u001B[0m\u001B[0m\n\u001B[0;32m      6\u001B[0m \u001B[0mprint\u001B[0m\u001B[1;33m(\u001B[0m\u001B[1;34m\"Elapsed (with compilation) = %s\"\u001B[0m \u001B[1;33m%\u001B[0m \u001B[1;33m(\u001B[0m\u001B[0mend\u001B[0m \u001B[1;33m-\u001B[0m \u001B[0mstart\u001B[0m\u001B[1;33m)\u001B[0m\u001B[1;33m)\u001B[0m\u001B[1;33m\u001B[0m\u001B[1;33m\u001B[0m\u001B[0m\n",
      "\u001B[1;32m~\\Anaconda3\\envs\\dsenv\\lib\\site-packages\\numba\\core\\dispatcher.py\u001B[0m in \u001B[0;36m_compile_for_args\u001B[1;34m(self, *args, **kws)\u001B[0m\n\u001B[0;32m    466\u001B[0m                 \u001B[0me\u001B[0m\u001B[1;33m.\u001B[0m\u001B[0mpatch_message\u001B[0m\u001B[1;33m(\u001B[0m\u001B[0mmsg\u001B[0m\u001B[1;33m)\u001B[0m\u001B[1;33m\u001B[0m\u001B[1;33m\u001B[0m\u001B[0m\n\u001B[0;32m    467\u001B[0m \u001B[1;33m\u001B[0m\u001B[0m\n\u001B[1;32m--> 468\u001B[1;33m             \u001B[0merror_rewrite\u001B[0m\u001B[1;33m(\u001B[0m\u001B[0me\u001B[0m\u001B[1;33m,\u001B[0m \u001B[1;34m'typing'\u001B[0m\u001B[1;33m)\u001B[0m\u001B[1;33m\u001B[0m\u001B[1;33m\u001B[0m\u001B[0m\n\u001B[0m\u001B[0;32m    469\u001B[0m         \u001B[1;32mexcept\u001B[0m \u001B[0merrors\u001B[0m\u001B[1;33m.\u001B[0m\u001B[0mUnsupportedError\u001B[0m \u001B[1;32mas\u001B[0m \u001B[0me\u001B[0m\u001B[1;33m:\u001B[0m\u001B[1;33m\u001B[0m\u001B[1;33m\u001B[0m\u001B[0m\n\u001B[0;32m    470\u001B[0m             \u001B[1;31m# Something unsupported is present in the user code, add help info\u001B[0m\u001B[1;33m\u001B[0m\u001B[1;33m\u001B[0m\u001B[0m\n",
      "\u001B[1;32m~\\Anaconda3\\envs\\dsenv\\lib\\site-packages\\numba\\core\\dispatcher.py\u001B[0m in \u001B[0;36merror_rewrite\u001B[1;34m(e, issue_type)\u001B[0m\n\u001B[0;32m    407\u001B[0m                 \u001B[1;32mraise\u001B[0m \u001B[0me\u001B[0m\u001B[1;33m\u001B[0m\u001B[1;33m\u001B[0m\u001B[0m\n\u001B[0;32m    408\u001B[0m             \u001B[1;32melse\u001B[0m\u001B[1;33m:\u001B[0m\u001B[1;33m\u001B[0m\u001B[1;33m\u001B[0m\u001B[0m\n\u001B[1;32m--> 409\u001B[1;33m                 \u001B[1;32mraise\u001B[0m \u001B[0me\u001B[0m\u001B[1;33m.\u001B[0m\u001B[0mwith_traceback\u001B[0m\u001B[1;33m(\u001B[0m\u001B[1;32mNone\u001B[0m\u001B[1;33m)\u001B[0m\u001B[1;33m\u001B[0m\u001B[1;33m\u001B[0m\u001B[0m\n\u001B[0m\u001B[0;32m    410\u001B[0m \u001B[1;33m\u001B[0m\u001B[0m\n\u001B[0;32m    411\u001B[0m         \u001B[0margtypes\u001B[0m \u001B[1;33m=\u001B[0m \u001B[1;33m[\u001B[0m\u001B[1;33m]\u001B[0m\u001B[1;33m\u001B[0m\u001B[1;33m\u001B[0m\u001B[0m\n",
      "\u001B[1;31mTypingError\u001B[0m: Failed in nopython mode pipeline (step: nopython frontend)\n\u001B[1m\u001B[1m\u001B[1m\u001B[1m\u001B[1m\u001B[1mFailed in nopython mode pipeline (step: nopython frontend)\n\u001B[1m\u001B[1m\u001B[1m\u001B[1m\u001B[1m\u001B[1m\u001B[1m\u001B[1m\u001B[1m\u001B[1m\u001B[1m\u001B[1m\u001B[1m\u001B[1m\u001B[1m\u001B[1m\u001B[1m\u001B[1mFailed in nopython mode pipeline (step: nopython frontend)\n\u001B[1m\u001B[1m\u001B[1m\u001B[1mFailed in nopython mode pipeline (step: nopython frontend)\n\u001B[1m\u001B[1m\u001B[1mNo implementation of function Function(<built-in function len>) found for signature:\n \n >>> len(instance.jitclass.Volume#10dee75f250<root:ListType[instance.jitclass.PreComputedTriangle#10dea18a800<type:int64,vertex_1:array(float64, 1d, C),vertex_2:array(float64, 1d, C),vertex_3:array(float64, 1d, C),centroid:array(float64, 1d, C),material:instance.jitclass.Material#10dec8e3250<color:instance.jitclass.Color#10dec89a200<ambient:array(float64, 1d, A),diffuse:array(float64, 1d, A),specular:array(float64, 1d, A)>,shininess:float64,reflection:float64,ior:float64,is_diffuse:bool,is_mirror:bool,emission:float64,transmission:float64>,is_light:bool,edge_1:array(float64, 1d, C),edge_2:array(float64, 1d, C),normal:array(float64, 1d, C),num:float64,transformation:array(float64, 2d, A)>],axis:int64,box:instance.jitclass.AABB#10dea18b580<type:int64,min_point:array(float64, 1d, A),max_point:array(float64, 1d, A),centroid:array(float64, 1d, A)>,left:OptionalType(DeferredType#1159403251520),right:OptionalType(DeferredType#1159403251520)>)\n \nThere are 16 candidate implementations:\n\u001B[1m    - Of which 16 did not match due to:\n    Overload of function 'len': File: <numerous>: Line N/A.\n      With argument(s): '(instance.jitclass.Volume#10dee75f250<root:ListType[instance.jitclass.PreComputedTriangle#10dea18a800<type:int64,vertex_1:array(float64, 1d, C),vertex_2:array(float64, 1d, C),vertex_3:array(float64, 1d, C),centroid:array(float64, 1d, C),material:instance.jitclass.Material#10dec8e3250<color:instance.jitclass.Color#10dec89a200<ambient:array(float64, 1d, A),diffuse:array(float64, 1d, A),specular:array(float64, 1d, A)>,shininess:float64,reflection:float64,ior:float64,is_diffuse:bool,is_mirror:bool,emission:float64,transmission:float64>,is_light:bool,edge_1:array(float64, 1d, C),edge_2:array(float64, 1d, C),normal:array(float64, 1d, C),num:float64,transformation:array(float64, 2d, A)>],axis:int64,box:instance.jitclass.AABB#10dea18b580<type:int64,min_point:array(float64, 1d, A),max_point:array(float64, 1d, A),centroid:array(float64, 1d, A)>,left:OptionalType(DeferredType#1159403251520),right:OptionalType(DeferredType#1159403251520)>)':\u001B[0m\n\u001B[1m     No match.\u001B[0m\n\u001B[0m\n\u001B[0m\u001B[1mDuring: resolving callee type: Function(<built-in function len>)\u001B[0m\n\u001B[0m\u001B[1mDuring: typing of call at C:\\Users\\dipanjan\\Work\\DS-Projects\\Light-Transport\\LightTransportSimulator\\light_transport\\src\\bvh_new.py (312)\n\u001B[0m\n\u001B[1m\nFile \"..\\src\\bvh_new.py\", line 312:\u001B[0m\n\u001B[1mdef intersect_bvh(ray_origin, ray_direction, linear_bvh, primitives):\n    <source elided>\n    dir_is_neg = [inv_dir[0] < 0, inv_dir[1] < 0, inv_dir[2] < 0]\n\u001B[1m    visited_nodes = [False for _ in range(len(linear_bvh))]\n\u001B[0m    \u001B[1m^\u001B[0m\u001B[0m\n\n\u001B[0m\u001B[1mDuring: resolving callee type: type(CPUDispatcher(<function intersect_bvh at 0x0000010DF1E139A0>))\u001B[0m\n\u001B[0m\u001B[1mDuring: typing of call at C:\\Users\\dipanjan\\Work\\DS-Projects\\Light-Transport\\LightTransportSimulator\\light_transport\\src\\light_samples.py (45)\n\u001B[0m\n\u001B[0m\u001B[1mDuring: resolving callee type: type(CPUDispatcher(<function intersect_bvh at 0x0000010DF1E139A0>))\u001B[0m\n\u001B[0m\u001B[1mDuring: typing of call at C:\\Users\\dipanjan\\Work\\DS-Projects\\Light-Transport\\LightTransportSimulator\\light_transport\\src\\light_samples.py (45)\n\u001B[0m\n\u001B[1m\nFile \"..\\src\\light_samples.py\", line 45:\u001B[0m\n\u001B[1mdef cast_one_shadow_ray(scene, primitives, linear_bvh, intersected_object, intersection_point, intersection_normal):\n    <source elided>\n    # _objects = traverse_bvh(bvh, intersection_point, shadow_ray_direction)\n\u001B[1m    _objects = intersect_bvh(intersection_point, shadow_ray_direction, linear_bvh, primitives)\n\u001B[0m    \u001B[1m^\u001B[0m\u001B[0m\n\n\u001B[0m\u001B[1mDuring: resolving callee type: type(CPUDispatcher(<function cast_one_shadow_ray at 0x0000010DF210D000>))\u001B[0m\n\u001B[0m\u001B[1mDuring: typing of call at C:\\Users\\dipanjan\\Work\\DS-Projects\\Light-Transport\\LightTransportSimulator\\light_transport\\src\\path_tracing.py (50)\n\u001B[0m\n\u001B[0m\u001B[1mDuring: resolving callee type: type(CPUDispatcher(<function cast_one_shadow_ray at 0x0000010DF210D000>))\u001B[0m\n\u001B[0m\u001B[1mDuring: typing of call at C:\\Users\\dipanjan\\Work\\DS-Projects\\Light-Transport\\LightTransportSimulator\\light_transport\\src\\path_tracing.py (50)\n\u001B[0m\n\u001B[0m\u001B[1mDuring: resolving callee type: type(CPUDispatcher(<function cast_one_shadow_ray at 0x0000010DF210D000>))\u001B[0m\n\u001B[0m\u001B[1mDuring: typing of call at C:\\Users\\dipanjan\\Work\\DS-Projects\\Light-Transport\\LightTransportSimulator\\light_transport\\src\\path_tracing.py (50)\n\u001B[0m\n\u001B[0m\u001B[1mDuring: resolving callee type: type(CPUDispatcher(<function cast_one_shadow_ray at 0x0000010DF210D000>))\u001B[0m\n\u001B[0m\u001B[1mDuring: typing of call at C:\\Users\\dipanjan\\Work\\DS-Projects\\Light-Transport\\LightTransportSimulator\\light_transport\\src\\path_tracing.py (50)\n\u001B[0m\n\u001B[0m\u001B[1mDuring: resolving callee type: type(CPUDispatcher(<function cast_one_shadow_ray at 0x0000010DF210D000>))\u001B[0m\n\u001B[0m\u001B[1mDuring: typing of call at C:\\Users\\dipanjan\\Work\\DS-Projects\\Light-Transport\\LightTransportSimulator\\light_transport\\src\\path_tracing.py (50)\n\u001B[0m\n\u001B[0m\u001B[1mDuring: resolving callee type: type(CPUDispatcher(<function cast_one_shadow_ray at 0x0000010DF210D000>))\u001B[0m\n\u001B[0m\u001B[1mDuring: typing of call at C:\\Users\\dipanjan\\Work\\DS-Projects\\Light-Transport\\LightTransportSimulator\\light_transport\\src\\path_tracing.py (50)\n\u001B[0m\n\u001B[0m\u001B[1mDuring: resolving callee type: type(CPUDispatcher(<function cast_one_shadow_ray at 0x0000010DF210D000>))\u001B[0m\n\u001B[0m\u001B[1mDuring: typing of call at C:\\Users\\dipanjan\\Work\\DS-Projects\\Light-Transport\\LightTransportSimulator\\light_transport\\src\\path_tracing.py (50)\n\u001B[0m\n\u001B[0m\u001B[1mDuring: resolving callee type: type(CPUDispatcher(<function cast_one_shadow_ray at 0x0000010DF210D000>))\u001B[0m\n\u001B[0m\u001B[1mDuring: typing of call at C:\\Users\\dipanjan\\Work\\DS-Projects\\Light-Transport\\LightTransportSimulator\\light_transport\\src\\path_tracing.py (50)\n\u001B[0m\n\u001B[0m\u001B[1mDuring: resolving callee type: type(CPUDispatcher(<function cast_one_shadow_ray at 0x0000010DF210D000>))\u001B[0m\n\u001B[0m\u001B[1mDuring: typing of call at C:\\Users\\dipanjan\\Work\\DS-Projects\\Light-Transport\\LightTransportSimulator\\light_transport\\src\\path_tracing.py (50)\n\u001B[0m\n\u001B[1m\nFile \"..\\src\\path_tracing.py\", line 50:\u001B[0m\n\u001B[1mdef trace_path(scene, primitives, linear_bvh, ray, bounce):\n    <source elided>\n            # direct light contribution\n\u001B[1m            direct_light = cast_one_shadow_ray(scene, primitives, linear_bvh, nearest_object, shadow_ray_origin, surface_normal)\n\u001B[0m            \u001B[1m^\u001B[0m\u001B[0m\n\n\u001B[0m\u001B[1mDuring: resolving callee type: type(CPUDispatcher(<function trace_path at 0x0000010DEF083400>))\u001B[0m\n\u001B[0m\u001B[1mDuring: typing of call at C:\\Users\\dipanjan\\Work\\DS-Projects\\Light-Transport\\LightTransportSimulator\\light_transport\\src\\path_tracing.py (150)\n\u001B[0m\n\u001B[0m\u001B[1mDuring: resolving callee type: type(CPUDispatcher(<function trace_path at 0x0000010DEF083400>))\u001B[0m\n\u001B[0m\u001B[1mDuring: typing of call at C:\\Users\\dipanjan\\Work\\DS-Projects\\Light-Transport\\LightTransportSimulator\\light_transport\\src\\path_tracing.py (150)\n\u001B[0m\n\u001B[0m\u001B[1mDuring: resolving callee type: type(CPUDispatcher(<function trace_path at 0x0000010DEF083400>))\u001B[0m\n\u001B[0m\u001B[1mDuring: typing of call at C:\\Users\\dipanjan\\Work\\DS-Projects\\Light-Transport\\LightTransportSimulator\\light_transport\\src\\path_tracing.py (150)\n\u001B[0m\n\u001B[1m\nFile \"..\\src\\path_tracing.py\", line 150:\u001B[0m\n\u001B[1mdef render_scene(scene, primitives, linear_bvh, number_of_samples=10):\n    <source elided>\n                # for k in range(scene.max_depth):\n\u001B[1m                color += trace_path(scene, primitives, linear_bvh, ray, 0)\n\u001B[0m                \u001B[1m^\u001B[0m\u001B[0m\n"
     ]
    }
   ],
   "source": [
    "from LightTransportSimulator.light_transport.src.path_tracing import render_scene\n",
    "\n",
    "start = time.time()\n",
    "image = render_scene(scene, objects, bvh.top, number_of_samples=64)\n",
    "end = time.time()\n",
    "print(\"Elapsed (with compilation) = %s\" % (end - start))"
   ]
  },
  {
   "cell_type": "code",
   "execution_count": null,
   "metadata": {
    "colab": {
     "base_uri": "https://localhost:8080/",
     "height": 286
    },
    "id": "YvqrADlYBVS0",
    "outputId": "b98c1cbd-ca5b-46a2-90f7-7b14275bc183"
   },
   "outputs": [],
   "source": [
    "plt.imshow(image)"
   ]
  },
  {
   "cell_type": "code",
   "execution_count": null,
   "outputs": [],
   "source": [],
   "metadata": {
    "collapsed": false,
    "pycharm": {
     "name": "#%%\n"
    }
   }
  }
 ],
 "metadata": {
  "accelerator": "GPU",
  "colab": {
   "provenance": []
  },
  "kernelspec": {
   "display_name": "Python 3 (ipykernel)",
   "language": "python",
   "name": "python3"
  },
  "language_info": {
   "codemirror_mode": {
    "name": "ipython",
    "version": 3
   },
   "file_extension": ".py",
   "mimetype": "text/x-python",
   "name": "python",
   "nbconvert_exporter": "python",
   "pygments_lexer": "ipython3",
   "version": "3.10.0"
  }
 },
 "nbformat": 4,
 "nbformat_minor": 1
}