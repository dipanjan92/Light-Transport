{
 "nbformat": 4,
 "nbformat_minor": 0,
 "metadata": {
  "colab": {
   "provenance": []
  },
  "kernelspec": {
   "name": "python3",
   "display_name": "Python 3"
  },
  "language_info": {
   "name": "python"
  },
  "accelerator": "GPU"
 },
 "cells": [
  {
   "cell_type": "code",
   "source": [
    "!rm -rf /content/light-transport"
   ],
   "metadata": {
    "id": "QRadLOD4CazB"
   },
   "execution_count": 11,
   "outputs": []
  },
  {
   "cell_type": "code",
   "execution_count": 1,
   "metadata": {
    "colab": {
     "base_uri": "https://localhost:8080/"
    },
    "id": "Zd1bheK0_pzj",
    "outputId": "8ebc56a8-5922-4a5d-8dac-54f383b1a3f4"
   },
   "outputs": [
    {
     "output_type": "stream",
     "name": "stdout",
     "text": [
      "Cloning into 'light-transport'...\n",
      "remote: Enumerating objects: 198, done.\u001B[K\n",
      "remote: Counting objects: 100% (198/198), done.\u001B[K\n",
      "remote: Compressing objects: 100% (138/138), done.\u001B[K\n",
      "remote: Total 198 (delta 89), reused 168 (delta 60), pack-reused 0\u001B[K\n",
      "Receiving objects: 100% (198/198), 6.60 MiB | 10.42 MiB/s, done.\n",
      "Resolving deltas: 100% (89/89), done.\n"
     ]
    }
   ],
   "source": [
    "!git clone https://github.com/dipanjan92/light-transport.git"
   ]
  },
  {
   "cell_type": "code",
   "source": [
    "import sys\n",
    "sys.path.insert(0,'/content/light-transport/LightTransportSimulator')"
   ],
   "metadata": {
    "id": "fs42SJE7_3P8"
   },
   "execution_count": 2,
   "outputs": []
  },
  {
   "cell_type": "code",
   "source": [
    "!pip install pyvista"
   ],
   "metadata": {
    "colab": {
     "base_uri": "https://localhost:8080/"
    },
    "id": "V4hbhbKS_5iF",
    "outputId": "974e9a30-eb31-4a9e-b22d-3866a66fbd26"
   },
   "execution_count": 3,
   "outputs": [
    {
     "output_type": "stream",
     "name": "stdout",
     "text": [
      "Looking in indexes: https://pypi.org/simple, https://us-python.pkg.dev/colab-wheels/public/simple/\n",
      "Requirement already satisfied: pyvista in /usr/local/lib/python3.7/dist-packages (0.36.1)\n",
      "Requirement already satisfied: numpy in /usr/local/lib/python3.7/dist-packages (from pyvista) (1.21.6)\n",
      "Requirement already satisfied: vtk in /usr/local/lib/python3.7/dist-packages (from pyvista) (9.2.2)\n",
      "Requirement already satisfied: appdirs in /usr/local/lib/python3.7/dist-packages (from pyvista) (1.4.4)\n",
      "Requirement already satisfied: scooby>=0.5.1 in /usr/local/lib/python3.7/dist-packages (from pyvista) (0.6.0)\n",
      "Requirement already satisfied: pillow in /usr/local/lib/python3.7/dist-packages (from pyvista) (7.1.2)\n",
      "Requirement already satisfied: imageio in /usr/local/lib/python3.7/dist-packages (from pyvista) (2.9.0)\n",
      "Requirement already satisfied: wslink>=1.0.4 in /usr/local/lib/python3.7/dist-packages (from vtk->pyvista) (1.8.2)\n",
      "Requirement already satisfied: matplotlib>=2.0.0 in /usr/local/lib/python3.7/dist-packages (from vtk->pyvista) (3.2.2)\n",
      "Requirement already satisfied: python-dateutil>=2.1 in /usr/local/lib/python3.7/dist-packages (from matplotlib>=2.0.0->vtk->pyvista) (2.8.2)\n",
      "Requirement already satisfied: kiwisolver>=1.0.1 in /usr/local/lib/python3.7/dist-packages (from matplotlib>=2.0.0->vtk->pyvista) (1.4.4)\n",
      "Requirement already satisfied: cycler>=0.10 in /usr/local/lib/python3.7/dist-packages (from matplotlib>=2.0.0->vtk->pyvista) (0.11.0)\n",
      "Requirement already satisfied: pyparsing!=2.0.4,!=2.1.2,!=2.1.6,>=2.0.1 in /usr/local/lib/python3.7/dist-packages (from matplotlib>=2.0.0->vtk->pyvista) (3.0.9)\n",
      "Requirement already satisfied: typing-extensions in /usr/local/lib/python3.7/dist-packages (from kiwisolver>=1.0.1->matplotlib>=2.0.0->vtk->pyvista) (4.1.1)\n",
      "Requirement already satisfied: six>=1.5 in /usr/local/lib/python3.7/dist-packages (from python-dateutil>=2.1->matplotlib>=2.0.0->vtk->pyvista) (1.15.0)\n",
      "Requirement already satisfied: aiohttp<4 in /usr/local/lib/python3.7/dist-packages (from wslink>=1.0.4->vtk->pyvista) (3.8.3)\n",
      "Requirement already satisfied: yarl<2.0,>=1.0 in /usr/local/lib/python3.7/dist-packages (from aiohttp<4->wslink>=1.0.4->vtk->pyvista) (1.8.1)\n",
      "Requirement already satisfied: aiosignal>=1.1.2 in /usr/local/lib/python3.7/dist-packages (from aiohttp<4->wslink>=1.0.4->vtk->pyvista) (1.2.0)\n",
      "Requirement already satisfied: frozenlist>=1.1.1 in /usr/local/lib/python3.7/dist-packages (from aiohttp<4->wslink>=1.0.4->vtk->pyvista) (1.3.1)\n",
      "Requirement already satisfied: charset-normalizer<3.0,>=2.0 in /usr/local/lib/python3.7/dist-packages (from aiohttp<4->wslink>=1.0.4->vtk->pyvista) (2.1.1)\n",
      "Requirement already satisfied: multidict<7.0,>=4.5 in /usr/local/lib/python3.7/dist-packages (from aiohttp<4->wslink>=1.0.4->vtk->pyvista) (6.0.2)\n",
      "Requirement already satisfied: async-timeout<5.0,>=4.0.0a3 in /usr/local/lib/python3.7/dist-packages (from aiohttp<4->wslink>=1.0.4->vtk->pyvista) (4.0.2)\n",
      "Requirement already satisfied: attrs>=17.3.0 in /usr/local/lib/python3.7/dist-packages (from aiohttp<4->wslink>=1.0.4->vtk->pyvista) (22.1.0)\n",
      "Requirement already satisfied: asynctest==0.13.0 in /usr/local/lib/python3.7/dist-packages (from aiohttp<4->wslink>=1.0.4->vtk->pyvista) (0.13.0)\n",
      "Requirement already satisfied: idna>=2.0 in /usr/local/lib/python3.7/dist-packages (from yarl<2.0,>=1.0->aiohttp<4->wslink>=1.0.4->vtk->pyvista) (2.10)\n"
     ]
    }
   ]
  },
  {
   "cell_type": "code",
   "source": [
    "import math\n",
    "import os\n",
    "import shutil\n",
    "import time\n",
    "from pathlib import Path\n",
    "\n",
    "import matplotlib.pyplot as plt\n",
    "import numpy as np\n",
    "import numba\n",
    "import pyvista as pv"
   ],
   "metadata": {
    "id": "ntLuhhAcAIeM"
   },
   "execution_count": 17,
   "outputs": []
  },
  {
   "cell_type": "code",
   "source": [
    "os.chdir('/content/light-transport/')\n",
    "os.getcwd()"
   ],
   "metadata": {
    "colab": {
     "base_uri": "https://localhost:8080/",
     "height": 36
    },
    "id": "XrbcqO1iAQwG",
    "outputId": "89709b29-3722-4166-f86d-9ca536197b2d"
   },
   "execution_count": 18,
   "outputs": [
    {
     "ename": "FileNotFoundError",
     "evalue": "[WinError 3] The system cannot find the path specified: '/content/light-transport/'",
     "output_type": "error",
     "traceback": [
      "\u001B[1;31m---------------------------------------------------------------------------\u001B[0m",
      "\u001B[1;31mFileNotFoundError\u001B[0m                         Traceback (most recent call last)",
      "\u001B[1;32m~\\AppData\\Local\\Temp/ipykernel_18328/297536942.py\u001B[0m in \u001B[0;36m<module>\u001B[1;34m\u001B[0m\n\u001B[1;32m----> 1\u001B[1;33m \u001B[0mos\u001B[0m\u001B[1;33m.\u001B[0m\u001B[0mchdir\u001B[0m\u001B[1;33m(\u001B[0m\u001B[1;34m'/content/light-transport/'\u001B[0m\u001B[1;33m)\u001B[0m\u001B[1;33m\u001B[0m\u001B[1;33m\u001B[0m\u001B[0m\n\u001B[0m\u001B[0;32m      2\u001B[0m \u001B[0mos\u001B[0m\u001B[1;33m.\u001B[0m\u001B[0mgetcwd\u001B[0m\u001B[1;33m(\u001B[0m\u001B[1;33m)\u001B[0m\u001B[1;33m\u001B[0m\u001B[1;33m\u001B[0m\u001B[0m\n",
      "\u001B[1;31mFileNotFoundError\u001B[0m: [WinError 3] The system cannot find the path specified: '/content/light-transport/'"
     ]
    }
   ]
  },
  {
   "cell_type": "code",
   "source": [
    "from LightTransportSimulator.light_transport.src.scene import Scene, Light\n",
    "from LightTransportSimulator.light_transport.src.primitives import Triangle, PreComputedTriangle\n",
    "from LightTransportSimulator.light_transport.src.cornell_box import get_cornell_box, get_floor\n",
    "from LightTransportSimulator.light_transport.src.colors import *"
   ],
   "metadata": {
    "id": "9XPlkO_hAUEH"
   },
   "execution_count": null,
   "outputs": []
  },
  {
   "cell_type": "code",
   "source": [
    "#load object\n",
    "mesh = pv.Cone(radius=2, center=[0,0,0], height=5)\n",
    "tri = mesh.triangulate()\n",
    "points = np.ascontiguousarray(tri.points)\n",
    "faces = tri.faces.reshape((-1,4))[:, 1:4]\n",
    "vertices = np.ascontiguousarray(points[faces], dtype=np.float64)\n",
    "len(vertices)"
   ],
   "metadata": {
    "colab": {
     "base_uri": "https://localhost:8080/"
    },
    "id": "xcLdtmlCAeqM",
    "outputId": "405f03fe-4507-46b9-bcee-153db6234648"
   },
   "execution_count": 19,
   "outputs": [
    {
     "data": {
      "text/plain": "10"
     },
     "execution_count": 19,
     "metadata": {},
     "output_type": "execute_result"
    }
   ]
  },
  {
   "cell_type": "code",
   "source": [
    "#set scene depths\n",
    "\n",
    "xmax, ymax, zmax = points.max(axis=0)\n",
    "xmin, ymin, zmin = points.min(axis=0)\n",
    "\n",
    "padding = 5\n",
    "depth = abs(max(xmax, ymax, zmax)) + padding\n",
    "x_depth = abs(xmax) + 10\n",
    "y_depth = abs(ymax) + 1\n",
    "z_depth = abs(zmax) + 10\n",
    "xmax, ymax, zmax, depth"
   ],
   "metadata": {
    "colab": {
     "base_uri": "https://localhost:8080/"
    },
    "id": "NTHWVffcAjju",
    "outputId": "3f241786-62da-42de-ffcf-bf0d633022a4"
   },
   "execution_count": 20,
   "outputs": [
    {
     "data": {
      "text/plain": "(2.5, 2.0, 1.7320508, 7.5)"
     },
     "execution_count": 20,
     "metadata": {},
     "output_type": "execute_result"
    }
   ]
  },
  {
   "cell_type": "code",
   "source": [
    "# empty object list\n",
    "objects = numba.typed.List()"
   ],
   "metadata": {
    "id": "4uUQBifqAn3F"
   },
   "execution_count": 21,
   "outputs": []
  },
  {
   "cell_type": "code",
   "source": [
    "start_id = len(objects)\n",
    "surface_color = WHITE_2\n",
    "left_wall_color = GREEN\n",
    "right_wall_color = RED\n",
    "surface_mat = Material(color=surface_color, shininess=30, reflection=0.1, ior=1.5210, transmission=1) # calcium sulphate\n",
    "left_wall_mat = Material(color=left_wall_color, shininess=30, reflection=0.1, ior=1.5210, transmission=1)\n",
    "right_wall_mat = Material(color=right_wall_color, shininess=30, reflection=0.1, ior=1.5210, transmission=1)\n",
    "\n",
    "objects = get_cornell_box(depth, surface_mat, left_wall_mat, right_wall_mat, start_id)"
   ],
   "metadata": {
    "id": "gSOIA4cvArNy"
   },
   "execution_count": 22,
   "outputs": []
  },
  {
   "cell_type": "code",
   "source": [
    "id = len(objects)+1\n",
    "for v in vertices:\n",
    "    a,b,c = np.append(v[0], 1),np.append(v[1], 1),np.append(v[2], 1)\n",
    "    id+=1\n",
    "    triangle = PreComputedTriangle(id=id,\n",
    "                                   vertex_1=np.ascontiguousarray(a, dtype=np.float64),\n",
    "                                   vertex_2=np.ascontiguousarray(b, dtype=np.float64),\n",
    "                                   vertex_3=np.ascontiguousarray(c, dtype=np.float64),\n",
    "                                   material=GLASS_MAT)\n",
    "    objects.append(triangle)\n",
    "\n",
    "objects"
   ],
   "metadata": {
    "colab": {
     "base_uri": "https://localhost:8080/"
    },
    "id": "46or32ELA_da",
    "outputId": "609c3be4-ce73-46d4-e132-6f6d2ae99a91"
   },
   "execution_count": 23,
   "outputs": [
    {
     "data": {
      "text/plain": "ListType[instance.jitclass.PreComputedTriangle#1fd0b2d2bc0<type:int64,id:int64,vertex_1:array(float64, 1d, C),vertex_2:array(float64, 1d, C),vertex_3:array(float64, 1d, C),centroid:array(float64, 1d, C),material:instance.jitclass.Material#1fd0b2d10c0<color:instance.jitclass.Color#1fd0b324a30<ambient:array(float64, 1d, A),diffuse:array(float64, 1d, A),specular:array(float64, 1d, A)>,shininess:float64,reflection:float64,ior:float64,is_diffuse:bool,is_mirror:bool,emission:float64,transmission:float64>,is_light:bool,edge_1:array(float64, 1d, C),edge_2:array(float64, 1d, C),normal:array(float64, 1d, C),num:float64,transformation:array(float64, 2d, A)>]([<numba.experimental.jitclass.boxing.PreComputedTriangle object at 0x000001FD10998310>, <numba.experimental.jitclass.boxing.PreComputedTriangle object at 0x000001FD1099B5B0>, <numba.experimental.jitclass.boxing.PreComputedTriangle object at 0x000001FD10998310>, <numba.experimental.jitclass.boxing.PreComputedTriangle object at 0x000001FD1099B5B0>, <numba.experimental.jitclass.boxing.PreComputedTriangle object at 0x000001FD10998310>, <numba.experimental.jitclass.boxing.PreComputedTriangle object at 0x000001FD1099B5B0>, <numba.experimental.jitclass.boxing.PreComputedTriangle object at 0x000001FD10998310>, <numba.experimental.jitclass.boxing.PreComputedTriangle object at 0x000001FD1099B5B0>, <numba.experimental.jitclass.boxing.PreComputedTriangle object at 0x000001FD10998310>, <numba.experimental.jitclass.boxing.PreComputedTriangle object at 0x000001FD1099B5B0>, <numba.experimental.jitclass.boxing.PreComputedTriangle object at 0x000001FD10998310>, <numba.experimental.jitclass.boxing.PreComputedTriangle object at 0x000001FD1099B5B0>, <numba.experimental.jitclass.boxing.PreComputedTriangle object at 0x000001FD10998310>, <numba.experimental.jitclass.boxing.PreComputedTriangle object at 0x000001FD1099B5B0>, <numba.experimental.jitclass.boxing.PreComputedTriangle object at 0x000001FD10998310>, <numba.experimental.jitclass.boxing.PreComputedTriangle object at 0x000001FD1099B5B0>, <numba.experimental.jitclass.boxing.PreComputedTriangle object at 0x000001FD10998310>, <numba.experimental.jitclass.boxing.PreComputedTriangle object at 0x000001FD1099B5B0>, <numba.experimental.jitclass.boxing.PreComputedTriangle object at 0x000001FD10998310>, <numba.experimental.jitclass.boxing.PreComputedTriangle object at 0x000001FD1099B5B0>, <numba.experimental.jitclass.boxing.PreComputedTriangle object at 0x000001FD10998310>, <numba.experimental.jitclass.boxing.PreComputedTriangle object at 0x000001FD1099B5B0>, <numba.experimental.jitclass.boxing.PreComputedTriangle object at 0x000001FD10998310>, <numba.experimental.jitclass.boxing.PreComputedTriangle object at 0x000001FD1099B5B0>, <numba.experimental.jitclass.boxing.PreComputedTriangle object at 0x000001FD10998310>, <numba.experimental.jitclass.boxing.PreComputedTriangle object at 0x000001FD1099B5B0>, ...])"
     },
     "execution_count": 23,
     "metadata": {},
     "output_type": "execute_result"
    }
   ]
  },
  {
   "cell_type": "code",
   "source": [
    "# global light source\n",
    "light_sources = numba.typed.List()\n",
    "\n",
    "source_mat = Material(color=WHITE, shininess=1, reflection=0.9, ior=1.5, emission=10000)\n",
    "\n",
    "id = len(objects)+1\n",
    "\n",
    "light_1 = PreComputedTriangle(id=id,\n",
    "                              vertex_1=np.array([-1, depth, -1, 1], dtype=np.float64),\n",
    "                              vertex_2=np.array([1, depth, 1, 1], dtype=np.float64),\n",
    "                              vertex_3=np.array([-1, depth, 1, 1], dtype=np.float64),\n",
    "                              material=source_mat,\n",
    "                              is_light=True)\n",
    "id += 1\n",
    "\n",
    "light_2 = PreComputedTriangle(id=id,\n",
    "                              vertex_1=np.array([-1, depth, -1, 1], dtype=np.float64),\n",
    "                              vertex_2=np.array([1, depth, -1, 1], dtype=np.float64),\n",
    "                              vertex_3=np.array([1, depth, 1, 1], dtype=np.float64),\n",
    "                              material=source_mat,\n",
    "                              is_light=True)\n",
    "\n",
    "\n",
    "light_samples = 10\n",
    "a = np.random.uniform(0,1,light_samples)\n",
    "b = np.random.uniform(1,0,light_samples)\n",
    "\n",
    "for x in range(light_samples):\n",
    "    tp1 = light_1.vertex_1 * (1-math.sqrt(a[x])) + light_1.vertex_2 * (math.sqrt(a[x])*(1-b[x])) + light_1.vertex_3 * (b[x]*math.sqrt(a[x]))\n",
    "    l1 = Light(source=tp1, material=source_mat)\n",
    "    light_sources.append(l1)\n",
    "    tp2 = light_2.vertex_1 * (1-math.sqrt(a[x])) + light_2.vertex_2 * (math.sqrt(a[x])*(1-b[x])) + light_2.vertex_3 * (b[x]*math.sqrt(a[x]))\n",
    "    l2 = Light(source=tp1, material=source_mat)\n",
    "    light_sources.append(l2)\n",
    "\n",
    "light_sources"
   ],
   "metadata": {
    "colab": {
     "base_uri": "https://localhost:8080/"
    },
    "id": "ZcG2w1ziBCkk",
    "outputId": "e473872e-13e5-4da7-f5cb-62561ed9586a"
   },
   "execution_count": 24,
   "outputs": [
    {
     "data": {
      "text/plain": "ListType[instance.jitclass.Light#1fd0b2d1c00<source:array(float64, 1d, A),material:instance.jitclass.Material#1fd0b2d10c0<color:instance.jitclass.Color#1fd0b324a30<ambient:array(float64, 1d, A),diffuse:array(float64, 1d, A),specular:array(float64, 1d, A)>,shininess:float64,reflection:float64,ior:float64,is_diffuse:bool,is_mirror:bool,emission:float64,transmission:float64>>]([<numba.experimental.jitclass.boxing.Light object at 0x000001FD106437C0>, <numba.experimental.jitclass.boxing.Light object at 0x000001FD10643D30>, <numba.experimental.jitclass.boxing.Light object at 0x000001FD106437C0>, <numba.experimental.jitclass.boxing.Light object at 0x000001FD10643D30>, <numba.experimental.jitclass.boxing.Light object at 0x000001FD106437C0>, <numba.experimental.jitclass.boxing.Light object at 0x000001FD10643D30>, <numba.experimental.jitclass.boxing.Light object at 0x000001FD106437C0>, <numba.experimental.jitclass.boxing.Light object at 0x000001FD10643D30>, <numba.experimental.jitclass.boxing.Light object at 0x000001FD106437C0>, <numba.experimental.jitclass.boxing.Light object at 0x000001FD10643D30>, <numba.experimental.jitclass.boxing.Light object at 0x000001FD106437C0>, <numba.experimental.jitclass.boxing.Light object at 0x000001FD10643D30>, <numba.experimental.jitclass.boxing.Light object at 0x000001FD106437C0>, <numba.experimental.jitclass.boxing.Light object at 0x000001FD10643D30>, <numba.experimental.jitclass.boxing.Light object at 0x000001FD106437C0>, <numba.experimental.jitclass.boxing.Light object at 0x000001FD10643D30>, <numba.experimental.jitclass.boxing.Light object at 0x000001FD106437C0>, <numba.experimental.jitclass.boxing.Light object at 0x000001FD10643D30>, <numba.experimental.jitclass.boxing.Light object at 0x000001FD106437C0>, <numba.experimental.jitclass.boxing.Light object at 0x000001FD10643D30>, ...])"
     },
     "execution_count": 24,
     "metadata": {},
     "output_type": "execute_result"
    }
   ]
  },
  {
   "cell_type": "code",
   "source": [
    "objects.append(light_1)\n",
    "objects.append(light_2)"
   ],
   "metadata": {
    "id": "3rfl_cUXBFiL"
   },
   "execution_count": 25,
   "outputs": []
  },
  {
   "cell_type": "code",
   "source": [
    "# setup scene\n",
    "\n",
    "#camera\n",
    "camera = np.array([0, 0, depth+0.5, 1], dtype=np.float64)\n",
    "\n",
    "#screen\n",
    "width=400\n",
    "height=400\n",
    "max_depth=3\n",
    "\n",
    "#scene\n",
    "scene = Scene(camera=camera, lights=light_sources, width=width, height=height, max_depth=max_depth, depth=depth)"
   ],
   "metadata": {
    "id": "aclJFNhOBIaV"
   },
   "execution_count": 26,
   "outputs": []
  },
  {
   "cell_type": "code",
   "source": [
    "from LightTransportSimulator.light_transport.src.primitives import AABB\n",
    "# min_point=np.array([scene.left, scene.bottom, -scene.depth], dtype=np.float64)\n",
    "# max_point=np.array([scene.right, scene.top, scene.depth], dtype=np.float64)\n",
    "min_point=np.array([-depth, -depth, depth], dtype=np.float64)\n",
    "max_point=np.array([depth, depth, -depth], dtype=np.float64)\n",
    "box = AABB(min_point=min_point, max_point=max_point)\n",
    "box"
   ],
   "metadata": {
    "colab": {
     "base_uri": "https://localhost:8080/"
    },
    "id": "SEP1yRDnBKxO",
    "outputId": "ceb226b2-27b9-47cc-fb4d-8904e8369413"
   },
   "execution_count": 27,
   "outputs": [
    {
     "data": {
      "text/plain": "<numba.experimental.jitclass.boxing.AABB at 0x1fd102e4460>"
     },
     "execution_count": 27,
     "metadata": {},
     "output_type": "execute_result"
    }
   ]
  },
  {
   "cell_type": "code",
   "source": [
    "from LightTransportSimulator.light_transport.src.bvh import BVH\n",
    "\n",
    "bvh = BVH()\n",
    "bvh.insert(objects, box)"
   ],
   "metadata": {
    "id": "r0ySprIdBQA_"
   },
   "execution_count": 28,
   "outputs": []
  },
  {
   "cell_type": "code",
   "source": [
    "from LightTransportSimulator.light_transport.src.render import render_scene\n",
    "\n",
    "start = time.time()\n",
    "image = render_scene(scene, bvh.top)\n",
    "end = time.time()\n",
    "print(\"Elapsed (with compilation) = %s\" % (end - start))"
   ],
   "metadata": {
    "colab": {
     "base_uri": "https://localhost:8080/"
    },
    "id": "_ujNgTqwBS6_",
    "outputId": "1c85b1d0-fc1d-4ca8-95a7-b143190fee6f"
   },
   "execution_count": 29,
   "outputs": [
    {
     "name": "stdout",
     "output_type": "stream",
     "text": [
      "2.0\n",
      "2.0\n",
      "2.0\n",
      "2.0\n",
      "2.0\n",
      "2.0\n",
      "2.0\n",
      "4.0\n",
      "2.0\n",
      "4.0\n",
      "4.0\n",
      "4.0\n",
      "4.0\n",
      "4.0\n",
      "4.0\n",
      "6.0\n",
      "6.0\n",
      "6.0\n",
      "6.0\n",
      "6.0\n",
      "4.0\n",
      "6.0\n",
      "8.0\n",
      "8.0\n",
      "6.0\n",
      "8.0\n",
      "8.0\n",
      "8.0\n",
      "10.0\n",
      "10.0\n",
      "8.0\n",
      "10.0\n",
      "8.0\n",
      "10.0\n",
      "10.0\n",
      "6.0\n",
      "12.0\n",
      "12.0\n",
      "12.0\n",
      "10.0\n",
      "12.0\n",
      "10.0\n",
      "12.0\n",
      "14.0\n",
      "14.0\n",
      "14.0\n",
      "8.0\n",
      "12.0\n",
      "14.0\n",
      "14.0\n",
      "16.0\n",
      "12.0\n",
      "16.0\n",
      "16.0\n",
      "16.0\n",
      "14.0\n",
      "16.0\n",
      "18.0\n",
      "10.0\n",
      "18.0\n",
      "18.0\n",
      "14.0\n",
      "18.0\n",
      "20.0\n",
      "20.0\n",
      "20.0\n",
      "16.0\n",
      "18.0\n",
      "16.0\n",
      "22.0\n",
      "20.0\n",
      "12.0\n",
      "22.0\n",
      "22.0\n",
      "20.0\n",
      "18.0\n",
      "18.0\n",
      "24.0\n",
      "22.0\n",
      "24.0\n",
      "24.0\n",
      "22.0\n",
      "26.0\n",
      "20.0\n",
      "14.0\n",
      "20.0\n",
      "26.0\n",
      "26.0\n",
      "24.0\n",
      "24.0\n",
      "28.0\n",
      "22.0\n",
      "28.0\n",
      "28.0\n",
      "22.0\n",
      "26.0\n",
      "16.0\n",
      "30.0\n",
      "26.0\n",
      "30.0\n",
      "30.0\n",
      "24.0\n",
      "28.0\n",
      "24.0\n",
      "32.0\n",
      "28.0\n",
      "32.0\n",
      "32.0\n",
      "18.0\n",
      "26.0\n",
      "30.0\n",
      "34.0\n",
      "26.0\n",
      "34.0\n",
      "34.0\n",
      "30.0\n",
      "36.0\n",
      "32.0\n",
      "28.0\n",
      "20.0\n",
      "28.0\n",
      "36.0\n",
      "36.0\n",
      "32.0\n",
      "38.0\n",
      "34.0\n",
      "30.0\n",
      "38.0\n",
      "38.0\n",
      "30.0\n",
      "40.0\n",
      "22.0\n",
      "36.0\n",
      "34.0\n",
      "40.0\n",
      "40.0\n",
      "32.0\n",
      "42.0\n",
      "32.0\n",
      "38.0\n",
      "42.0\n",
      "36.0\n",
      "42.0\n",
      "44.0\n",
      "24.0\n",
      "34.0\n",
      "34.0\n",
      "44.0\n",
      "40.0\n",
      "44.0\n",
      "46.0\n",
      "38.0\n",
      "36.0\n",
      "46.0\n",
      "42.0\n",
      "36.0\n",
      "26.0\n",
      "46.0\n",
      "48.0\n",
      "40.0\n",
      "48.0\n",
      "38.0\n",
      "44.0\n",
      "48.0\n",
      "50.0\n",
      "38.0\n",
      "28.0\n",
      "42.0\n",
      "50.0\n",
      "46.0\n",
      "40.0\n",
      "52.0\n",
      "50.0\n",
      "40.0\n",
      "52.0\n",
      "54.0\n",
      "52.0\n",
      "48.0\n",
      "44.0\n",
      "42.0\n",
      "30.0\n",
      "42.0\n",
      "54.0\n",
      "56.0\n",
      "54.0\n",
      "50.0\n",
      "46.0\n",
      "44.0\n",
      "56.0\n",
      "58.0\n",
      "44.0\n",
      "32.0\n",
      "56.0\n",
      "52.0\n",
      "58.0\n",
      "60.0\n",
      "46.0\n",
      "48.0\n",
      "58.0\n",
      "46.0\n",
      "54.0\n",
      "34.0\n",
      "62.0\n",
      "60.0\n",
      "48.0\n",
      "50.0\n",
      "60.0\n",
      "48.0\n",
      "56.0\n",
      "64.0\n",
      "62.0\n",
      "62.0\n",
      "36.0\n",
      "50.0\n",
      "52.0\n",
      "66.0\n",
      "58.0\n",
      "50.0\n",
      "64.0\n",
      "64.0\n",
      "52.0\n",
      "68.0\n",
      "60.0\n",
      "66.0\n",
      "54.0\n",
      "38.0\n",
      "52.0\n",
      "66.0\n",
      "70.0\n",
      "68.0\n",
      "62.0\n",
      "54.0\n",
      "56.0\n",
      "54.0\n",
      "68.0\n",
      "72.0\n",
      "40.0\n",
      "70.0\n",
      "64.0\n",
      "56.0\n",
      "70.0\n",
      "56.0\n",
      "58.0\n",
      "74.0\n",
      "72.0\n",
      "66.0\n",
      "72.0\n",
      "42.0\n",
      "58.0\n",
      "76.0\n",
      "74.0\n",
      "58.0\n",
      "60.0\n",
      "68.0\n",
      "74.0\n",
      "78.0\n",
      "60.0\n",
      "76.0\n",
      "44.0\n",
      "60.0\n",
      "76.0\n",
      "62.0\n",
      "70.0\n",
      "80.0\n",
      "78.0\n",
      "62.0\n",
      "78.0\n",
      "62.0\n",
      "82.0\n",
      "46.0\n",
      "72.0\n",
      "80.0\n",
      "64.0\n",
      "80.0\n",
      "64.0\n",
      "84.0\n",
      "64.0\n",
      "82.0\n",
      "74.0\n",
      "66.0\n",
      "82.0\n",
      "48.0\n",
      "86.0\n",
      "66.0\n",
      "84.0\n",
      "66.0\n",
      "84.0\n",
      "76.0\n",
      "88.0\n",
      "68.0\n",
      "86.0\n",
      "68.0\n",
      "50.0\n",
      "68.0\n",
      "90.0\n",
      "86.0\n",
      "78.0\n",
      "88.0\n",
      "70.0\n",
      "70.0\n",
      "92.0\n",
      "88.0\n",
      "70.0\n",
      "52.0\n",
      "90.0\n",
      "80.0\n",
      "72.0\n",
      "94.0\n",
      "90.0\n",
      "72.0\n",
      "92.0\n",
      "72.0\n",
      "82.0\n",
      "54.0\n",
      "96.0\n",
      "92.0\n",
      "74.0\n",
      "94.0\n",
      "74.0\n",
      "74.0\n",
      "84.0\n",
      "98.0\n",
      "94.0\n",
      "96.0\n",
      "56.0\n",
      "76.0\n",
      "76.0\n",
      "100.0\n",
      "76.0\n",
      "86.0\n",
      "96.0\n",
      "98.0\n",
      "78.0\n",
      "88.0\n",
      "58.0\n",
      "78.0\n",
      "78.0\n",
      "98.0\n",
      "100.0\n",
      "90.0\n",
      "80.0\n",
      "100.0\n",
      "80.0\n",
      "80.0\n",
      "60.0\n",
      "92.0\n",
      "82.0\n",
      "82.0\n",
      "94.0\n",
      "82.0\n",
      "62.0\n",
      "84.0\n",
      "96.0\n",
      "84.0\n",
      "98.0\n",
      "84.0\n",
      "64.0\n",
      "86.0\n",
      "86.0\n",
      "100.0\n",
      "88.0\n",
      "86.0\n",
      "66.0\n",
      "88.0\n",
      "90.0\n",
      "88.0\n",
      "68.0\n",
      "90.0\n",
      "92.0\n",
      "92.0\n",
      "90.0\n",
      "70.0\n",
      "94.0\n",
      "94.0\n",
      "92.0\n",
      "72.0\n",
      "96.0\n",
      "96.0\n",
      "74.0\n",
      "94.0\n",
      "98.0\n",
      "98.0\n",
      "76.0\n",
      "100.0\n",
      "96.0\n",
      "100.0\n",
      "78.0\n",
      "98.0\n",
      "80.0\n",
      "100.0\n",
      "82.0\n",
      "84.0\n",
      "86.0\n",
      "88.0\n",
      "90.0\n",
      "92.0\n",
      "94.0\n",
      "96.0\n",
      "98.0\n",
      "100.0\n",
      "Elapsed (with compilation) = 318.48316502571106\n"
     ]
    }
   ]
  },
  {
   "cell_type": "code",
   "source": [
    "plt.imshow(image)"
   ],
   "metadata": {
    "colab": {
     "base_uri": "https://localhost:8080/",
     "height": 286
    },
    "id": "YvqrADlYBVS0",
    "outputId": "b98c1cbd-ca5b-46a2-90f7-7b14275bc183"
   },
   "execution_count": 30,
   "outputs": [
    {
     "data": {
      "text/plain": "<matplotlib.image.AxesImage at 0x1fd105d5240>"
     },
     "execution_count": 30,
     "metadata": {},
     "output_type": "execute_result"
    },
    {
     "data": {
      "text/plain": "<Figure size 432x288 with 1 Axes>",
      "image/png": "[encoded data removed]"
     },
     "metadata": {
      "needs_background": "light"
     },
     "output_type": "display_data"
    }
   ]
  },
  {
   "cell_type": "code",
   "source": [],
   "metadata": {
    "id": "Q5TCC4_AIwQ-"
   },
   "execution_count": null,
   "outputs": []
  }
 ]
}