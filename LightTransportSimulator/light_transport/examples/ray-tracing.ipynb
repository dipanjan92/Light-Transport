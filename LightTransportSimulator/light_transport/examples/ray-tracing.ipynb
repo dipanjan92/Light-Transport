{
 "cells": [
  {
   "cell_type": "code",
   "execution_count": 1,
   "metadata": {
    "collapsed": true
   },
   "outputs": [],
   "source": [
    "import numba\n",
    "%matplotlib inline\n",
    "import numpy as np\n",
    "import matplotlib.pyplot as plt\n",
    "import pywavefront\n",
    "import os\n",
    "from pathlib import Path\n",
    "import time\n",
    "import numba\n",
    "import math"
   ]
  },
  {
   "cell_type": "code",
   "execution_count": 2,
   "outputs": [],
   "source": [
    "from LightTransportSimulator.light_transport.src.utils import nearest_intersected_object\n",
    "from LightTransportSimulator.light_transport.src.vectors import *\n",
    "from LightTransportSimulator.light_transport.src.brdf import *"
   ],
   "metadata": {
    "collapsed": false,
    "pycharm": {
     "name": "#%%\n"
    }
   }
  },
  {
   "cell_type": "code",
   "execution_count": 3,
   "outputs": [],
   "source": [
    "from LightTransportSimulator.light_transport.src.scene import Scene, Light\n",
    "from LightTransportSimulator.light_transport.src.material import Color, Material\n",
    "from LightTransportSimulator.light_transport.src.primitives import Plane, Triangle, Sphere, ShapeOptions\n",
    "from LightTransportSimulator.light_transport.src.cornell_box import get_cornell_box\n",
    "from LightTransportSimulator.light_transport.src.colors import *"
   ],
   "metadata": {
    "collapsed": false,
    "pycharm": {
     "name": "#%%\n"
    }
   }
  },
  {
   "cell_type": "code",
   "execution_count": 4,
   "outputs": [],
   "source": [
    "@numba.njit\n",
    "def create_dict(items):\n",
    "    return {k: v for k,v in items}\n",
    "\n",
    "dimension = 5\n",
    "objects = []"
   ],
   "metadata": {
    "collapsed": false,
    "pycharm": {
     "name": "#%%\n"
    }
   }
  },
  {
   "cell_type": "code",
   "execution_count": 5,
   "outputs": [],
   "source": [
    "#load object\n",
    "path = Path(\"obj/cube.obj\").resolve()\n",
    "object = pywavefront.Wavefront(\n",
    "    path,\n",
    "    create_materials=True,\n",
    "    collect_faces=True\n",
    ")\n",
    "\n",
    "obj_faces = object.mesh_list[0].faces\n",
    "obj_vertices = object.vertices"
   ],
   "metadata": {
    "collapsed": false,
    "pycharm": {
     "name": "#%%\n"
    }
   }
  },
  {
   "cell_type": "code",
   "execution_count": 6,
   "outputs": [
    {
     "data": {
      "text/plain": "(2.0, 2.0, 2.0, 7.0)"
     },
     "execution_count": 6,
     "metadata": {},
     "output_type": "execute_result"
    }
   ],
   "source": [
    "#set scene dimensions\n",
    "vx = np.ascontiguousarray(obj_vertices)\n",
    "xmax, ymax, zmax = vx.max(axis=0)\n",
    "\n",
    "padding = 5\n",
    "dimension = abs(max(xmax, ymax, zmax)) + padding\n",
    "xmax, ymax, zmax, dimension"
   ],
   "metadata": {
    "collapsed": false,
    "pycharm": {
     "name": "#%%\n"
    }
   }
  },
  {
   "cell_type": "code",
   "execution_count": 7,
   "outputs": [
    {
     "data": {
      "text/plain": "[<numba.experimental.jitclass.boxing.Triangle at 0x184bdf4f130>,\n <numba.experimental.jitclass.boxing.Triangle at 0x184bd525630>,\n <numba.experimental.jitclass.boxing.Triangle at 0x184bd525cf0>,\n <numba.experimental.jitclass.boxing.Triangle at 0x184bd525990>,\n <numba.experimental.jitclass.boxing.Triangle at 0x184bd5255d0>,\n <numba.experimental.jitclass.boxing.Triangle at 0x184bd526e00>,\n <numba.experimental.jitclass.boxing.Triangle at 0x184bd526bc0>,\n <numba.experimental.jitclass.boxing.Triangle at 0x184bd5259c0>,\n <numba.experimental.jitclass.boxing.Triangle at 0x184bd526860>,\n <numba.experimental.jitclass.boxing.Triangle at 0x184bd526c20>]"
     },
     "execution_count": 7,
     "metadata": {},
     "output_type": "execute_result"
    }
   ],
   "source": [
    "#setup cornell box\n",
    "\n",
    "objects = numba.typed.List()\n",
    "\n",
    "surface_color = SILVER\n",
    "left_wall_color = MAROON\n",
    "right_wall_color = GREEN\n",
    "\n",
    "surface_mat = Material(color=surface_color, shininess=89.6, reflection=0.5)\n",
    "left_wall_mat = Material(color=left_wall_color, shininess=100, reflection=0.5)\n",
    "right_wall_mat = Material(color=right_wall_color, shininess=100, reflection=0.5)\n",
    "\n",
    "objects = get_cornell_box(dimension, surface_mat, left_wall_mat, right_wall_mat)\n",
    "\n",
    "objects"
   ],
   "metadata": {
    "collapsed": false,
    "pycharm": {
     "name": "#%%\n"
    }
   }
  },
  {
   "cell_type": "code",
   "execution_count": 8,
   "outputs": [
    {
     "name": "stdout",
     "output_type": "stream",
     "text": [
      "[-0.90312081  6.999      -0.82179414] [0.90312081 6.999      0.82179414]\n",
      "[-0.49230958  6.999       0.61035908] [ 0.49230958  6.999      -0.61035908]\n",
      "[-0.60076634  6.999      -0.43278289] [0.60076634 6.999      0.43278289]\n",
      "[-0.60864924  6.999      -0.03040842] [0.60864924 6.999      0.03040842]\n",
      "[0.05302473 6.999      0.74567778] [-0.05302473  6.999      -0.74567778]\n",
      "[-0.34288196  6.999      -0.12518997] [0.34288196 6.999      0.12518997]\n",
      "[-0.36993104  6.999       0.13238067] [ 0.36993104  6.999      -0.13238067]\n",
      "[-0.41722582  6.999       0.47913586] [ 0.41722582  6.999      -0.47913586]\n",
      "[-4.08614101e-01  6.99900000e+00  3.49349975e-03] [ 4.08614101e-01  6.99900000e+00 -3.49349975e-03]\n",
      "[-0.70588074  6.999      -0.2006751 ] [0.70588074 6.999      0.2006751 ]\n"
     ]
    },
    {
     "data": {
      "text/plain": "ListType[instance.jitclass.Light#184ba4c6aa0<source:array(float64, 1d, A),material:instance.jitclass.Material#184bd453190<color:instance.jitclass.Color#184bd3fa6e0<ambient:array(float64, 1d, A),diffuse:array(float64, 1d, A),specular:array(float64, 1d, A)>,shininess:float64,reflection:float64>>]([<numba.experimental.jitclass.boxing.Light object at 0x00000184BF87C760>, <numba.experimental.jitclass.boxing.Light object at 0x00000184BF4C11E0>, <numba.experimental.jitclass.boxing.Light object at 0x00000184BF87C760>, <numba.experimental.jitclass.boxing.Light object at 0x00000184BF4C11E0>, <numba.experimental.jitclass.boxing.Light object at 0x00000184BF87C760>, <numba.experimental.jitclass.boxing.Light object at 0x00000184BF4C11E0>, <numba.experimental.jitclass.boxing.Light object at 0x00000184BF87C760>, <numba.experimental.jitclass.boxing.Light object at 0x00000184BF4C11E0>, <numba.experimental.jitclass.boxing.Light object at 0x00000184BF87C760>, <numba.experimental.jitclass.boxing.Light object at 0x00000184BF4C11E0>, <numba.experimental.jitclass.boxing.Light object at 0x00000184BF87C760>, <numba.experimental.jitclass.boxing.Light object at 0x00000184BF4C11E0>, <numba.experimental.jitclass.boxing.Light object at 0x00000184BF87C760>, <numba.experimental.jitclass.boxing.Light object at 0x00000184BF4C11E0>, <numba.experimental.jitclass.boxing.Light object at 0x00000184BF87C760>, <numba.experimental.jitclass.boxing.Light object at 0x00000184BF4C11E0>, <numba.experimental.jitclass.boxing.Light object at 0x00000184BF87C760>, <numba.experimental.jitclass.boxing.Light object at 0x00000184BF4C11E0>, <numba.experimental.jitclass.boxing.Light object at 0x00000184BF87C760>, <numba.experimental.jitclass.boxing.Light object at 0x00000184BF4C11E0>, ...])"
     },
     "execution_count": 8,
     "metadata": {},
     "output_type": "execute_result"
    }
   ],
   "source": [
    "# global light source\n",
    "\n",
    "source_mat = Material(color=WHITE, shininess=1, reflection=1)\n",
    "\n",
    "l_x = 1\n",
    "l_y = dimension - 0.001\n",
    "l_z = 1\n",
    "\n",
    "light_1 = Triangle(vertex_1=np.array([-l_x, l_y, -l_z], dtype=np.float64),\n",
    "                       vertex_2=np.array([l_x, l_y, l_z], dtype=np.float64),\n",
    "                       vertex_3=np.array([-l_x, l_y, l_z], dtype=np.float64),\n",
    "                       material=source_mat,\n",
    "                       is_light=True)\n",
    "\n",
    "light_2 = Triangle(vertex_1=np.array([l_x, l_y, l_z], dtype=np.float64),\n",
    "                   vertex_2=np.array([-l_x, l_y, -l_z], dtype=np.float64),\n",
    "                   vertex_3=np.array([l_x, l_y, -l_z], dtype=np.float64),\n",
    "                   material=source_mat,\n",
    "                   is_light=True)\n",
    "\n",
    "\n",
    "light_samples = 10\n",
    "a = np.random.uniform(0,1,light_samples)\n",
    "b = np.random.uniform(1,0,light_samples)\n",
    "\n",
    "light_sources = numba.typed.List()\n",
    "\n",
    "for x in range(light_samples):\n",
    "    tp1 = light_1.vertex_1 * (1-math.sqrt(a[x])) + light_1.vertex_2 * (math.sqrt(a[x])*(1-b[x])) + light_1.vertex_3 * (b[x]*math.sqrt(a[x]))\n",
    "    l1 = Light(source=tp1, material=source_mat)\n",
    "    light_sources.append(l1)\n",
    "    tp2 = light_2.vertex_1 * (1-math.sqrt(a[x])) + light_2.vertex_2 * (math.sqrt(a[x])*(1-b[x])) + light_2.vertex_3 * (b[x]*math.sqrt(a[x]))\n",
    "    l2 = Light(source=tp1, material=source_mat)\n",
    "    light_sources.append(l2)\n",
    "    print(tp1, tp2)\n",
    "\n",
    "light_sources"
   ],
   "metadata": {
    "collapsed": false,
    "pycharm": {
     "name": "#%%\n"
    }
   }
  },
  {
   "cell_type": "code",
   "execution_count": 9,
   "outputs": [
    {
     "data": {
      "text/plain": "numba.experimental.jitclass.boxing.Triangle"
     },
     "execution_count": 9,
     "metadata": {},
     "output_type": "execute_result"
    }
   ],
   "source": [
    "type(light_1)"
   ],
   "metadata": {
    "collapsed": false,
    "pycharm": {
     "name": "#%%\n"
    }
   }
  },
  {
   "cell_type": "code",
   "execution_count": 10,
   "outputs": [],
   "source": [
    "# append the light triangles\n",
    "objects.append(light_1)\n",
    "objects.append(light_2)"
   ],
   "metadata": {
    "collapsed": false,
    "pycharm": {
     "name": "#%%\n"
    }
   }
  },
  {
   "cell_type": "code",
   "execution_count": 11,
   "outputs": [
    {
     "data": {
      "text/plain": "array([-7., -7., -7.])"
     },
     "execution_count": 11,
     "metadata": {},
     "output_type": "execute_result"
    }
   ],
   "source": [
    "objects[6].vertex_3"
   ],
   "metadata": {
    "collapsed": false,
    "pycharm": {
     "name": "#%%\n"
    }
   }
  },
  {
   "cell_type": "code",
   "execution_count": 12,
   "outputs": [],
   "source": [
    "# setup scene\n",
    "\n",
    "#camera\n",
    "camera = np.array([0, 0, dimension+1], dtype=np.float64)\n",
    "\n",
    "#screen\n",
    "width=400\n",
    "height=400\n",
    "max_depth=3\n",
    "\n",
    "#scene\n",
    "scene = Scene(camera=camera, lights=light_sources, width=width, height=height, max_depth=max_depth)"
   ],
   "metadata": {
    "collapsed": false,
    "pycharm": {
     "name": "#%%\n"
    }
   }
  },
  {
   "cell_type": "code",
   "execution_count": 13,
   "outputs": [
    {
     "data": {
      "text/plain": "array([1., 0., 0.])"
     },
     "execution_count": 13,
     "metadata": {},
     "output_type": "execute_result"
    }
   ],
   "source": [
    "objects[7].normal"
   ],
   "metadata": {
    "collapsed": false,
    "pycharm": {
     "name": "#%%\n"
    }
   }
  },
  {
   "cell_type": "code",
   "execution_count": 14,
   "outputs": [
    {
     "data": {
      "text/plain": "[<numba.experimental.jitclass.boxing.Triangle at 0x184bdf4f130>,\n <numba.experimental.jitclass.boxing.Triangle at 0x184bd525630>,\n <numba.experimental.jitclass.boxing.Triangle at 0x184bd525cf0>,\n <numba.experimental.jitclass.boxing.Triangle at 0x184bd525990>,\n <numba.experimental.jitclass.boxing.Triangle at 0x184bd5255d0>,\n <numba.experimental.jitclass.boxing.Triangle at 0x184bd526e00>,\n <numba.experimental.jitclass.boxing.Triangle at 0x184bd526bc0>,\n <numba.experimental.jitclass.boxing.Triangle at 0x184bd5259c0>,\n <numba.experimental.jitclass.boxing.Triangle at 0x184bd526860>,\n <numba.experimental.jitclass.boxing.Triangle at 0x184bd526c20>,\n <numba.experimental.jitclass.boxing.Triangle at 0x184bf63ae30>,\n <numba.experimental.jitclass.boxing.Triangle at 0x184bf2b7a60>,\n <numba.experimental.jitclass.boxing.Triangle at 0x184c1933b20>,\n <numba.experimental.jitclass.boxing.Triangle at 0x184c1933af0>,\n <numba.experimental.jitclass.boxing.Triangle at 0x184c1933340>,\n <numba.experimental.jitclass.boxing.Triangle at 0x184c1932a70>,\n <numba.experimental.jitclass.boxing.Triangle at 0x184c1933c70>,\n <numba.experimental.jitclass.boxing.Triangle at 0x184c1933a30>,\n <numba.experimental.jitclass.boxing.Triangle at 0x184c1933b80>,\n <numba.experimental.jitclass.boxing.Triangle at 0x184bf4c0be0>,\n <numba.experimental.jitclass.boxing.Triangle at 0x184bf4c21a0>,\n <numba.experimental.jitclass.boxing.Triangle at 0x184bf4c2bf0>,\n <numba.experimental.jitclass.boxing.Triangle at 0x184bf4c1300>,\n <numba.experimental.jitclass.boxing.Triangle at 0x184bf4c0160>]"
     },
     "execution_count": 14,
     "metadata": {},
     "output_type": "execute_result"
    }
   ],
   "source": [
    "#setup loaded objects\n",
    "\n",
    "for face in obj_faces:\n",
    "    a,b,c = obj_vertices[face[0]],obj_vertices[face[1]],obj_vertices[face[2]]\n",
    "    obj_mat = Material(color=RED, shininess=100, reflection=0.9)\n",
    "    triangle = Triangle(vertex_1=np.asarray(a, dtype=np.float64),\n",
    "                        vertex_2=np.asarray(b, dtype=np.float64),\n",
    "                        vertex_3=np.asarray(c, dtype=np.float64),\n",
    "                        material=obj_mat)\n",
    "    objects.append(triangle)\n",
    "\n",
    "objects"
   ],
   "metadata": {
    "collapsed": false,
    "pycharm": {
     "name": "#%%\n"
    }
   }
  },
  {
   "cell_type": "code",
   "execution_count": 15,
   "outputs": [],
   "source": [
    "@numba.njit\n",
    "def render(scene, objects):\n",
    "    for i, y in enumerate(np.linspace(scene.top, scene.bottom, scene.height)):\n",
    "        for j, x in enumerate(np.linspace(scene.left, scene.right, scene.width)):\n",
    "            # screen is on origin\n",
    "            pixel = np.array([x, y, dimension], dtype=np.float64)\n",
    "            origin = scene.camera\n",
    "            end = pixel\n",
    "            direction = normalize(end - origin)\n",
    "\n",
    "            color = np.zeros((3), dtype=np.float64)\n",
    "            reflection = 1.0\n",
    "\n",
    "            for k in range(scene.max_depth):\n",
    "                # check for intersections\n",
    "                nearest_object, min_distance = nearest_intersected_object(objects, origin, end)\n",
    "\n",
    "                if nearest_object is None:\n",
    "                    break\n",
    "\n",
    "                intersection = origin + min_distance * direction\n",
    "\n",
    "                # if nearest_object.type == ShapeOptions.SPHERE.value:\n",
    "                #     normal_to_surface = normalize(intersection - nearest_object.center)\n",
    "                #     shifted_point = intersection + 1e-5 * normal_to_surface\n",
    "\n",
    "                if nearest_object.type == ShapeOptions.TRIANGLE.value:\n",
    "                    normal_to_surface = nearest_object.normal\n",
    "                    # if np.dot(direction, normal_to_surface)<=0:\n",
    "                    #     # surface facing wrong direction\n",
    "                    #     normal_to_surface = -normal_to_surface\n",
    "                    shifted_point = intersection\n",
    "\n",
    "                # elif nearest_object.type == ShapeOptions.PLANE.value:\n",
    "                #     normal_to_surface = normalize(nearest_object.normal)\n",
    "                #     shifted_point = intersection\n",
    "                else:\n",
    "                    break\n",
    "\n",
    "                # shifted_point = intersection + 1e-5 * normal_to_surface\n",
    "\n",
    "                shadow_counter = 0\n",
    "\n",
    "                for light in scene.lights:\n",
    "\n",
    "                    illumination = np.zeros((3), dtype=np.float64) # background color - black\n",
    "\n",
    "                    # ambient\n",
    "                    illumination += get_ambience(nearest_object.material.color.ambient, light.material.color.ambient)\n",
    "\n",
    "                    intersection_to_light = normalize(light.source - shifted_point)\n",
    "\n",
    "                    shadowing_object, min_distance = nearest_intersected_object(objects, shifted_point, light.source)\n",
    "\n",
    "                    intersection_to_light_distance = np.linalg.norm(light.source - intersection)\n",
    "                    is_shadowed = min_distance < intersection_to_light_distance\n",
    "\n",
    "                    if is_shadowed:\n",
    "                        shadow_counter+=1\n",
    "                        color += reflection * illumination # only ambient color\n",
    "                        continue\n",
    "\n",
    "                    # # ambient\n",
    "                    # illumination += get_ambience(nearest_object.material.color.ambient, light.material.color.ambient)\n",
    "\n",
    "                    # diffuse\n",
    "                    illumination += get_diffuse(nearest_object.material.color.diffuse, light.material.color.diffuse, intersection_to_light, normal_to_surface)\n",
    "\n",
    "                    # specular\n",
    "                    intersection_to_camera = normalize(camera - intersection)\n",
    "                    viewing_direction = normalize(intersection_to_light + intersection_to_camera)\n",
    "                    illumination += get_specular(nearest_object.material.color.specular, light.material.color.specular, viewing_direction, normal_to_surface, nearest_object.material.shininess)\n",
    "\n",
    "                    # compute color\n",
    "                    color += reflection * illumination\n",
    "\n",
    "                color = color/len(scene.lights)\n",
    "\n",
    "                # compute reflection\n",
    "                reflection *= nearest_object.material.reflection\n",
    "                origin = shifted_point\n",
    "                direction = reflected_ray(direction, normal_to_surface)\n",
    "\n",
    "            scene.image[i, j] = np.clip(color, 0, 1)\n",
    "        print(i+1)\n",
    "    return scene.image"
   ],
   "metadata": {
    "collapsed": false,
    "pycharm": {
     "name": "#%%\n"
    }
   }
  },
  {
   "cell_type": "code",
   "execution_count": 16,
   "outputs": [
    {
     "name": "stderr",
     "output_type": "stream",
     "text": [
      "C:\\Users\\dipanjan\\AppData\\Local\\Temp/ipykernel_6608/1529193266.py:16: NumbaPendingDeprecationWarning: \u001B[1m\u001B[1m\n",
      "Encountered the use of a type that is scheduled for deprecation: type 'reflected list' found for argument 'objects' of function 'nearest_intersected_object'.\n",
      "\n",
      "For more information visit https://numba.readthedocs.io/en/stable/reference/deprecation.html#deprecation-of-reflection-for-list-and-set-types\n",
      "\u001B[1m\n",
      "File \"..\\src\\utils.py\", line 9:\u001B[0m\n",
      "\u001B[1m@numba.njit\n",
      "\u001B[1mdef nearest_intersected_object(objects, ray_origin, ray_end):\n",
      "\u001B[0m\u001B[1m^\u001B[0m\u001B[0m\n",
      "\u001B[0m\u001B[0m\n",
      "  nearest_object, min_distance = nearest_intersected_object(objects, origin, end)\n",
      "C:\\Users\\dipanjan\\AppData\\Local\\Temp/ipykernel_6608/1529193266.py:16: NumbaPerformanceWarning: \u001B[1m\u001B[1m\u001B[1m\u001B[1m\u001B[1mnp.dot() is faster on contiguous arrays, called on (array(float64, 1d, C), array(float64, 1d, A))\u001B[0m\u001B[0m\u001B[0m\u001B[0m\u001B[0m\n",
      "  nearest_object, min_distance = nearest_intersected_object(objects, origin, end)\n",
      "C:\\Users\\dipanjan\\AppData\\Local\\Temp/ipykernel_6608/1529193266.py:53: NumbaPendingDeprecationWarning: \u001B[1m\u001B[1m\n",
      "Encountered the use of a type that is scheduled for deprecation: type 'reflected list' found for argument 'objects' of function 'nearest_intersected_object'.\n",
      "\n",
      "For more information visit https://numba.readthedocs.io/en/stable/reference/deprecation.html#deprecation-of-reflection-for-list-and-set-types\n",
      "\u001B[1m\n",
      "File \"..\\src\\utils.py\", line 9:\u001B[0m\n",
      "\u001B[1m@numba.njit\n",
      "\u001B[1mdef nearest_intersected_object(objects, ray_origin, ray_end):\n",
      "\u001B[0m\u001B[1m^\u001B[0m\u001B[0m\n",
      "\u001B[0m\u001B[0m\n",
      "  shadowing_object, min_distance = nearest_intersected_object(objects, shifted_point, light.source)\n",
      "C:\\Users\\dipanjan\\AppData\\Local\\Temp/ipykernel_6608/1529193266.py:72: NumbaPerformanceWarning: \u001B[1m\u001B[1m\u001B[1m\u001B[1mnp.dot() is faster on contiguous arrays, called on (array(float64, 1d, A), array(float64, 1d, C))\u001B[0m\u001B[0m\u001B[0m\u001B[0m\n",
      "  illumination += get_specular(nearest_object.material.color.specular, light.material.color.specular, viewing_direction, normal_to_surface, nearest_object.material.shininess)\n",
      "C:\\Users\\dipanjan\\Anaconda3\\envs\\dsenv\\lib\\site-packages\\numba\\core\\ir_utils.py:2152: NumbaPendingDeprecationWarning: \u001B[1m\n",
      "Encountered the use of a type that is scheduled for deprecation: type 'reflected list' found for argument 'objects' of function 'render'.\n",
      "\n",
      "For more information visit https://numba.readthedocs.io/en/stable/reference/deprecation.html#deprecation-of-reflection-for-list-and-set-types\n",
      "\u001B[1m\n",
      "File \"..\\..\\..\\..\\..\\..\\AppData\\Local\\Temp\\ipykernel_6608\\1529193266.py\", line 1:\u001B[0m\n",
      "\u001B[1m<source missing, REPL/exec in use?>\u001B[0m\n",
      "\u001B[0m\n",
      "  warnings.warn(NumbaPendingDeprecationWarning(msg, loc=loc))\n"
     ]
    },
    {
     "name": "stdout",
     "output_type": "stream",
     "text": [
      "1\n",
      "2\n",
      "3\n",
      "4\n",
      "5\n",
      "6\n",
      "7\n",
      "8\n",
      "9\n",
      "10\n",
      "11\n",
      "12\n",
      "13\n",
      "14\n",
      "15\n",
      "16\n",
      "17\n",
      "18\n",
      "19\n",
      "20\n",
      "21\n",
      "22\n",
      "23\n",
      "24\n",
      "25\n",
      "26\n",
      "27\n",
      "28\n",
      "29\n",
      "30\n",
      "31\n",
      "32\n",
      "33\n",
      "34\n",
      "35\n",
      "36\n",
      "37\n",
      "38\n",
      "39\n",
      "40\n",
      "41\n",
      "42\n",
      "43\n",
      "44\n",
      "45\n",
      "46\n",
      "47\n",
      "48\n",
      "49\n",
      "50\n",
      "51\n",
      "52\n",
      "53\n",
      "54\n",
      "55\n",
      "56\n",
      "57\n",
      "58\n",
      "59\n",
      "60\n",
      "61\n",
      "62\n",
      "63\n",
      "64\n",
      "65\n",
      "66\n",
      "67\n",
      "68\n",
      "69\n",
      "70\n",
      "71\n",
      "72\n",
      "73\n",
      "74\n",
      "75\n",
      "76\n",
      "77\n",
      "78\n",
      "79\n",
      "80\n",
      "81\n",
      "82\n",
      "83\n",
      "84\n",
      "85\n",
      "86\n",
      "87\n",
      "88\n",
      "89\n",
      "90\n",
      "91\n",
      "92\n",
      "93\n",
      "94\n",
      "95\n",
      "96\n",
      "97\n",
      "98\n",
      "99\n",
      "100\n",
      "101\n",
      "102\n",
      "103\n",
      "104\n",
      "105\n",
      "106\n",
      "107\n",
      "108\n",
      "109\n",
      "110\n",
      "111\n",
      "112\n",
      "113\n",
      "114\n",
      "115\n",
      "116\n",
      "117\n",
      "118\n",
      "119\n",
      "120\n",
      "121\n",
      "122\n",
      "123\n",
      "124\n",
      "125\n",
      "126\n",
      "127\n",
      "128\n",
      "129\n",
      "130\n",
      "131\n",
      "132\n",
      "133\n",
      "134\n",
      "135\n",
      "136\n",
      "137\n",
      "138\n",
      "139\n",
      "140\n",
      "141\n",
      "142\n",
      "143\n",
      "144\n",
      "145\n",
      "146\n",
      "147\n",
      "148\n",
      "149\n",
      "150\n",
      "151\n",
      "152\n",
      "153\n",
      "154\n",
      "155\n",
      "156\n",
      "157\n",
      "158\n",
      "159\n",
      "160\n",
      "161\n",
      "162\n",
      "163\n",
      "164\n",
      "165\n",
      "166\n",
      "167\n",
      "168\n",
      "169\n",
      "170\n",
      "171\n",
      "172\n",
      "173\n",
      "174\n",
      "175\n",
      "176\n",
      "177\n",
      "178\n",
      "179\n",
      "180\n",
      "181\n",
      "182\n",
      "183\n",
      "184\n",
      "185\n",
      "186\n",
      "187\n",
      "188\n",
      "189\n",
      "190\n",
      "191\n",
      "192\n",
      "193\n",
      "194\n",
      "195\n",
      "196\n",
      "197\n",
      "198\n",
      "199\n",
      "200\n",
      "201\n",
      "202\n",
      "203\n",
      "204\n",
      "205\n",
      "206\n",
      "207\n",
      "208\n",
      "209\n",
      "210\n",
      "211\n",
      "212\n",
      "213\n",
      "214\n",
      "215\n",
      "216\n",
      "217\n",
      "218\n",
      "219\n",
      "220\n",
      "221\n",
      "222\n",
      "223\n",
      "224\n",
      "225\n",
      "226\n",
      "227\n",
      "228\n",
      "229\n",
      "230\n",
      "231\n",
      "232\n",
      "233\n",
      "234\n",
      "235\n",
      "236\n",
      "237\n",
      "238\n",
      "239\n",
      "240\n",
      "241\n",
      "242\n",
      "243\n",
      "244\n",
      "245\n",
      "246\n",
      "247\n",
      "248\n",
      "249\n",
      "250\n",
      "251\n",
      "252\n",
      "253\n",
      "254\n",
      "255\n",
      "256\n",
      "257\n",
      "258\n",
      "259\n",
      "260\n",
      "261\n",
      "262\n",
      "263\n",
      "264\n",
      "265\n",
      "266\n",
      "267\n",
      "268\n",
      "269\n",
      "270\n",
      "271\n",
      "272\n",
      "273\n",
      "274\n",
      "275\n",
      "276\n",
      "277\n",
      "278\n",
      "279\n",
      "280\n",
      "281\n",
      "282\n",
      "283\n",
      "284\n",
      "285\n",
      "286\n",
      "287\n",
      "288\n",
      "289\n",
      "290\n",
      "291\n",
      "292\n",
      "293\n",
      "294\n",
      "295\n",
      "296\n",
      "297\n",
      "298\n",
      "299\n",
      "300\n",
      "301\n",
      "302\n",
      "303\n",
      "304\n",
      "305\n",
      "306\n",
      "307\n",
      "308\n",
      "309\n",
      "310\n",
      "311\n",
      "312\n",
      "313\n",
      "314\n",
      "315\n",
      "316\n",
      "317\n",
      "318\n",
      "319\n",
      "320\n",
      "321\n",
      "322\n",
      "323\n",
      "324\n",
      "325\n",
      "326\n",
      "327\n",
      "328\n",
      "329\n",
      "330\n",
      "331\n",
      "332\n",
      "333\n",
      "334\n",
      "335\n",
      "336\n",
      "337\n",
      "338\n",
      "339\n",
      "340\n",
      "341\n",
      "342\n",
      "343\n",
      "344\n",
      "345\n",
      "346\n",
      "347\n",
      "348\n",
      "349\n",
      "350\n",
      "351\n",
      "352\n",
      "353\n",
      "354\n",
      "355\n",
      "356\n",
      "357\n",
      "358\n",
      "359\n",
      "360\n",
      "361\n",
      "362\n",
      "363\n",
      "364\n",
      "365\n",
      "366\n",
      "367\n",
      "368\n",
      "369\n",
      "370\n",
      "371\n",
      "372\n",
      "373\n",
      "374\n",
      "375\n",
      "376\n",
      "377\n",
      "378\n",
      "379\n",
      "380\n",
      "381\n",
      "382\n",
      "383\n",
      "384\n",
      "385\n",
      "386\n",
      "387\n",
      "388\n",
      "389\n",
      "390\n",
      "391\n",
      "392\n",
      "393\n",
      "394\n",
      "395\n",
      "396\n",
      "397\n",
      "398\n",
      "399\n",
      "400\n",
      "Elapsed (with compilation) = 132.4125952720642\n"
     ]
    }
   ],
   "source": [
    "# DO NOT REPORT THIS... COMPILATION TIME IS INCLUDED IN THE EXECUTION TIME!\n",
    "start = time.time()\n",
    "image = render(scene, objects)\n",
    "end = time.time()\n",
    "print(\"Elapsed (with compilation) = %s\" % (end - start))"
   ],
   "metadata": {
    "collapsed": false,
    "pycharm": {
     "name": "#%%\n"
    }
   }
  },
  {
   "cell_type": "code",
   "execution_count": 17,
   "outputs": [
    {
     "data": {
      "text/plain": "<matplotlib.image.AxesImage at 0x184c19b7520>"
     },
     "execution_count": 17,
     "metadata": {},
     "output_type": "execute_result"
    },
    {
     "data": {
      "text/plain": "<Figure size 432x288 with 1 Axes>",
      "image/png": "[encoded data removed]"
     },
     "metadata": {
      "needs_background": "light"
     },
     "output_type": "display_data"
    }
   ],
   "source": [
    "plt.imshow(image)"
   ],
   "metadata": {
    "collapsed": false,
    "pycharm": {
     "name": "#%%\n"
    }
   }
  },
  {
   "cell_type": "code",
   "execution_count": null,
   "outputs": [],
   "source": [
    "# NOW THE FUNCTION IS COMPILED, RE-TIME IT EXECUTING FROM CACHE\n",
    "start = time.time()\n",
    "image = render(scene, objects)\n",
    "end = time.time()\n",
    "print(\"Elapsed (after compilation) = %s\" % (end - start))"
   ],
   "metadata": {
    "collapsed": false,
    "pycharm": {
     "name": "#%%\n"
    }
   }
  },
  {
   "cell_type": "code",
   "execution_count": null,
   "outputs": [],
   "source": [
    "plt.imshow(image)"
   ],
   "metadata": {
    "collapsed": false,
    "pycharm": {
     "name": "#%%\n"
    }
   }
  },
  {
   "cell_type": "code",
   "execution_count": null,
   "outputs": [],
   "source": [
    "illumination = np.zeros((3), dtype=np.float64)\n",
    "illumination/5"
   ],
   "metadata": {
    "collapsed": false,
    "pycharm": {
     "name": "#%%\n"
    }
   }
  },
  {
   "cell_type": "code",
   "execution_count": null,
   "outputs": [],
   "source": [
    "objects = []\n",
    "\n",
    "wall_mat1 = Material(color=silver, shininess=89.6, reflection=0.5)\n",
    "back_wall = Plane(point=np.array([0.0, 0.0, -4.0], dtype=np.float64),\n",
    "                  normal=np.array([0.0, 0.0, 1.0], dtype=np.float64),\n",
    "                  material=wall_mat1)\n",
    "objects.append(back_wall)\n",
    "\n",
    "top_wall = Plane(point=np.array([0.0, 4.0, 0.0], dtype=np.float64),\n",
    "                 normal=np.array([0.0, -1.0, 0.0], dtype=np.float64),\n",
    "                 material=wall_mat1)\n",
    "objects.append(top_wall)\n",
    "\n",
    "bottom_wall = Plane(point=np.array([0.0, -4.0, 0.0], dtype=np.float64),\n",
    "                    normal=np.array([0.0, 1.0, 0.0], dtype=np.float64),\n",
    "                    material=wall_mat1)\n",
    "objects.append(bottom_wall)\n",
    "\n",
    "wall_mat2 = Material(color=maroon, shininess=100, reflection=0.5)\n",
    "left_wall = Plane(point=np.array([-4.0, 0.0, 0.0], dtype=np.float64),\n",
    "                  normal=np.array([1.0, 0.0, 0.0], dtype=np.float64),\n",
    "                  material=wall_mat2)\n",
    "objects.append(left_wall)\n",
    "\n",
    "wall_mat3 = Material(color=green, shininess=100, reflection=0.5)\n",
    "right_wall = Plane(point=np.array([4.0, 0.0, 0.0], dtype=np.float64),\n",
    "                   normal=np.array([-1.0, 0.0, 0.0], dtype=np.float64),\n",
    "                   material=wall_mat3)\n",
    "objects.append(right_wall)\n",
    "\n",
    "objects"
   ],
   "metadata": {
    "collapsed": false,
    "pycharm": {
     "name": "#%%\n"
    }
   }
  },
  {
   "cell_type": "code",
   "execution_count": null,
   "outputs": [],
   "source": [
    "plt.imshow(image)"
   ],
   "metadata": {
    "collapsed": false,
    "pycharm": {
     "name": "#%%\n"
    }
   }
  },
  {
   "cell_type": "code",
   "execution_count": null,
   "outputs": [],
   "source": [
    "objects = []\n",
    "\n",
    "wall_mat1 = Material(color=silver, shininess=89.6, reflection=0.5)\n",
    "\n",
    "back_wall_1 = Triangle(vertex_1=np.array([-4.0, 4.0, -4.0]),\n",
    "                       vertex_2=np.array([-4.0, -4.0, -4.0]),\n",
    "                       vertex_3=np.array([4.0, -4.0, -4.0]),\n",
    "                       material=wall_mat1)\n",
    "\n",
    "objects.append(back_wall_1)\n",
    "\n",
    "back_wall_2 = Triangle(vertex_1=np.array([-4.0, 4.0, -4.0]),\n",
    "                       vertex_2=np.array([4.0, -4.0, -4.0]),\n",
    "                       vertex_3=np.array([4.0, 4.0, -4.0]),\n",
    "                       material=wall_mat1)\n",
    "\n",
    "objects.append(back_wall_2)\n",
    "\n",
    "top_wall_1 = Triangle(vertex_1=np.array([-4.0, 4.0, -4.0]),\n",
    "                      vertex_2=np.array([4.0, 4.0, 4.0]),\n",
    "                      vertex_3=np.array([-4.0, 4.0, 4.0]),\n",
    "                      material=wall_mat1)\n",
    "\n",
    "objects.append(top_wall_1)\n",
    "\n",
    "top_wall_2 = Triangle(vertex_1=np.array([4.0, 4.0, 4.0]),\n",
    "                      vertex_2=np.array([-4.0, 4.0, -4.0]),\n",
    "                      vertex_3=np.array([4.0, 4.0, -4.0]),\n",
    "                      material=wall_mat1)\n",
    "\n",
    "objects.append(top_wall_2)\n",
    "\n",
    "bottom_wall_1 = Triangle(vertex_1=np.array([-4.0, -4.0, -4.0]),\n",
    "                         vertex_2=np.array([-4.0, -4.0, 4.0]),\n",
    "                         vertex_3=np.array([4.0, -4.0, 4.0]),\n",
    "                         material=wall_mat1)\n",
    "\n",
    "objects.append(bottom_wall_1)\n",
    "\n",
    "bottom_wall_2 = Triangle(vertex_1=np.array([-4.0, -4.0, -4.0]),\n",
    "                         vertex_2=np.array([4.0, -4.0, 4.0]),\n",
    "                         vertex_3=np.array([4.0, -4.0, -4.0]),\n",
    "                         material=wall_mat1)\n",
    "\n",
    "objects.append(bottom_wall_2)\n",
    "\n",
    "wall_mat2 = Material(color=maroon, shininess=100, reflection=0.5)\n",
    "\n",
    "left_wall_1 = Triangle(vertex_1=np.array([-4.0, 4.0, -4.0]),\n",
    "                       vertex_2=np.array([-4.0, 4.0, 4.0]),\n",
    "                       vertex_3=np.array([-4.0, -4.0, -4.0]),\n",
    "                       material=wall_mat2)\n",
    "\n",
    "objects.append(left_wall_1)\n",
    "\n",
    "left_wall_2 = Triangle(vertex_1=np.array([-4.0, -4.0, -4.0]),\n",
    "                       vertex_2=np.array([-4.0, 4.0, 4.0]),\n",
    "                       vertex_3=np.array([-4.0, -4.0, 4.0]),\n",
    "                       material=wall_mat2)\n",
    "\n",
    "objects.append(left_wall_2)\n",
    "\n",
    "\n",
    "wall_mat3 = Material(color=green, shininess=100, reflection=0.5)\n",
    "\n",
    "right_wall_1 = Triangle(vertex_1=np.array([4.0, -4.0, -4.0]),\n",
    "                        vertex_2=np.array([4.0, -4.0, 4.0]),\n",
    "                        vertex_3=np.array([4.0, 4.0, 4.0]),\n",
    "                        material=wall_mat3)\n",
    "\n",
    "objects.append(right_wall_1)\n",
    "\n",
    "right_wall_2 = Triangle(vertex_1=np.array([4.0, 4.0, -4.0]),\n",
    "                        vertex_2=np.array([4.0, -4.0, -4.0]),\n",
    "                        vertex_3=np.array([4.0, 4.0, 4.0]),\n",
    "                        material=wall_mat3)\n",
    "\n",
    "objects.append(right_wall_2)\n",
    "\n",
    "objects"
   ],
   "metadata": {
    "collapsed": false,
    "pycharm": {
     "name": "#%%\n"
    }
   }
  },
  {
   "cell_type": "code",
   "execution_count": null,
   "outputs": [],
   "source": [
    "dim = 1\n",
    "vertex_1=np.array([-dim, dim, -dim], dtype=np.float64)\n",
    "vertex_2=np.array([dim, -dim, -dim], dtype=np.float64)\n",
    "vertex_3=np.array([-dim, -dim, -dim], dtype=np.float64)\n",
    "\n",
    "(vertex_1[0]+vertex_2[0]+vertex_3[0])/3"
   ],
   "metadata": {
    "collapsed": false,
    "pycharm": {
     "name": "#%%\n"
    }
   }
  },
  {
   "cell_type": "code",
   "execution_count": null,
   "outputs": [],
   "source": [],
   "metadata": {
    "collapsed": false,
    "pycharm": {
     "name": "#%%\n"
    }
   }
  }
 ],
 "metadata": {
  "kernelspec": {
   "display_name": "Python 3",
   "language": "python",
   "name": "python3"
  },
  "language_info": {
   "codemirror_mode": {
    "name": "ipython",
    "version": 2
   },
   "file_extension": ".py",
   "mimetype": "text/x-python",
   "name": "python",
   "nbconvert_exporter": "python",
   "pygments_lexer": "ipython2",
   "version": "2.7.6"
  }
 },
 "nbformat": 4,
 "nbformat_minor": 0
}