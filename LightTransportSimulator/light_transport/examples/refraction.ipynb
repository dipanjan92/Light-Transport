{
 "cells": [
  {
   "cell_type": "code",
   "execution_count": 1,
   "metadata": {
    "collapsed": true
   },
   "outputs": [],
   "source": [
    "import numba\n",
    "%matplotlib inline\n",
    "import numpy as np\n",
    "import matplotlib.pyplot as plt\n",
    "import pywavefront\n",
    "import os\n",
    "from pathlib import Path\n",
    "import time\n",
    "import numba\n",
    "import math\n",
    "import pyvista as pv"
   ]
  },
  {
   "cell_type": "code",
   "execution_count": 2,
   "outputs": [],
   "source": [
    "from LightTransportSimulator.light_transport.src.vectors import *"
   ],
   "metadata": {
    "collapsed": false,
    "pycharm": {
     "name": "#%%\n"
    }
   }
  },
  {
   "cell_type": "code",
   "execution_count": 3,
   "outputs": [],
   "source": [
    "from LightTransportSimulator.light_transport.src.scene import Scene, Light\n",
    "from LightTransportSimulator.light_transport.src.primitives import Triangle, PreComputedTriangle\n",
    "from LightTransportSimulator.light_transport.src.cornell_box import get_cornell_box, get_floor\n",
    "from LightTransportSimulator.light_transport.examples.obj.glass import design_glass\n",
    "from LightTransportSimulator.light_transport.src.colors import *\n",
    "from LightTransportSimulator.light_transport.src.render import render_scene"
   ],
   "metadata": {
    "collapsed": false,
    "pycharm": {
     "name": "#%%\n"
    }
   }
  },
  {
   "cell_type": "code",
   "execution_count": 4,
   "outputs": [],
   "source": [
    "# get object\n",
    "objects = numba.typed.List()\n",
    "start_id = 0\n",
    "triangles, points = design_glass(start_id)\n",
    "points = np.ascontiguousarray(points)"
   ],
   "metadata": {
    "collapsed": false,
    "pycharm": {
     "name": "#%%\n"
    }
   }
  },
  {
   "cell_type": "code",
   "execution_count": 5,
   "outputs": [
    {
     "data": {
      "text/plain": "(7.0, 12.5, 7.0, 27.5)"
     },
     "execution_count": 5,
     "metadata": {},
     "output_type": "execute_result"
    }
   ],
   "source": [
    "#set scene depths\n",
    "\n",
    "xmax, ymax, zmax = points.max(axis=0)\n",
    "xmin, ymin, zmin = points.min(axis=0)\n",
    "\n",
    "padding = 15\n",
    "depth = abs(max(xmax, ymax, zmax)) + padding\n",
    "x_depth = abs(xmax) + 10\n",
    "y_depth = abs(ymax) + 1\n",
    "z_depth = abs(zmax) + 10\n",
    "xmax, ymax, zmax, depth"
   ],
   "metadata": {
    "collapsed": false,
    "pycharm": {
     "name": "#%%\n"
    }
   }
  },
  {
   "cell_type": "code",
   "execution_count": 6,
   "outputs": [
    {
     "data": {
      "text/plain": "ListType[instance.jitclass.PreComputedTriangle#27810e88dc0<type:int64,id:int64,vertex_1:array(float64, 1d, C),vertex_2:array(float64, 1d, C),vertex_3:array(float64, 1d, C),centroid:array(float64, 1d, C),material:instance.jitclass.Material#278135ca4a0<color:instance.jitclass.Color#278135c8bb0<ambient:array(float64, 1d, A),diffuse:array(float64, 1d, A),specular:array(float64, 1d, A)>,shininess:float64,reflection:float64,ior:float64,is_mirror:bool,transmission:float64>,is_light:bool,edge_1:array(float64, 1d, C),edge_2:array(float64, 1d, C),normal:array(float64, 1d, C),num:float64,transformation:array(float64, 2d, A)>]([<numba.experimental.jitclass.boxing.PreComputedTriangle object at 0x0000027817FD3160>, <numba.experimental.jitclass.boxing.PreComputedTriangle object at 0x0000027817FD3E20>, <numba.experimental.jitclass.boxing.PreComputedTriangle object at 0x0000027817FD3160>, <numba.experimental.jitclass.boxing.PreComputedTriangle object at 0x0000027817FD3E20>, <numba.experimental.jitclass.boxing.PreComputedTriangle object at 0x0000027817FD3160>, <numba.experimental.jitclass.boxing.PreComputedTriangle object at 0x0000027817FD3E20>, <numba.experimental.jitclass.boxing.PreComputedTriangle object at 0x0000027817FD3160>, <numba.experimental.jitclass.boxing.PreComputedTriangle object at 0x0000027817FD3E20>, <numba.experimental.jitclass.boxing.PreComputedTriangle object at 0x0000027817FD3160>, <numba.experimental.jitclass.boxing.PreComputedTriangle object at 0x0000027817FD3E20>, <numba.experimental.jitclass.boxing.PreComputedTriangle object at 0x0000027817FD3160>, <numba.experimental.jitclass.boxing.PreComputedTriangle object at 0x0000027817FD3E20>, <numba.experimental.jitclass.boxing.PreComputedTriangle object at 0x0000027817FD3160>, <numba.experimental.jitclass.boxing.PreComputedTriangle object at 0x0000027817FD3E20>, <numba.experimental.jitclass.boxing.PreComputedTriangle object at 0x0000027817FD3160>, <numba.experimental.jitclass.boxing.PreComputedTriangle object at 0x0000027817FD3E20>, ...])"
     },
     "execution_count": 6,
     "metadata": {},
     "output_type": "execute_result"
    }
   ],
   "source": [
    "#setup cornell box\n",
    "\n",
    "surface_color = WHITE_2\n",
    "left_wall_color = RED\n",
    "right_wall_color = GREEN\n",
    "\n",
    "surface_mat = Material(color=surface_color, shininess=90, reflection=0.1, ior=1.5210, transmission=0.1) # calcium sulphate\n",
    "left_wall_mat = Material(color=left_wall_color, shininess=90, reflection=0.1, ior=1.5210, transmission=0.1)\n",
    "right_wall_mat = Material(color=right_wall_color, shininess=90, reflection=0.1, ior=1.5210, transmission=0.1)\n",
    "\n",
    "start_id = len(triangles)\n",
    "# objects = get_floor(x_depth, y_depth, z_depth, surface_mat, start_id)\n",
    "objects = get_cornell_box(depth, surface_mat, left_wall_mat, right_wall_mat, start_id)\n",
    "\n",
    "xmin, ymin, zmin = -depth, -depth, depth\n",
    "xmax, ymax, zmax = depth, depth, -depth\n",
    "\n",
    "objects"
   ],
   "metadata": {
    "collapsed": false,
    "pycharm": {
     "name": "#%%\n"
    }
   }
  },
  {
   "cell_type": "code",
   "execution_count": 7,
   "outputs": [
    {
     "data": {
      "text/plain": "(2576, 17)"
     },
     "execution_count": 7,
     "metadata": {},
     "output_type": "execute_result"
    }
   ],
   "source": [
    "#setup loaded objects\n",
    "\n",
    "id = len(objects)+1\n",
    "for t in triangles:\n",
    "    objects.append(t)\n",
    "\n",
    "len(objects), id"
   ],
   "metadata": {
    "collapsed": false,
    "pycharm": {
     "name": "#%%\n"
    }
   }
  },
  {
   "cell_type": "code",
   "execution_count": 35,
   "outputs": [
    {
     "name": "stdout",
     "output_type": "stream",
     "text": [
      "[ 0.40308106 27.6         0.5725146   1.        ] [-0.40308106 27.6        -0.5725146   1.        ]\n"
     ]
    },
    {
     "data": {
      "text/plain": "ListType[instance.jitclass.Light#253ea7e0d00<source:array(float64, 1d, A),material:instance.jitclass.Material#253ee6898a0<color:instance.jitclass.Color#253ee647430<ambient:array(float64, 1d, A),diffuse:array(float64, 1d, A),specular:array(float64, 1d, A)>,shininess:float64,reflection:float64,ior:float64,is_mirror:bool,transmission:float64>>]([<numba.experimental.jitclass.boxing.Light object at 0x00000253F30C3580>, <numba.experimental.jitclass.boxing.Light object at 0x00000253F30C2D70>, ...])"
     },
     "execution_count": 35,
     "metadata": {},
     "output_type": "execute_result"
    }
   ],
   "source": [
    "# global light source\n",
    "\n",
    "source_mat = Material(color=WHITE, shininess=1, reflection=0.9, ior=1.5)\n",
    "\n",
    "l_x = 1\n",
    "l_y = depth+0.1\n",
    "l_z = 1\n",
    "\n",
    "id = len(objects)+1\n",
    "\n",
    "light_1 = PreComputedTriangle(id=id,\n",
    "                   vertex_1=np.array([-l_x, l_y, -l_z, 1], dtype=np.float64),\n",
    "                   vertex_2=np.array([l_x, l_y, l_z, 1], dtype=np.float64),\n",
    "                   vertex_3=np.array([-l_x, l_y, l_z, 1], dtype=np.float64),\n",
    "                   material=source_mat,\n",
    "                   is_light=True)\n",
    "id += 1\n",
    "\n",
    "light_2 = PreComputedTriangle(id=id,\n",
    "                   vertex_1=np.array([l_x, l_y, l_z, 1], dtype=np.float64),\n",
    "                   vertex_2=np.array([-l_x, l_y, -l_z, 1], dtype=np.float64),\n",
    "                   vertex_3=np.array([l_x, l_y, -l_z, 1], dtype=np.float64),\n",
    "                   material=source_mat,\n",
    "                   is_light=True)\n",
    "\n",
    "\n",
    "light_samples = 1\n",
    "a = np.random.uniform(0,1,light_samples)\n",
    "b = np.random.uniform(1,0,light_samples)\n",
    "\n",
    "light_sources = numba.typed.List()\n",
    "\n",
    "for x in range(light_samples):\n",
    "    tp1 = light_1.vertex_1 * (1-math.sqrt(a[x])) + light_1.vertex_2 * (math.sqrt(a[x])*(1-b[x])) + light_1.vertex_3 * (b[x]*math.sqrt(a[x]))\n",
    "    l1 = Light(source=tp1, material=source_mat)\n",
    "    light_sources.append(l1)\n",
    "    tp2 = light_2.vertex_1 * (1-math.sqrt(a[x])) + light_2.vertex_2 * (math.sqrt(a[x])*(1-b[x])) + light_2.vertex_3 * (b[x]*math.sqrt(a[x]))\n",
    "    l2 = Light(source=tp1, material=source_mat)\n",
    "    light_sources.append(l2)\n",
    "    print(tp1, tp2)\n",
    "\n",
    "light_sources"
   ],
   "metadata": {
    "collapsed": false,
    "pycharm": {
     "name": "#%%\n"
    }
   }
  },
  {
   "cell_type": "code",
   "execution_count": 36,
   "outputs": [],
   "source": [
    "objects.append(light_1)\n",
    "objects.append(light_2)"
   ],
   "metadata": {
    "collapsed": false,
    "pycharm": {
     "name": "#%%\n"
    }
   }
  },
  {
   "cell_type": "code",
   "execution_count": 8,
   "outputs": [],
   "source": [
    "# point source\n",
    "light_sources = numba.typed.List()\n",
    "source_mat = Material(color=WHITE, shininess=1, reflection=0.9, ior=1.5)\n",
    "l1 = Light(source=np.array([3, 5, 3, 1], dtype=np.float64), material=source_mat)\n",
    "light_sources.append(l1)"
   ],
   "metadata": {
    "collapsed": false,
    "pycharm": {
     "name": "#%%\n"
    }
   }
  },
  {
   "cell_type": "code",
   "execution_count": 9,
   "outputs": [],
   "source": [
    "# setup scene\n",
    "\n",
    "#camera\n",
    "camera = np.array([0, 0, depth+0.5, 1], dtype=np.float64)\n",
    "\n",
    "#screen\n",
    "width=100\n",
    "height=100\n",
    "max_depth=3\n",
    "\n",
    "#scene\n",
    "scene = Scene(camera=camera, lights=light_sources, width=width, height=height, max_depth=max_depth, depth=depth)"
   ],
   "metadata": {
    "collapsed": false,
    "pycharm": {
     "name": "#%%\n"
    }
   }
  },
  {
   "cell_type": "code",
   "execution_count": 10,
   "outputs": [
    {
     "data": {
      "text/plain": "<numba.experimental.jitclass.boxing.AABB at 0x27819179090>"
     },
     "execution_count": 10,
     "metadata": {},
     "output_type": "execute_result"
    }
   ],
   "source": [
    "from LightTransportSimulator.light_transport.src.primitives import AABB\n",
    "# min_point=np.array([scene.left, scene.bottom, -scene.depth], dtype=np.float64)\n",
    "# max_point=np.array([scene.right, scene.top, scene.depth], dtype=np.float64)\n",
    "min_point=np.array([xmin, ymin, zmin], dtype=np.float64)\n",
    "max_point=np.array([xmax, ymax, zmax], dtype=np.float64)\n",
    "box = AABB(min_point=min_point, max_point=max_point)\n",
    "box"
   ],
   "metadata": {
    "collapsed": false,
    "pycharm": {
     "name": "#%%\n"
    }
   }
  },
  {
   "cell_type": "code",
   "execution_count": 11,
   "outputs": [],
   "source": [
    "from LightTransportSimulator.light_transport.src.bvh import BVH\n",
    "\n",
    "bvh = BVH()\n",
    "bvh.insert(objects, box)"
   ],
   "metadata": {
    "collapsed": false,
    "pycharm": {
     "name": "#%%\n"
    }
   }
  },
  {
   "cell_type": "code",
   "execution_count": 12,
   "outputs": [
    {
     "name": "stdout",
     "output_type": "stream",
     "text": [
      "1\n",
      "2\n",
      "3\n",
      "4\n",
      "5\n",
      "6\n",
      "7\n",
      "8\n",
      "9\n",
      "10\n",
      "11\n",
      "12\n",
      "13\n",
      "14\n",
      "15\n",
      "16\n",
      "17\n",
      "18\n",
      "19\n",
      "20\n",
      "21\n",
      "22\n",
      "23\n",
      "24\n",
      "25\n",
      "26\n",
      "27\n",
      "28\n",
      "29\n",
      "30\n",
      "31\n",
      "32\n",
      "33\n",
      "34\n",
      "35\n",
      "36\n",
      "37\n",
      "38\n",
      "39\n",
      "40\n",
      "41\n",
      "42\n",
      "43\n",
      "44\n",
      "45\n",
      "46\n",
      "47\n",
      "48\n",
      "49\n",
      "50\n",
      "51\n",
      "52\n",
      "53\n",
      "54\n",
      "55\n",
      "56\n",
      "57\n",
      "58\n",
      "59\n",
      "60\n",
      "61\n",
      "62\n",
      "63\n",
      "64\n",
      "65\n",
      "66\n",
      "67\n",
      "68\n",
      "69\n",
      "70\n",
      "71\n",
      "72\n",
      "73\n",
      "74\n",
      "75\n",
      "76\n",
      "77\n",
      "78\n",
      "79\n",
      "80\n",
      "81\n",
      "82\n",
      "83\n",
      "84\n",
      "85\n",
      "86\n",
      "87\n",
      "88\n",
      "89\n",
      "90\n",
      "91\n",
      "92\n",
      "93\n",
      "94\n",
      "95\n",
      "96\n",
      "97\n",
      "98\n",
      "99\n",
      "100\n",
      "Elapsed (with compilation) = 873.2635717391968\n"
     ]
    }
   ],
   "source": [
    "# DO NOT REPORT THIS... COMPILATION TIME IS INCLUDED IN THE EXECUTION TIME!\n",
    "start = time.time()\n",
    "image = render_scene(scene, bvh.top)\n",
    "end = time.time()\n",
    "print(\"Elapsed (with compilation) = %s\" % (end - start))"
   ],
   "metadata": {
    "collapsed": false,
    "pycharm": {
     "name": "#%%\n"
    }
   }
  },
  {
   "cell_type": "code",
   "execution_count": 13,
   "outputs": [
    {
     "data": {
      "text/plain": "<matplotlib.image.AxesImage at 0x27817c8e440>"
     },
     "execution_count": 13,
     "metadata": {},
     "output_type": "execute_result"
    },
    {
     "data": {
      "text/plain": "<Figure size 432x288 with 1 Axes>",
      "image/png": "[encoded data removed]"
     },
     "metadata": {
      "needs_background": "light"
     },
     "output_type": "display_data"
    }
   ],
   "source": [
    "plt.imshow(image)"
   ],
   "metadata": {
    "collapsed": false,
    "pycharm": {
     "name": "#%%\n"
    }
   }
  },
  {
   "cell_type": "code",
   "execution_count": null,
   "outputs": [],
   "source": [],
   "metadata": {
    "collapsed": false,
    "pycharm": {
     "name": "#%%\n"
    }
   }
  }
 ],
 "metadata": {
  "kernelspec": {
   "display_name": "Python 3",
   "language": "python",
   "name": "python3"
  },
  "language_info": {
   "codemirror_mode": {
    "name": "ipython",
    "version": 2
   },
   "file_extension": ".py",
   "mimetype": "text/x-python",
   "name": "python",
   "nbconvert_exporter": "python",
   "pygments_lexer": "ipython2",
   "version": "2.7.6"
  }
 },
 "nbformat": 4,
 "nbformat_minor": 0
}