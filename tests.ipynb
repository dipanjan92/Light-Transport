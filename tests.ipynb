{
 "cells": [
  {
   "cell_type": "code",
   "execution_count": 1,
   "outputs": [
    {
     "name": "stdout",
     "output_type": "stream",
     "text": [
      "Intersection result: Intersection(t=10000000000.0, prim_index=-1)\n"
     ]
    }
   ],
   "source": [
    "# bvh_jax.py\n",
    "import jax\n",
    "import jax.numpy as jnp\n",
    "from dataclasses import dataclass\n",
    "from typing import Any, List\n",
    "\n",
    "# =============================================================================\n",
    "# Constants\n",
    "# =============================================================================\n",
    "INF = 1e10\n",
    "EPSILON = 1e-6\n",
    "\n",
    "# =============================================================================\n",
    "# AABB and Utility Functions (from your aabb.py)\n",
    "# =============================================================================\n",
    "@dataclass(frozen=True)\n",
    "class AABB:\n",
    "    min_point: jnp.ndarray  #: shape (3,)\n",
    "    max_point: jnp.ndarray  #: shape (3,)\n",
    "    centroid: jnp.ndarray   #: shape (3,)\n",
    "\n",
    "def update_centroid(aabb: AABB) -> AABB:\n",
    "    new_centroid = (aabb.min_point + aabb.max_point) * 0.5\n",
    "    return AABB(aabb.min_point, aabb.max_point, new_centroid)\n",
    "\n",
    "def union(aabb1: AABB, aabb2: AABB) -> AABB:\n",
    "    new_min = jnp.minimum(aabb1.min_point, aabb2.min_point)\n",
    "    new_max = jnp.maximum(aabb1.max_point, aabb2.max_point)\n",
    "    return AABB(new_min, new_max, (new_min + new_max) * 0.5)\n",
    "\n",
    "def union_p(aabb: AABB, point: jnp.ndarray) -> AABB:\n",
    "    new_min = jnp.minimum(aabb.min_point, point)\n",
    "    new_max = jnp.maximum(aabb.max_point, point)\n",
    "    return AABB(new_min, new_max, (new_min + new_max) * 0.5)\n",
    "\n",
    "def get_surface_area(aabb: AABB) -> float:\n",
    "    diag = aabb.max_point - aabb.min_point\n",
    "    return 2.0 * (diag[0] * diag[1] + diag[0] * diag[2] + diag[1] * diag[2])\n",
    "\n",
    "def get_largest_dim(aabb: AABB) -> int:\n",
    "    extents = aabb.max_point - aabb.min_point\n",
    "    return int(jnp.argmax(extents))\n",
    "\n",
    "# A simple (Python) ray–AABB intersection using the “slab” method.\n",
    "def aabb_intersect(aabb: AABB, ray_origin: jnp.ndarray, ray_direction: jnp.ndarray) -> bool:\n",
    "    inv_dir = 1.0 / ray_direction\n",
    "    t1 = (aabb.min_point - ray_origin) * inv_dir\n",
    "    t2 = (aabb.max_point - ray_origin) * inv_dir\n",
    "    # Compute the entry and exit times along each axis.\n",
    "    tmin = jnp.maximum(jnp.minimum(t1, t2)[0],\n",
    "                       jnp.maximum(jnp.minimum(t1, t2)[1],\n",
    "                                jnp.minimum(t1, t2)[2]))\n",
    "    tmax = jnp.minimum(jnp.maximum(t1, t2)[0],\n",
    "                       jnp.minimum(jnp.maximum(t1, t2)[1],\n",
    "                                jnp.maximum(t1, t2)[2]))\n",
    "    return (tmax >= tmin) and (tmax > 0.0)\n",
    "\n",
    "# =============================================================================\n",
    "# BVH Data Structures\n",
    "# =============================================================================\n",
    "# This structure pairs a triangle’s AABB with its (integer) primitive index.\n",
    "@dataclass(frozen=True)\n",
    "class BVHPrimitive:\n",
    "    bounds: AABB\n",
    "    prim_index: int\n",
    "\n",
    "# BVHNode is a binary tree node (either a leaf or interior node)\n",
    "@dataclass\n",
    "class BVHNode:\n",
    "    bounds: AABB\n",
    "    left: Any = None   # type: BVHNode or None\n",
    "    right: Any = None  # type: BVHNode or None\n",
    "    leaf: bool = False\n",
    "    prim_indices: jnp.ndarray = None  # 1D int32 array of triangle indices\n",
    "    split_axis: int = -1\n",
    "\n",
    "# LinearBVHNode is used when “flattening” the tree (optional)\n",
    "@dataclass\n",
    "class LinearBVHNode:\n",
    "    bounds: AABB\n",
    "    primitives_offset: int  # offset into a separate array of primitive indices\n",
    "    n_primitives: int\n",
    "    second_child_offset: int\n",
    "    axis: int\n",
    "\n",
    "# =============================================================================\n",
    "# BVH Building (recursive, median–split)\n",
    "# =============================================================================\n",
    "def build_bvh(primitives: List[BVHPrimitive], max_prims_in_node: int = 4) -> BVHNode:\n",
    "    \"\"\"\n",
    "    Recursively builds a BVH from a list of BVHPrimitive.\n",
    "\n",
    "    Uses a median split along the largest axis of the centroid bounds.\n",
    "    \"\"\"\n",
    "    n = len(primitives)\n",
    "    if n == 0:\n",
    "        # Should not occur; return a dummy node.\n",
    "        dummy = AABB(jnp.array([0.0, 0.0, 0.0]),\n",
    "                     jnp.array([0.0, 0.0, 0.0]),\n",
    "                     jnp.array([0.0, 0.0, 0.0]))\n",
    "        return BVHNode(bounds=dummy, leaf=True, prim_indices=jnp.array([], dtype=jnp.int32))\n",
    "\n",
    "    # Compute the overall bounding box.\n",
    "    bounds = primitives[0].bounds\n",
    "    for prim in primitives[1:]:\n",
    "        bounds = union(bounds, prim.bounds)\n",
    "\n",
    "    if n <= max_prims_in_node:\n",
    "        # Create a leaf node: record the triangle indices.\n",
    "        prim_indices = jnp.array([prim.prim_index for prim in primitives], dtype=jnp.int32)\n",
    "        return BVHNode(bounds=bounds, leaf=True, prim_indices=prim_indices)\n",
    "    else:\n",
    "        # Compute the bounding box of all centroids.\n",
    "        centroid_bounds = primitives[0].bounds\n",
    "        for prim in primitives[1:]:\n",
    "            centroid_bounds = union_p(centroid_bounds, prim.bounds.centroid)\n",
    "        axis = get_largest_dim(centroid_bounds)\n",
    "\n",
    "        # Sort primitives along the chosen axis (using Python’s sorted, which is fine offline)\n",
    "        sorted_prims = sorted(primitives, key=lambda p: float(p.bounds.centroid[axis]))\n",
    "        mid = n // 2\n",
    "        left_prims = sorted_prims[:mid]\n",
    "        right_prims = sorted_prims[mid:]\n",
    "\n",
    "        left_node = build_bvh(left_prims, max_prims_in_node)\n",
    "        right_node = build_bvh(right_prims, max_prims_in_node)\n",
    "        node_bounds = union(left_node.bounds, right_node.bounds)\n",
    "        return BVHNode(bounds=node_bounds, left=left_node, right=right_node,\n",
    "                       leaf=False, split_axis=axis)\n",
    "\n",
    "# Optionally, you can “flatten” the BVH tree into a linear array (used for iterative traversal)\n",
    "def flatten_bvh(node: BVHNode, linear_nodes: List[LinearBVHNode] = None, offset: int = 0) -> (List[LinearBVHNode], int):\n",
    "    \"\"\"\n",
    "    Flatten the recursive BVH tree into a list of LinearBVHNodes.\n",
    "\n",
    "    (Note: The primitives_offset field is not fully implemented here because\n",
    "    we assume you can store the leaf triangle indices separately.)\n",
    "    \"\"\"\n",
    "    if linear_nodes is None:\n",
    "        linear_nodes = []\n",
    "    current_index = offset\n",
    "    linear_node = LinearBVHNode(bounds=node.bounds,\n",
    "                                primitives_offset=-1,\n",
    "                                n_primitives=0,\n",
    "                                second_child_offset=-1,\n",
    "                                axis=node.split_axis if not node.leaf else -1)\n",
    "    linear_nodes.append(linear_node)\n",
    "    offset += 1\n",
    "    if node.leaf:\n",
    "        # In a full implementation you would record the offset into an ordered list.\n",
    "        linear_nodes[current_index].primitives_offset = 0  # placeholder\n",
    "        linear_nodes[current_index].n_primitives = int(node.prim_indices.shape[0])\n",
    "    else:\n",
    "        # Flatten left child first.\n",
    "        linear_nodes, offset = flatten_bvh(node.left, linear_nodes, offset)\n",
    "        # Record the start of the right child.\n",
    "        second_child_index = offset\n",
    "        linear_nodes, offset = flatten_bvh(node.right, linear_nodes, offset)\n",
    "        linear_nodes[current_index].second_child_offset = second_child_index\n",
    "    return linear_nodes, offset\n",
    "\n",
    "# =============================================================================\n",
    "# Ray, Intersection, and Ray–Triangle Intersection\n",
    "# =============================================================================\n",
    "@dataclass(frozen=True)\n",
    "class Ray:\n",
    "    origin: jnp.ndarray     #: shape (3,)\n",
    "    direction: jnp.ndarray  #: shape (3,)\n",
    "\n",
    "@dataclass\n",
    "class Intersection:\n",
    "    t: float = INF\n",
    "    prim_index: int = -1\n",
    "\n",
    "# A simple ray–triangle intersection routine.\n",
    "# (This uses a Möller–Trumbore–style test; you can replace it with your watertight method.)\n",
    "@jax.jit\n",
    "def ray_triangle_intersect(ray_origin: jnp.ndarray, ray_direction: jnp.ndarray,\n",
    "                           v0: jnp.ndarray, v1: jnp.ndarray, v2: jnp.ndarray,\n",
    "                           t_max: float = INF, epsilon: float = EPSILON) -> (bool, float):\n",
    "    edge1 = v1 - v0\n",
    "    edge2 = v2 - v0\n",
    "    h = jnp.cross(ray_direction, edge2)\n",
    "    a = jnp.dot(edge1, h)\n",
    "\n",
    "    def no_hit(_):\n",
    "        return False, t_max\n",
    "\n",
    "    def potential_hit(_):\n",
    "        f = 1.0 / a\n",
    "        s = ray_origin - v0\n",
    "        u = f * jnp.dot(s, h)\n",
    "        def reject_u(_):\n",
    "            return False, t_max\n",
    "        def accept_u(_):\n",
    "            q = jnp.cross(s, edge1)\n",
    "            v = f * jnp.dot(ray_direction, q)\n",
    "            def reject_v(_):\n",
    "                return False, t_max\n",
    "            def accept_v(_):\n",
    "                t_candidate = f * jnp.dot(edge2, q)\n",
    "                hit_cond = (t_candidate > epsilon) & (u >= 0.0) & (v >= 0.0) & ((u + v) <= 1.0)\n",
    "                def hit_true(_):\n",
    "                    return True, t_candidate\n",
    "                def hit_false(_):\n",
    "                    return False, t_max\n",
    "                return jax.lax.cond(hit_cond, hit_true, hit_false, operand=None)\n",
    "            return jax.lax.cond((u < 0.0) | (u > 1.0), reject_u, accept_u, operand=None)\n",
    "        return jax.lax.cond(jnp.abs(a) < epsilon, no_hit, potential_hit, operand=None)\n",
    "    return potential_hit(None)\n",
    "\n",
    "# =============================================================================\n",
    "# BVH Traversal for Ray Intersection\n",
    "# =============================================================================\n",
    "def intersect_bvh(ray: Ray, bvh_root: BVHNode, triangles: dict) -> Intersection:\n",
    "    \"\"\"\n",
    "    Traverse the BVH recursively (in Python) and find the closest triangle hit.\n",
    "\n",
    "    `triangles` is a dictionary containing keys \"vertex_1\", \"vertex_2\", \"vertex_3\"\n",
    "    (each a JAX array of shape (N,3)).\n",
    "    \"\"\"\n",
    "    closest = Intersection(t=INF, prim_index=-1)\n",
    "\n",
    "    def traverse(node: BVHNode, ray: Ray, closest: Intersection) -> Intersection:\n",
    "        if not aabb_intersect(node.bounds, ray.origin, ray.direction):\n",
    "            return closest\n",
    "        if node.leaf:\n",
    "            # For each triangle in the leaf, test intersection.\n",
    "            for idx in node.prim_indices:\n",
    "                v0 = triangles[\"vertex_1\"][idx]\n",
    "                v1 = triangles[\"vertex_2\"][idx]\n",
    "                v2 = triangles[\"vertex_3\"][idx]\n",
    "                hit, t_candidate = ray_triangle_intersect(ray.origin, ray.direction, v0, v1, v2)\n",
    "                if hit and t_candidate < closest.t:\n",
    "                    closest = Intersection(t=t_candidate, prim_index=int(idx))\n",
    "            return closest\n",
    "        else:\n",
    "            closest = traverse(node.left, ray, closest)\n",
    "            closest = traverse(node.right, ray, closest)\n",
    "            return closest\n",
    "\n",
    "    return traverse(bvh_root, ray, closest)\n",
    "\n",
    "# =============================================================================\n",
    "# Utility: Create a BVH from Triangle Data (as loaded via your io.py)\n",
    "# =============================================================================\n",
    "def create_bvh_from_triangles(triangles: dict, max_prims_in_node: int = 4) -> BVHNode:\n",
    "    \"\"\"\n",
    "    Given a dictionary of triangle arrays (each of shape (N,3)), build the BVH.\n",
    "    \"\"\"\n",
    "    n = triangles[\"vertex_1\"].shape[0]\n",
    "    bvh_primitives = []\n",
    "    for i in range(n):\n",
    "        v0 = triangles[\"vertex_1\"][i]\n",
    "        v1 = triangles[\"vertex_2\"][i]\n",
    "        v2 = triangles[\"vertex_3\"][i]\n",
    "        # Compute the triangle’s AABB.\n",
    "        min_point = jnp.minimum(jnp.minimum(v0, v1), v2)\n",
    "        max_point = jnp.maximum(jnp.maximum(v0, v1), v2)\n",
    "        centroid = (v0 + v1 + v2) / 3.0\n",
    "        bounds = AABB(min_point, max_point, centroid)\n",
    "        bvh_primitives.append(BVHPrimitive(bounds=bounds, prim_index=i))\n",
    "    return build_bvh(bvh_primitives, max_prims_in_node)\n",
    "\n",
    "# =============================================================================\n",
    "# Example Usage\n",
    "# =============================================================================\n",
    "\n",
    "# For demonstration, we build a simple scene with two triangles.\n",
    "# (In practice, you would load your triangle data from an OBJ file via your io.py.)\n",
    "triangles = {\n",
    "    \"vertex_1\": jnp.array([[0.0, 0.0, 0.0],\n",
    "                             [1.0, 0.0, 0.0]]),\n",
    "    \"vertex_2\": jnp.array([[0.0, 1.0, 0.0],\n",
    "                             [1.0, 1.0, 0.0]]),\n",
    "    \"vertex_3\": jnp.array([[0.0, 0.0, 1.0],\n",
    "                             [1.0, 0.0, 1.0]])\n",
    "}\n",
    "# Build the BVH from the triangles.\n",
    "bvh_root = create_bvh_from_triangles(triangles, max_prims_in_node=1)\n",
    "\n",
    "# Create a ray that will hit one of the triangles.\n",
    "ray = Ray(origin=jnp.array([0.5, 0.5, -1.0]),\n",
    "          direction=jnp.array([0.0, 0.0, 1.0]))\n",
    "\n",
    "# Traverse the BVH to find an intersection.\n",
    "intersection = intersect_bvh(ray, bvh_root, triangles)\n",
    "print(\"Intersection result:\", intersection)\n"
   ],
   "metadata": {
    "collapsed": false,
    "ExecuteTime": {
     "end_time": "2025-02-11T07:15:06.208071Z",
     "start_time": "2025-02-11T07:15:05.124047Z"
    }
   }
  },
  {
   "cell_type": "code",
   "execution_count": 2,
   "outputs": [],
   "source": [
    "import jax\n",
    "import jax.numpy as jnp\n",
    "from utils.io import load_obj, create_triangle_arrays"
   ],
   "metadata": {
    "collapsed": false,
    "ExecuteTime": {
     "end_time": "2025-02-11T07:15:47.942581Z",
     "start_time": "2025-02-11T07:15:47.939751Z"
    }
   }
  },
  {
   "cell_type": "code",
   "execution_count": 3,
   "outputs": [],
   "source": [
    "square_path = \"objects/square.obj\"\n",
    "sphere_path = \"objects/sphere.obj\"\n",
    "cube_path = \"objects/cube.obj\"\n",
    "cylinder_path = \"objects/cylinder.obj\"\n",
    "rabbit = \"objects/rabbit.obj\"\n",
    "carrot = \"objects/carrot.obj\"\n",
    "plane = \"objects/plane.obj\"\n",
    "squirrel = \"objects/squirrel.obj\"\n",
    "tree = \"objects/broad_deciduous_tree_green_leaves.obj\"\n",
    "ant = \"objects/ant.obj\"\n",
    "fireball = \"objects/fireball.obj\"\n",
    "dragon = \"objects/dragon.obj\"\n",
    "crawler = \"objects/crawler.obj\"\n",
    "\n",
    "\n",
    "file_path = cube_path"
   ],
   "metadata": {
    "collapsed": false,
    "ExecuteTime": {
     "end_time": "2025-02-11T07:15:48.553869Z",
     "start_time": "2025-02-11T07:15:48.548864Z"
    }
   }
  },
  {
   "cell_type": "code",
   "execution_count": 4,
   "outputs": [
    {
     "data": {
      "text/plain": "{'vertex_1': Array([[ 1.      , -1.      ,  1.      ],\n        [-1.      ,  1.      , -1.      ],\n        [ 1.      ,  1.      , -0.999999],\n        [ 0.999999,  1.      ,  1.000001],\n        [-1.      , -1.      ,  1.      ],\n        [ 1.      , -1.      , -1.      ],\n        [ 1.      , -1.      , -1.      ],\n        [ 1.      ,  1.      , -0.999999],\n        [ 1.      , -1.      , -1.      ],\n        [ 1.      , -1.      ,  1.      ],\n        [-1.      , -1.      , -1.      ],\n        [ 1.      ,  1.      , -0.999999]], dtype=float32),\n 'vertex_2': Array([[-1.      , -1.      ,  1.      ],\n        [-1.      ,  1.      ,  1.      ],\n        [ 0.999999,  1.      ,  1.000001],\n        [-1.      ,  1.      ,  1.      ],\n        [-1.      ,  1.      ,  1.      ],\n        [-1.      , -1.      , -1.      ],\n        [ 1.      , -1.      ,  1.      ],\n        [-1.      ,  1.      , -1.      ],\n        [ 1.      ,  1.      , -0.999999],\n        [ 0.999999,  1.      ,  1.000001],\n        [-1.      , -1.      ,  1.      ],\n        [ 1.      , -1.      , -1.      ]], dtype=float32),\n 'vertex_3': Array([[-1.      , -1.      , -1.      ],\n        [ 0.999999,  1.      ,  1.000001],\n        [ 1.      , -1.      ,  1.      ],\n        [-1.      , -1.      ,  1.      ],\n        [-1.      ,  1.      , -1.      ],\n        [-1.      ,  1.      , -1.      ],\n        [-1.      , -1.      , -1.      ],\n        [ 0.999999,  1.      ,  1.000001],\n        [ 1.      , -1.      ,  1.      ],\n        [-1.      , -1.      ,  1.      ],\n        [-1.      ,  1.      , -1.      ],\n        [-1.      ,  1.      , -1.      ]], dtype=float32),\n 'centroid': Array([[-0.33333334, -1.        ,  0.33333334],\n        [-0.33333364,  1.        ,  0.33333364],\n        [ 0.9999997 ,  0.33333334,  0.33333397],\n        [-0.33333364,  0.33333334,  1.0000004 ],\n        [-1.        ,  0.33333334,  0.33333334],\n        [-0.33333334, -0.33333334, -1.        ],\n        [ 0.33333334, -1.        , -0.33333334],\n        [ 0.333333  ,  1.        , -0.3333327 ],\n        [ 1.        , -0.33333334, -0.33333302],\n        [ 0.33333302, -0.33333334,  1.0000004 ],\n        [-1.        , -0.33333334, -0.33333334],\n        [ 0.33333334,  0.33333334, -0.9999997 ]], dtype=float32),\n 'normal': Array([[-0.0000000e+00, -1.0000000e+00,  0.0000000e+00],\n        [ 0.0000000e+00,  1.0000000e+00,  0.0000000e+00],\n        [ 1.0000000e+00,  5.0663925e-07,  5.0663948e-07],\n        [-4.7683739e-07,  0.0000000e+00,  1.0000000e+00],\n        [-1.0000000e+00,  0.0000000e+00,  0.0000000e+00],\n        [ 0.0000000e+00,  0.0000000e+00, -1.0000000e+00],\n        [ 0.0000000e+00, -1.0000000e+00,  0.0000000e+00],\n        [ 0.0000000e+00,  1.0000000e+00,  0.0000000e+00],\n        [ 1.0000000e+00,  0.0000000e+00,  0.0000000e+00],\n        [ 0.0000000e+00, -4.7683716e-07,  1.0000000e+00],\n        [-1.0000000e+00,  0.0000000e+00,  0.0000000e+00],\n        [ 5.0663948e-07,  5.0663948e-07, -1.0000000e+00]], dtype=float32),\n 'edge_1': Array([[-2.000000e+00,  0.000000e+00,  0.000000e+00],\n        [ 0.000000e+00,  0.000000e+00,  2.000000e+00],\n        [-1.013279e-06,  0.000000e+00,  2.000000e+00],\n        [-1.999999e+00,  0.000000e+00, -9.536743e-07],\n        [ 0.000000e+00,  2.000000e+00,  0.000000e+00],\n        [-2.000000e+00,  0.000000e+00,  0.000000e+00],\n        [ 0.000000e+00,  0.000000e+00,  2.000000e+00],\n        [-2.000000e+00,  0.000000e+00, -1.013279e-06],\n        [ 0.000000e+00,  2.000000e+00,  1.013279e-06],\n        [-1.013279e-06,  2.000000e+00,  9.536743e-07],\n        [ 0.000000e+00,  0.000000e+00,  2.000000e+00],\n        [ 0.000000e+00, -2.000000e+00, -1.013279e-06]], dtype=float32),\n 'edge_2': Array([[-2.000000e+00,  0.000000e+00, -2.000000e+00],\n        [ 1.999999e+00,  0.000000e+00,  2.000001e+00],\n        [ 0.000000e+00, -2.000000e+00,  1.999999e+00],\n        [-1.999999e+00, -2.000000e+00, -9.536743e-07],\n        [ 0.000000e+00,  2.000000e+00, -2.000000e+00],\n        [-2.000000e+00,  2.000000e+00,  0.000000e+00],\n        [-2.000000e+00,  0.000000e+00,  0.000000e+00],\n        [-1.013279e-06,  0.000000e+00,  2.000000e+00],\n        [ 0.000000e+00,  0.000000e+00,  2.000000e+00],\n        [-2.000000e+00,  0.000000e+00,  0.000000e+00],\n        [ 0.000000e+00,  2.000000e+00,  0.000000e+00],\n        [-2.000000e+00,  0.000000e+00, -1.013279e-06]], dtype=float32)}"
     },
     "execution_count": 4,
     "metadata": {},
     "output_type": "execute_result"
    }
   ],
   "source": [
    "vertices, faces = load_obj(file_path)\n",
    "primitives = create_triangle_arrays(vertices, faces)\n",
    "primitives"
   ],
   "metadata": {
    "collapsed": false,
    "ExecuteTime": {
     "end_time": "2025-02-11T07:15:53.183124Z",
     "start_time": "2025-02-11T07:15:52.826971Z"
    }
   }
  },
  {
   "cell_type": "code",
   "execution_count": 5,
   "outputs": [
    {
     "name": "stdout",
     "output_type": "stream",
     "text": [
      "Intersection result: Intersection(t=10000000000.0, prim_index=-1)\n"
     ]
    }
   ],
   "source": [
    "# Build the BVH from the triangles.\n",
    "bvh_root = create_bvh_from_triangles(triangles, max_prims_in_node=1)\n",
    "\n",
    "# Create a ray that will hit one of the triangles.\n",
    "ray = Ray(origin=jnp.array([0.5, 0.5, -1.0]),\n",
    "          direction=jnp.array([0.0, 0.0, 1.0]))\n",
    "\n",
    "# Traverse the BVH to find an intersection.\n",
    "intersection = intersect_bvh(ray, bvh_root, triangles)\n",
    "print(\"Intersection result:\", intersection)"
   ],
   "metadata": {
    "collapsed": false,
    "ExecuteTime": {
     "end_time": "2025-02-11T07:16:10.432966Z",
     "start_time": "2025-02-11T07:16:10.422542Z"
    }
   }
  },
  {
   "cell_type": "code",
   "execution_count": 17,
   "outputs": [],
   "source": [
    "bboxes_dict = init_bounded_boxes_from_dict(primitives)"
   ],
   "metadata": {
    "collapsed": false,
    "ExecuteTime": {
     "end_time": "2025-02-09T22:44:10.786874Z",
     "start_time": "2025-02-09T22:44:10.781972Z"
    }
   }
  },
  {
   "cell_type": "code",
   "execution_count": 18,
   "outputs": [],
   "source": [
    "bounded_list = convert_dict_to_list(bboxes_dict)"
   ],
   "metadata": {
    "collapsed": false,
    "ExecuteTime": {
     "end_time": "2025-02-09T22:44:28.246749Z",
     "start_time": "2025-02-09T22:44:28.235339Z"
    }
   }
  },
  {
   "cell_type": "code",
   "execution_count": 19,
   "outputs": [
    {
     "ename": "KeyError",
     "evalue": "0",
     "output_type": "error",
     "traceback": [
      "\u001B[0;31m---------------------------------------------------------------------------\u001B[0m",
      "\u001B[0;31mKeyError\u001B[0m                                  Traceback (most recent call last)",
      "Cell \u001B[0;32mIn[19], line 3\u001B[0m\n\u001B[1;32m      1\u001B[0m total_nodes \u001B[38;5;241m=\u001B[39m [\u001B[38;5;241m0\u001B[39m]  \u001B[38;5;66;03m# mutable integer\u001B[39;00m\n\u001B[1;32m      2\u001B[0m ordered_prims \u001B[38;5;241m=\u001B[39m []\n\u001B[0;32m----> 3\u001B[0m root \u001B[38;5;241m=\u001B[39m \u001B[43mbuild_bvh_tree\u001B[49m\u001B[43m(\u001B[49m\u001B[43mprimitives\u001B[49m\u001B[43m,\u001B[49m\u001B[43m \u001B[49m\u001B[43mbounded_list\u001B[49m\u001B[43m,\u001B[49m\u001B[43m \u001B[49m\u001B[38;5;241;43m0\u001B[39;49m\u001B[43m,\u001B[49m\u001B[43m \u001B[49m\u001B[38;5;28;43mlen\u001B[39;49m\u001B[43m(\u001B[49m\u001B[43mbounded_list\u001B[49m\u001B[43m)\u001B[49m\u001B[43m,\u001B[49m\n\u001B[1;32m      4\u001B[0m \u001B[43m                      \u001B[49m\u001B[43mordered_prims\u001B[49m\u001B[43m,\u001B[49m\u001B[43m \u001B[49m\u001B[43mtotal_nodes\u001B[49m\u001B[43m,\u001B[49m\u001B[43m \u001B[49m\u001B[43msplit_method\u001B[49m\u001B[38;5;241;43m=\u001B[39;49m\u001B[38;5;241;43m0\u001B[39;49m\u001B[43m)\u001B[49m\n",
      "Cell \u001B[0;32mIn[13], line 113\u001B[0m, in \u001B[0;36mbuild_bvh_tree\u001B[0;34m(primitives, bounded_list, start, end, ordered_prims, total_nodes, split_method)\u001B[0m\n\u001B[1;32m    111\u001B[0m     \u001B[38;5;28;01mfor\u001B[39;00m i \u001B[38;5;129;01min\u001B[39;00m \u001B[38;5;28mrange\u001B[39m(start_, end_):\n\u001B[1;32m    112\u001B[0m         prim_idx \u001B[38;5;241m=\u001B[39m bounded_list[i]\u001B[38;5;241m.\u001B[39mprim_num\n\u001B[0;32m--> 113\u001B[0m         ordered_prims\u001B[38;5;241m.\u001B[39mappend(\u001B[43mprimitives\u001B[49m\u001B[43m[\u001B[49m\u001B[43mprim_idx\u001B[49m\u001B[43m]\u001B[49m)\n\u001B[1;32m    114\u001B[0m     node\u001B[38;5;241m.\u001B[39minit_leaf(first_offset, n_prims, bounds)\n\u001B[1;32m    116\u001B[0m \u001B[38;5;28;01melse\u001B[39;00m:\n\u001B[1;32m    117\u001B[0m     \u001B[38;5;66;03m# Compute centroid bounds\u001B[39;00m\n",
      "\u001B[0;31mKeyError\u001B[0m: 0"
     ]
    }
   ],
   "source": [
    "total_nodes = [0]  # mutable integer\n",
    "ordered_prims = []\n",
    "root = build_bvh_tree(primitives, bounded_list, 0, len(bounded_list),\n",
    "                      ordered_prims, total_nodes, split_method=0)\n"
   ],
   "metadata": {
    "collapsed": false,
    "ExecuteTime": {
     "end_time": "2025-02-09T22:44:43.578229Z",
     "start_time": "2025-02-09T22:44:43.189997Z"
    }
   }
  },
  {
   "cell_type": "code",
   "execution_count": null,
   "outputs": [],
   "source": [],
   "metadata": {
    "collapsed": false
   }
  }
 ],
 "metadata": {
  "kernelspec": {
   "display_name": "Python 3",
   "language": "python",
   "name": "python3"
  },
  "language_info": {
   "codemirror_mode": {
    "name": "ipython",
    "version": 2
   },
   "file_extension": ".py",
   "mimetype": "text/x-python",
   "name": "python",
   "nbconvert_exporter": "python",
   "pygments_lexer": "ipython2",
   "version": "2.7.6"
  }
 },
 "nbformat": 4,
 "nbformat_minor": 0
}
